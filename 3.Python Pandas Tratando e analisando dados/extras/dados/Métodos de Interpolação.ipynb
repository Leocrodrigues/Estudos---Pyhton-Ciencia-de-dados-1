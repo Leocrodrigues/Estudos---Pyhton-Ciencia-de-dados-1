{
 "cells": [
  {
   "cell_type": "code",
   "execution_count": 1,
   "id": "8ee3024d",
   "metadata": {},
   "outputs": [],
   "source": [
    "# importando biblioteca\n",
    "import pandas as pd"
   ]
  },
  {
   "cell_type": "code",
   "execution_count": 2,
   "id": "9260436b",
   "metadata": {},
   "outputs": [],
   "source": [
    "# Criando uma Series\n",
    "data =  [0.5, None, None, None, 0.52, 0.54, None, None, 0.59, 0.6, None, 0.7]\n",
    "s = pd.Series(data)"
   ]
  },
  {
   "cell_type": "code",
   "execution_count": 3,
   "id": "7f6baf37",
   "metadata": {},
   "outputs": [
    {
     "data": {
      "text/plain": [
       "0     0.50\n",
       "1      NaN\n",
       "2      NaN\n",
       "3      NaN\n",
       "4     0.52\n",
       "5     0.54\n",
       "6      NaN\n",
       "7      NaN\n",
       "8     0.59\n",
       "9     0.60\n",
       "10     NaN\n",
       "11    0.70\n",
       "dtype: float64"
      ]
     },
     "execution_count": 3,
     "metadata": {},
     "output_type": "execute_result"
    }
   ],
   "source": [
    "s"
   ]
  },
  {
   "cell_type": "code",
   "execution_count": 4,
   "id": "c918cd84",
   "metadata": {},
   "outputs": [
    {
     "data": {
      "text/plain": [
       "0     0.50\n",
       "1     0.00\n",
       "2     0.00\n",
       "3     0.00\n",
       "4     0.52\n",
       "5     0.54\n",
       "6     0.00\n",
       "7     0.00\n",
       "8     0.59\n",
       "9     0.60\n",
       "10    0.00\n",
       "11    0.70\n",
       "dtype: float64"
      ]
     },
     "execution_count": 4,
     "metadata": {},
     "output_type": "execute_result"
    }
   ],
   "source": [
    "s.fillna(0)"
   ]
  },
  {
   "cell_type": "code",
   "execution_count": 5,
   "id": "13b14709",
   "metadata": {},
   "outputs": [
    {
     "data": {
      "text/plain": [
       "0     0.50\n",
       "1     0.50\n",
       "2     0.50\n",
       "3     0.50\n",
       "4     0.52\n",
       "5     0.54\n",
       "6     0.54\n",
       "7     0.54\n",
       "8     0.59\n",
       "9     0.60\n",
       "10    0.60\n",
       "11    0.70\n",
       "dtype: float64"
      ]
     },
     "execution_count": 5,
     "metadata": {},
     "output_type": "execute_result"
    }
   ],
   "source": [
    "# Metodo ffill pega o valor anterior e se o proximo for nulo ele preenche com esse valores anterior\n",
    "s.fillna(method = 'ffill')"
   ]
  },
  {
   "cell_type": "code",
   "execution_count": 6,
   "id": "2b2acdc6",
   "metadata": {},
   "outputs": [
    {
     "data": {
      "text/plain": [
       "0     0.50\n",
       "1      NaN\n",
       "2      NaN\n",
       "3      NaN\n",
       "4     0.52\n",
       "5     0.54\n",
       "6      NaN\n",
       "7      NaN\n",
       "8     0.59\n",
       "9     0.60\n",
       "10     NaN\n",
       "11    0.70\n",
       "dtype: float64"
      ]
     },
     "execution_count": 6,
     "metadata": {},
     "output_type": "execute_result"
    }
   ],
   "source": [
    "s"
   ]
  },
  {
   "cell_type": "code",
   "execution_count": 7,
   "id": "a7d48162",
   "metadata": {},
   "outputs": [
    {
     "data": {
      "text/plain": [
       "0     0.50\n",
       "1     0.52\n",
       "2     0.52\n",
       "3     0.52\n",
       "4     0.52\n",
       "5     0.54\n",
       "6     0.59\n",
       "7     0.59\n",
       "8     0.59\n",
       "9     0.60\n",
       "10    0.70\n",
       "11    0.70\n",
       "dtype: float64"
      ]
     },
     "execution_count": 7,
     "metadata": {},
     "output_type": "execute_result"
    }
   ],
   "source": [
    "# bfill faz o mesmo processo que o ffill, pporém de baixo p cima\n",
    "s.fillna(method = 'bfill')"
   ]
  },
  {
   "cell_type": "code",
   "execution_count": 8,
   "id": "7ea82f95",
   "metadata": {},
   "outputs": [
    {
     "data": {
      "text/plain": [
       "0     0.500\n",
       "1     0.575\n",
       "2     0.575\n",
       "3     0.575\n",
       "4     0.520\n",
       "5     0.540\n",
       "6     0.575\n",
       "7     0.575\n",
       "8     0.590\n",
       "9     0.600\n",
       "10    0.575\n",
       "11    0.700\n",
       "dtype: float64"
      ]
     },
     "execution_count": 8,
     "metadata": {},
     "output_type": "execute_result"
    }
   ],
   "source": [
    "# preenchendo os valores nulos com a media \n",
    "s.fillna(s.mean())"
   ]
  },
  {
   "cell_type": "code",
   "execution_count": 18,
   "id": "e3b60719",
   "metadata": {},
   "outputs": [
    {
     "data": {
      "text/plain": [
       "0     0.50\n",
       "1      NaN\n",
       "2      NaN\n",
       "3      NaN\n",
       "4     0.52\n",
       "5     0.54\n",
       "6      NaN\n",
       "7      NaN\n",
       "8     0.59\n",
       "9     0.60\n",
       "10     NaN\n",
       "11    0.70\n",
       "dtype: float64"
      ]
     },
     "execution_count": 18,
     "metadata": {},
     "output_type": "execute_result"
    }
   ],
   "source": [
    "s"
   ]
  },
  {
   "cell_type": "code",
   "execution_count": 19,
   "id": "6a83ee5f",
   "metadata": {},
   "outputs": [],
   "source": [
    "# Fazendo metodo ffill porem uma unica vez\n",
    "s1 = s.fillna(method = 'ffill', limit = 1)"
   ]
  },
  {
   "cell_type": "code",
   "execution_count": 20,
   "id": "aba9a5c7",
   "metadata": {},
   "outputs": [
    {
     "data": {
      "text/plain": [
       "0     0.50\n",
       "1     0.50\n",
       "2      NaN\n",
       "3      NaN\n",
       "4     0.52\n",
       "5     0.54\n",
       "6     0.54\n",
       "7      NaN\n",
       "8     0.59\n",
       "9     0.60\n",
       "10    0.60\n",
       "11    0.70\n",
       "dtype: float64"
      ]
     },
     "execution_count": 20,
     "metadata": {},
     "output_type": "execute_result"
    }
   ],
   "source": [
    "s1"
   ]
  },
  {
   "cell_type": "code",
   "execution_count": 22,
   "id": "b2552613",
   "metadata": {},
   "outputs": [
    {
     "data": {
      "text/plain": [
       "0     0.50\n",
       "1     0.50\n",
       "2      NaN\n",
       "3     0.52\n",
       "4     0.52\n",
       "5     0.54\n",
       "6     0.54\n",
       "7     0.59\n",
       "8     0.59\n",
       "9     0.60\n",
       "10    0.60\n",
       "11    0.70\n",
       "dtype: float64"
      ]
     },
     "execution_count": 22,
     "metadata": {},
     "output_type": "execute_result"
    }
   ],
   "source": [
    "s1.fillna(method = 'bfill', limit = 1)"
   ]
  },
  {
   "cell_type": "code",
   "execution_count": null,
   "id": "87f02b4c",
   "metadata": {},
   "outputs": [],
   "source": []
  }
 ],
 "metadata": {
  "kernelspec": {
   "display_name": "Python 3",
   "language": "python",
   "name": "python3"
  },
  "language_info": {
   "codemirror_mode": {
    "name": "ipython",
    "version": 3
   },
   "file_extension": ".py",
   "mimetype": "text/x-python",
   "name": "python",
   "nbconvert_exporter": "python",
   "pygments_lexer": "ipython3",
   "version": "3.8.8"
  }
 },
 "nbformat": 4,
 "nbformat_minor": 5
}
