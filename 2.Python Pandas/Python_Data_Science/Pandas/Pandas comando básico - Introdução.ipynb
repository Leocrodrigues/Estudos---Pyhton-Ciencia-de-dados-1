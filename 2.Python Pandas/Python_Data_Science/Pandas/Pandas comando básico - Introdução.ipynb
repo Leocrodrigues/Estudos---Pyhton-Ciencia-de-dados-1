{
 "cells": [
  {
   "cell_type": "markdown",
   "id": "8f80250c",
   "metadata": {},
   "source": [
    "# Trabalhando com dados"
   ]
  },
  {
   "cell_type": "code",
   "execution_count": 1,
   "id": "77892afc",
   "metadata": {},
   "outputs": [],
   "source": [
    "# Importando bilbioteca\n",
    "import pandas as pd"
   ]
  },
  {
   "cell_type": "code",
   "execution_count": 2,
   "id": "19e59252",
   "metadata": {},
   "outputs": [],
   "source": [
    "# mostrando todas as linhas\n",
    "# pd.set_option('display.max_rowns', 1000)\n",
    "# mostrando todas as colunas\n",
    "# pd.set_option('display.max_columns', 300)"
   ]
  },
  {
   "cell_type": "code",
   "execution_count": 3,
   "id": "0dc20e26",
   "metadata": {
    "scrolled": false
   },
   "outputs": [
    {
     "data": {
      "text/html": [
       "<div>\n",
       "<style scoped>\n",
       "    .dataframe tbody tr th:only-of-type {\n",
       "        vertical-align: middle;\n",
       "    }\n",
       "\n",
       "    .dataframe tbody tr th {\n",
       "        vertical-align: top;\n",
       "    }\n",
       "\n",
       "    .dataframe thead th {\n",
       "        text-align: right;\n",
       "    }\n",
       "</style>\n",
       "<table border=\"1\" class=\"dataframe\">\n",
       "  <thead>\n",
       "    <tr style=\"text-align: right;\">\n",
       "      <th></th>\n",
       "      <th>Nome</th>\n",
       "      <th>Motor</th>\n",
       "      <th>Ano</th>\n",
       "      <th>Quilometragem</th>\n",
       "      <th>Zero_km</th>\n",
       "      <th>Acessórios</th>\n",
       "      <th>Valor</th>\n",
       "    </tr>\n",
       "  </thead>\n",
       "  <tbody>\n",
       "    <tr>\n",
       "      <th>0</th>\n",
       "      <td>Jetta Variant</td>\n",
       "      <td>Motor 4.0 Turbo</td>\n",
       "      <td>2003</td>\n",
       "      <td>44410.0</td>\n",
       "      <td>False</td>\n",
       "      <td>['Rodas de liga', 'Travas elétricas', 'Piloto ...</td>\n",
       "      <td>88078.64</td>\n",
       "    </tr>\n",
       "    <tr>\n",
       "      <th>1</th>\n",
       "      <td>Passat</td>\n",
       "      <td>Motor Diesel</td>\n",
       "      <td>1991</td>\n",
       "      <td>5712.0</td>\n",
       "      <td>False</td>\n",
       "      <td>['Central multimídia', 'Teto panorâmico', 'Fre...</td>\n",
       "      <td>106161.94</td>\n",
       "    </tr>\n",
       "    <tr>\n",
       "      <th>2</th>\n",
       "      <td>Crossfox</td>\n",
       "      <td>Motor Diesel V8</td>\n",
       "      <td>1990</td>\n",
       "      <td>37123.0</td>\n",
       "      <td>False</td>\n",
       "      <td>['Piloto automático', 'Controle de estabilidad...</td>\n",
       "      <td>72832.16</td>\n",
       "    </tr>\n",
       "    <tr>\n",
       "      <th>3</th>\n",
       "      <td>DS5</td>\n",
       "      <td>Motor 2.4 Turbo</td>\n",
       "      <td>2019</td>\n",
       "      <td>NaN</td>\n",
       "      <td>True</td>\n",
       "      <td>['Travas elétricas', '4 X 4', 'Vidros elétrico...</td>\n",
       "      <td>124549.07</td>\n",
       "    </tr>\n",
       "    <tr>\n",
       "      <th>4</th>\n",
       "      <td>Aston Martin DB4</td>\n",
       "      <td>Motor 2.4 Turbo</td>\n",
       "      <td>2006</td>\n",
       "      <td>25757.0</td>\n",
       "      <td>False</td>\n",
       "      <td>['Rodas de liga', '4 X 4', 'Central multimídia...</td>\n",
       "      <td>92612.10</td>\n",
       "    </tr>\n",
       "    <tr>\n",
       "      <th>...</th>\n",
       "      <td>...</td>\n",
       "      <td>...</td>\n",
       "      <td>...</td>\n",
       "      <td>...</td>\n",
       "      <td>...</td>\n",
       "      <td>...</td>\n",
       "      <td>...</td>\n",
       "    </tr>\n",
       "    <tr>\n",
       "      <th>253</th>\n",
       "      <td>Phantom 2013</td>\n",
       "      <td>Motor V8</td>\n",
       "      <td>2014</td>\n",
       "      <td>27505.0</td>\n",
       "      <td>False</td>\n",
       "      <td>['Controle de estabilidade', 'Piloto automátic...</td>\n",
       "      <td>51759.58</td>\n",
       "    </tr>\n",
       "    <tr>\n",
       "      <th>254</th>\n",
       "      <td>Cadillac Ciel concept</td>\n",
       "      <td>Motor V8</td>\n",
       "      <td>1991</td>\n",
       "      <td>29981.0</td>\n",
       "      <td>False</td>\n",
       "      <td>['Bancos de couro', 'Painel digital', 'Sensor ...</td>\n",
       "      <td>51667.06</td>\n",
       "    </tr>\n",
       "    <tr>\n",
       "      <th>255</th>\n",
       "      <td>Classe GLK</td>\n",
       "      <td>Motor 5.0 V8 Bi-Turbo</td>\n",
       "      <td>2002</td>\n",
       "      <td>52637.0</td>\n",
       "      <td>False</td>\n",
       "      <td>['Rodas de liga', 'Controle de tração', 'Câmbi...</td>\n",
       "      <td>68934.03</td>\n",
       "    </tr>\n",
       "    <tr>\n",
       "      <th>256</th>\n",
       "      <td>Aston Martin DB5</td>\n",
       "      <td>Motor Diesel</td>\n",
       "      <td>1996</td>\n",
       "      <td>7685.0</td>\n",
       "      <td>False</td>\n",
       "      <td>['Ar condicionado', '4 X 4', 'Câmbio automátic...</td>\n",
       "      <td>122110.90</td>\n",
       "    </tr>\n",
       "    <tr>\n",
       "      <th>257</th>\n",
       "      <td>Macan</td>\n",
       "      <td>Motor Diesel V6</td>\n",
       "      <td>1992</td>\n",
       "      <td>50188.0</td>\n",
       "      <td>False</td>\n",
       "      <td>['Central multimídia', 'Teto panorâmico', 'Vid...</td>\n",
       "      <td>90381.47</td>\n",
       "    </tr>\n",
       "  </tbody>\n",
       "</table>\n",
       "<p>258 rows × 7 columns</p>\n",
       "</div>"
      ],
      "text/plain": [
       "                      Nome                  Motor   Ano  Quilometragem  \\\n",
       "0            Jetta Variant        Motor 4.0 Turbo  2003        44410.0   \n",
       "1                   Passat           Motor Diesel  1991         5712.0   \n",
       "2                 Crossfox        Motor Diesel V8  1990        37123.0   \n",
       "3                      DS5        Motor 2.4 Turbo  2019            NaN   \n",
       "4         Aston Martin DB4        Motor 2.4 Turbo  2006        25757.0   \n",
       "..                     ...                    ...   ...            ...   \n",
       "253           Phantom 2013               Motor V8  2014        27505.0   \n",
       "254  Cadillac Ciel concept               Motor V8  1991        29981.0   \n",
       "255             Classe GLK  Motor 5.0 V8 Bi-Turbo  2002        52637.0   \n",
       "256       Aston Martin DB5           Motor Diesel  1996         7685.0   \n",
       "257                  Macan        Motor Diesel V6  1992        50188.0   \n",
       "\n",
       "     Zero_km                                         Acessórios      Valor  \n",
       "0      False  ['Rodas de liga', 'Travas elétricas', 'Piloto ...   88078.64  \n",
       "1      False  ['Central multimídia', 'Teto panorâmico', 'Fre...  106161.94  \n",
       "2      False  ['Piloto automático', 'Controle de estabilidad...   72832.16  \n",
       "3       True  ['Travas elétricas', '4 X 4', 'Vidros elétrico...  124549.07  \n",
       "4      False  ['Rodas de liga', '4 X 4', 'Central multimídia...   92612.10  \n",
       "..       ...                                                ...        ...  \n",
       "253    False  ['Controle de estabilidade', 'Piloto automátic...   51759.58  \n",
       "254    False  ['Bancos de couro', 'Painel digital', 'Sensor ...   51667.06  \n",
       "255    False  ['Rodas de liga', 'Controle de tração', 'Câmbi...   68934.03  \n",
       "256    False  ['Ar condicionado', '4 X 4', 'Câmbio automátic...  122110.90  \n",
       "257    False  ['Central multimídia', 'Teto panorâmico', 'Vid...   90381.47  \n",
       "\n",
       "[258 rows x 7 columns]"
      ]
     },
     "execution_count": 3,
     "metadata": {},
     "output_type": "execute_result"
    }
   ],
   "source": [
    "# Importando dataset\n",
    "dataset = pd.read_csv(\"db.csv\", sep = ';')\n",
    "dataset"
   ]
  },
  {
   "cell_type": "code",
   "execution_count": 4,
   "id": "954913b1",
   "metadata": {},
   "outputs": [
    {
     "data": {
      "text/plain": [
       "Nome              object\n",
       "Motor             object\n",
       "Ano                int64\n",
       "Quilometragem    float64\n",
       "Zero_km             bool\n",
       "Acessórios        object\n",
       "Valor            float64\n",
       "dtype: object"
      ]
     },
     "execution_count": 4,
     "metadata": {},
     "output_type": "execute_result"
    }
   ],
   "source": [
    "dataset.dtypes"
   ]
  },
  {
   "cell_type": "code",
   "execution_count": 5,
   "id": "31ffc35d",
   "metadata": {},
   "outputs": [
    {
     "data": {
      "text/html": [
       "<div>\n",
       "<style scoped>\n",
       "    .dataframe tbody tr th:only-of-type {\n",
       "        vertical-align: middle;\n",
       "    }\n",
       "\n",
       "    .dataframe tbody tr th {\n",
       "        vertical-align: top;\n",
       "    }\n",
       "\n",
       "    .dataframe thead th {\n",
       "        text-align: right;\n",
       "    }\n",
       "</style>\n",
       "<table border=\"1\" class=\"dataframe\">\n",
       "  <thead>\n",
       "    <tr style=\"text-align: right;\">\n",
       "      <th></th>\n",
       "      <th>Quilometragem</th>\n",
       "      <th>Valor</th>\n",
       "    </tr>\n",
       "  </thead>\n",
       "  <tbody>\n",
       "    <tr>\n",
       "      <th>count</th>\n",
       "      <td>197.000000</td>\n",
       "      <td>258.000000</td>\n",
       "    </tr>\n",
       "    <tr>\n",
       "      <th>mean</th>\n",
       "      <td>58278.421320</td>\n",
       "      <td>98960.513101</td>\n",
       "    </tr>\n",
       "    <tr>\n",
       "      <th>std</th>\n",
       "      <td>35836.733259</td>\n",
       "      <td>29811.932305</td>\n",
       "    </tr>\n",
       "    <tr>\n",
       "      <th>min</th>\n",
       "      <td>107.000000</td>\n",
       "      <td>50742.100000</td>\n",
       "    </tr>\n",
       "    <tr>\n",
       "      <th>25%</th>\n",
       "      <td>27505.000000</td>\n",
       "      <td>70743.512500</td>\n",
       "    </tr>\n",
       "    <tr>\n",
       "      <th>50%</th>\n",
       "      <td>55083.000000</td>\n",
       "      <td>97724.380000</td>\n",
       "    </tr>\n",
       "    <tr>\n",
       "      <th>75%</th>\n",
       "      <td>90495.000000</td>\n",
       "      <td>124633.302500</td>\n",
       "    </tr>\n",
       "    <tr>\n",
       "      <th>max</th>\n",
       "      <td>119945.000000</td>\n",
       "      <td>149489.920000</td>\n",
       "    </tr>\n",
       "  </tbody>\n",
       "</table>\n",
       "</div>"
      ],
      "text/plain": [
       "       Quilometragem          Valor\n",
       "count     197.000000     258.000000\n",
       "mean    58278.421320   98960.513101\n",
       "std     35836.733259   29811.932305\n",
       "min       107.000000   50742.100000\n",
       "25%     27505.000000   70743.512500\n",
       "50%     55083.000000   97724.380000\n",
       "75%     90495.000000  124633.302500\n",
       "max    119945.000000  149489.920000"
      ]
     },
     "execution_count": 5,
     "metadata": {},
     "output_type": "execute_result"
    }
   ],
   "source": [
    "# Estatistica descritiva. Coletando duas colunas e fazendo describe.\n",
    "\n",
    "dataset[['Quilometragem','Valor']].describe()"
   ]
  },
  {
   "cell_type": "code",
   "execution_count": 6,
   "id": "1e8ed65a",
   "metadata": {},
   "outputs": [
    {
     "data": {
      "text/plain": [
       "<bound method DataFrame.info of                       Nome                  Motor   Ano  Quilometragem  \\\n",
       "0            Jetta Variant        Motor 4.0 Turbo  2003        44410.0   \n",
       "1                   Passat           Motor Diesel  1991         5712.0   \n",
       "2                 Crossfox        Motor Diesel V8  1990        37123.0   \n",
       "3                      DS5        Motor 2.4 Turbo  2019            NaN   \n",
       "4         Aston Martin DB4        Motor 2.4 Turbo  2006        25757.0   \n",
       "..                     ...                    ...   ...            ...   \n",
       "253           Phantom 2013               Motor V8  2014        27505.0   \n",
       "254  Cadillac Ciel concept               Motor V8  1991        29981.0   \n",
       "255             Classe GLK  Motor 5.0 V8 Bi-Turbo  2002        52637.0   \n",
       "256       Aston Martin DB5           Motor Diesel  1996         7685.0   \n",
       "257                  Macan        Motor Diesel V6  1992        50188.0   \n",
       "\n",
       "     Zero_km                                         Acessórios      Valor  \n",
       "0      False  ['Rodas de liga', 'Travas elétricas', 'Piloto ...   88078.64  \n",
       "1      False  ['Central multimídia', 'Teto panorâmico', 'Fre...  106161.94  \n",
       "2      False  ['Piloto automático', 'Controle de estabilidad...   72832.16  \n",
       "3       True  ['Travas elétricas', '4 X 4', 'Vidros elétrico...  124549.07  \n",
       "4      False  ['Rodas de liga', '4 X 4', 'Central multimídia...   92612.10  \n",
       "..       ...                                                ...        ...  \n",
       "253    False  ['Controle de estabilidade', 'Piloto automátic...   51759.58  \n",
       "254    False  ['Bancos de couro', 'Painel digital', 'Sensor ...   51667.06  \n",
       "255    False  ['Rodas de liga', 'Controle de tração', 'Câmbi...   68934.03  \n",
       "256    False  ['Ar condicionado', '4 X 4', 'Câmbio automátic...  122110.90  \n",
       "257    False  ['Central multimídia', 'Teto panorâmico', 'Vid...   90381.47  \n",
       "\n",
       "[258 rows x 7 columns]>"
      ]
     },
     "execution_count": 6,
     "metadata": {},
     "output_type": "execute_result"
    }
   ],
   "source": [
    "dataset.info"
   ]
  },
  {
   "cell_type": "markdown",
   "id": "7e226ed9",
   "metadata": {},
   "source": [
    "# Trabalhando com Tuplas"
   ]
  },
  {
   "cell_type": "markdown",
   "id": "c49d7270",
   "metadata": {},
   "source": [
    "As tuplas, sequências utilizadas para armanzear coleções de itens, assim como as listas que aprendemos no curso anterior. A diferença básica entre elas é que, diferentemente das listas, as tuplas são imutáveis - ou seja, não é possível modificá-las.\n",
    "\n",
    "\n",
    "- Utilizando um par de parênteses: ( )\n",
    "- Utilizando uma vírgula à direita: x,\n",
    "- Utilizando um par de parênteses com itens separados por vírgulas: ( x, y, z )\n",
    "- Utilizando: tuple() ou tuple(iterador)"
   ]
  },
  {
   "cell_type": "code",
   "execution_count": 7,
   "id": "9e7b5fa0",
   "metadata": {},
   "outputs": [
    {
     "data": {
      "text/plain": [
       "()"
      ]
     },
     "execution_count": 7,
     "metadata": {},
     "output_type": "execute_result"
    }
   ],
   "source": [
    "# Tupla vazia\n",
    "()"
   ]
  },
  {
   "cell_type": "code",
   "execution_count": 8,
   "id": "cfd64a32",
   "metadata": {},
   "outputs": [
    {
     "data": {
      "text/plain": [
       "(1, 2, 3)"
      ]
     },
     "execution_count": 8,
     "metadata": {},
     "output_type": "execute_result"
    }
   ],
   "source": [
    "# Tupla com tres elementos\n",
    "1,2,3"
   ]
  },
  {
   "cell_type": "code",
   "execution_count": 9,
   "id": "4f39dd88",
   "metadata": {},
   "outputs": [
    {
     "data": {
      "text/plain": [
       "('Passat', 15300)"
      ]
     },
     "execution_count": 9,
     "metadata": {},
     "output_type": "execute_result"
    }
   ],
   "source": [
    "# Tupla com variaveis\n",
    "nome = 'Passat'\n",
    "valor = 15300\n",
    "(nome, valor)"
   ]
  },
  {
   "cell_type": "code",
   "execution_count": 10,
   "id": "ce420c26",
   "metadata": {},
   "outputs": [
    {
     "data": {
      "text/plain": [
       "('Jetta Variant', 'Passat', 'Crossfox', 'DS5')"
      ]
     },
     "execution_count": 10,
     "metadata": {},
     "output_type": "execute_result"
    }
   ],
   "source": [
    "# Utilizando tuple\n",
    "nomes_carros = tuple(['Jetta Variant', 'Passat', 'Crossfox', 'DS5'])\n",
    "nomes_carros"
   ]
  },
  {
   "cell_type": "code",
   "execution_count": 11,
   "id": "6311f1ee",
   "metadata": {},
   "outputs": [
    {
     "data": {
      "text/plain": [
       "tuple"
      ]
     },
     "execution_count": 11,
     "metadata": {},
     "output_type": "execute_result"
    }
   ],
   "source": [
    "type(nomes_carros)"
   ]
  },
  {
   "cell_type": "markdown",
   "id": "b85f9457",
   "metadata": {},
   "source": [
    "# Seleção em Tuplas"
   ]
  },
  {
   "cell_type": "code",
   "execution_count": 12,
   "id": "dbc0da93",
   "metadata": {},
   "outputs": [
    {
     "data": {
      "text/plain": [
       "('Jetta Variant', 'Passat', 'Crossfox', 'DS5')"
      ]
     },
     "execution_count": 12,
     "metadata": {},
     "output_type": "execute_result"
    }
   ],
   "source": [
    "nomes_carros = ('Jetta Variant', 'Passat', 'Crossfox', 'DS5')\n",
    "nomes_carros"
   ]
  },
  {
   "cell_type": "code",
   "execution_count": 13,
   "id": "86cf562e",
   "metadata": {},
   "outputs": [
    {
     "data": {
      "text/plain": [
       "'Jetta Variant'"
      ]
     },
     "execution_count": 13,
     "metadata": {},
     "output_type": "execute_result"
    }
   ],
   "source": [
    "# COmo em lista segue uma indexação ordenada. Começando por 0\n",
    "nomes_carros[0]"
   ]
  },
  {
   "cell_type": "code",
   "execution_count": 14,
   "id": "e52d5add",
   "metadata": {},
   "outputs": [
    {
     "data": {
      "text/plain": [
       "'Passat'"
      ]
     },
     "execution_count": 14,
     "metadata": {},
     "output_type": "execute_result"
    }
   ],
   "source": [
    "nomes_carros[1]"
   ]
  },
  {
   "cell_type": "code",
   "execution_count": 15,
   "id": "d6d2c39f",
   "metadata": {},
   "outputs": [
    {
     "data": {
      "text/plain": [
       "'DS5'"
      ]
     },
     "execution_count": 15,
     "metadata": {},
     "output_type": "execute_result"
    }
   ],
   "source": [
    "nomes_carros[-1]"
   ]
  },
  {
   "cell_type": "code",
   "execution_count": 16,
   "id": "489aec62",
   "metadata": {},
   "outputs": [
    {
     "data": {
      "text/plain": [
       "('Passat', 'Crossfox')"
      ]
     },
     "execution_count": 16,
     "metadata": {},
     "output_type": "execute_result"
    }
   ],
   "source": [
    "# Realizando slicing, o primeiro vai aparecer o ultimo nao\n",
    "nomes_carros[1:3]"
   ]
  },
  {
   "cell_type": "code",
   "execution_count": 17,
   "id": "ee9a1671",
   "metadata": {},
   "outputs": [
    {
     "data": {
      "text/plain": [
       "('Jetta Variant', 'Passat', 'Crossfox', 'DS5', ('Fusca', 'Gol', 'C4'))"
      ]
     },
     "execution_count": 17,
     "metadata": {},
     "output_type": "execute_result"
    }
   ],
   "source": [
    "nomes_carros = ('Jetta Variant', 'Passat', 'Crossfox', 'DS5',('Fusca','Gol', 'C4'))\n",
    "nomes_carros"
   ]
  },
  {
   "cell_type": "code",
   "execution_count": 18,
   "id": "1116e01b",
   "metadata": {},
   "outputs": [
    {
     "data": {
      "text/plain": [
       "('Fusca', 'Gol', 'C4')"
      ]
     },
     "execution_count": 18,
     "metadata": {},
     "output_type": "execute_result"
    }
   ],
   "source": [
    "nomes_carros[-1]\n"
   ]
  },
  {
   "cell_type": "code",
   "execution_count": 19,
   "id": "867455fb",
   "metadata": {},
   "outputs": [
    {
     "data": {
      "text/plain": [
       "'Gol'"
      ]
     },
     "execution_count": 19,
     "metadata": {},
     "output_type": "execute_result"
    }
   ],
   "source": [
    "nomes_carros[-1][1]\n"
   ]
  },
  {
   "cell_type": "markdown",
   "id": "b97c8981",
   "metadata": {},
   "source": [
    "# Iterações com Tuplas"
   ]
  },
  {
   "cell_type": "code",
   "execution_count": 20,
   "id": "10bf8ac2",
   "metadata": {},
   "outputs": [
    {
     "data": {
      "text/plain": [
       "('Jetta Variant', 'Passat', 'Crossfox', 'DS5')"
      ]
     },
     "execution_count": 20,
     "metadata": {},
     "output_type": "execute_result"
    }
   ],
   "source": [
    "nomes_carros = ('Jetta Variant', 'Passat', 'Crossfox', 'DS5')\n",
    "nomes_carros"
   ]
  },
  {
   "cell_type": "code",
   "execution_count": 21,
   "id": "b86dcc07",
   "metadata": {},
   "outputs": [
    {
     "name": "stdout",
     "output_type": "stream",
     "text": [
      "Jetta Variant\n",
      "Passat\n",
      "Crossfox\n",
      "DS5\n"
     ]
    }
   ],
   "source": [
    "for item in nomes_carros:\n",
    "    print(item)"
   ]
  },
  {
   "cell_type": "markdown",
   "id": "491f694f",
   "metadata": {},
   "source": [
    "**Desempacotamento de Tuplas**\n"
   ]
  },
  {
   "cell_type": "code",
   "execution_count": 22,
   "id": "646e8594",
   "metadata": {},
   "outputs": [
    {
     "data": {
      "text/plain": [
       "('Jetta Variant', 'Passat', 'Crossfox', 'DS5')"
      ]
     },
     "execution_count": 22,
     "metadata": {},
     "output_type": "execute_result"
    }
   ],
   "source": [
    "nomes_carros = ('Jetta Variant', 'Passat', 'Crossfox', 'DS5')\n",
    "nomes_carros"
   ]
  },
  {
   "cell_type": "code",
   "execution_count": 23,
   "id": "cf36f6c3",
   "metadata": {},
   "outputs": [],
   "source": [
    "carro_1, carro_2, carro_3, carro_4 = nomes_carros"
   ]
  },
  {
   "cell_type": "code",
   "execution_count": 24,
   "id": "aa4580e1",
   "metadata": {},
   "outputs": [
    {
     "data": {
      "text/plain": [
       "'Jetta Variant'"
      ]
     },
     "execution_count": 24,
     "metadata": {},
     "output_type": "execute_result"
    }
   ],
   "source": [
    "carro_1"
   ]
  },
  {
   "cell_type": "code",
   "execution_count": 25,
   "id": "15a7fc1f",
   "metadata": {},
   "outputs": [
    {
     "data": {
      "text/plain": [
       "'Passat'"
      ]
     },
     "execution_count": 25,
     "metadata": {},
     "output_type": "execute_result"
    }
   ],
   "source": [
    "carro_2"
   ]
  },
  {
   "cell_type": "code",
   "execution_count": 26,
   "id": "d01827b4",
   "metadata": {},
   "outputs": [],
   "source": [
    "# Mostrando somente dois carros Passsat e DS5\n",
    "\n",
    "_, A, _, B = nomes_carros"
   ]
  },
  {
   "cell_type": "code",
   "execution_count": 27,
   "id": "8c93a911",
   "metadata": {},
   "outputs": [
    {
     "data": {
      "text/plain": [
       "'Passat'"
      ]
     },
     "execution_count": 27,
     "metadata": {},
     "output_type": "execute_result"
    }
   ],
   "source": [
    "A"
   ]
  },
  {
   "cell_type": "code",
   "execution_count": 28,
   "id": "fbcf2ed4",
   "metadata": {},
   "outputs": [
    {
     "data": {
      "text/plain": [
       "'DS5'"
      ]
     },
     "execution_count": 28,
     "metadata": {},
     "output_type": "execute_result"
    }
   ],
   "source": [
    "B"
   ]
  },
  {
   "cell_type": "code",
   "execution_count": 29,
   "id": "16ef9cc5",
   "metadata": {},
   "outputs": [],
   "source": [
    "# Agora querendo somente um valor e ignorando todos os demais\n",
    "_, C, *_ = nomes_carros"
   ]
  },
  {
   "cell_type": "code",
   "execution_count": 30,
   "id": "4d25b9ce",
   "metadata": {},
   "outputs": [
    {
     "data": {
      "text/plain": [
       "'Passat'"
      ]
     },
     "execution_count": 30,
     "metadata": {},
     "output_type": "execute_result"
    }
   ],
   "source": [
    "C"
   ]
  },
  {
   "cell_type": "markdown",
   "id": "e843990c",
   "metadata": {},
   "source": [
    "# Zip()\n",
    "\n",
    "**Zip() é um interador**\n",
    "\n",
    "https://docs.python.org/3/library/functions.html#zip"
   ]
  },
  {
   "cell_type": "code",
   "execution_count": 31,
   "id": "ab3bcd38",
   "metadata": {},
   "outputs": [
    {
     "data": {
      "text/plain": [
       "['Jetta Variant', 'Passat', 'Crossfox', 'DS5']"
      ]
     },
     "execution_count": 31,
     "metadata": {},
     "output_type": "execute_result"
    }
   ],
   "source": [
    "carros = ['Jetta Variant', 'Passat', 'Crossfox', 'DS5']\n",
    "carros"
   ]
  },
  {
   "cell_type": "code",
   "execution_count": 32,
   "id": "f7a2ae1f",
   "metadata": {},
   "outputs": [
    {
     "data": {
      "text/plain": [
       "[8078.64, 106161.94, 72832.16, 124549.07]"
      ]
     },
     "execution_count": 32,
     "metadata": {},
     "output_type": "execute_result"
    }
   ],
   "source": [
    "valores = [8078.64, 106161.94, 72832.16, 124549.07]\n",
    "valores"
   ]
  },
  {
   "cell_type": "code",
   "execution_count": 33,
   "id": "d14aef62",
   "metadata": {},
   "outputs": [
    {
     "data": {
      "text/plain": [
       "[('Jetta Variant', 8078.64),\n",
       " ('Passat', 106161.94),\n",
       " ('Crossfox', 72832.16),\n",
       " ('DS5', 124549.07)]"
      ]
     },
     "execution_count": 33,
     "metadata": {},
     "output_type": "execute_result"
    }
   ],
   "source": [
    "# Interando os dados\n",
    "list(zip(carros, valores))"
   ]
  },
  {
   "cell_type": "code",
   "execution_count": 34,
   "id": "a9928182",
   "metadata": {},
   "outputs": [
    {
     "name": "stdout",
     "output_type": "stream",
     "text": [
      "('Jetta Variant', 8078.64)\n",
      "('Passat', 106161.94)\n",
      "('Crossfox', 72832.16)\n",
      "('DS5', 124549.07)\n"
     ]
    }
   ],
   "source": [
    "# Utilizando for e zip\n",
    "for item in zip(carros, valores):\n",
    "    print(item)"
   ]
  },
  {
   "cell_type": "code",
   "execution_count": 35,
   "id": "f0c81dca",
   "metadata": {},
   "outputs": [
    {
     "name": "stdout",
     "output_type": "stream",
     "text": [
      "Jetta Variant 8078.64\n",
      "Passat 106161.94\n",
      "Crossfox 72832.16\n",
      "DS5 124549.07\n"
     ]
    }
   ],
   "source": [
    "for carro, valor in zip(carros, valores):\n",
    "    print(carro, valor)"
   ]
  },
  {
   "cell_type": "code",
   "execution_count": 36,
   "id": "95c4d6ec",
   "metadata": {},
   "outputs": [
    {
     "name": "stdout",
     "output_type": "stream",
     "text": [
      "Passat\n",
      "DS5\n"
     ]
    }
   ],
   "source": [
    "for carro, valor in zip(carros, valores):\n",
    "    if(valor > 100000):\n",
    "        print(carro)"
   ]
  },
  {
   "cell_type": "markdown",
   "id": "28596bea",
   "metadata": {},
   "source": [
    "# Trabalhando com Dicionarios\n",
    "\n",
    "Os dicionários são coleções um pouco diferentes. São estruturas de dados que representam um tipo de mapeamento. Mapeamentos são coleções de associações entre pares de valores onde o primeiro elemento do par é conhecido como chave (key) e o segundo como valor (value)."
   ]
  },
  {
   "cell_type": "markdown",
   "id": "5fa07d94",
   "metadata": {},
   "source": [
    "**Criando dicionarios**\n",
    "\n",
    "dicionario = {key_1: value_1, key_2: value_2, ..., key_n: value_n} "
   ]
  },
  {
   "cell_type": "code",
   "execution_count": 37,
   "id": "e30fd721",
   "metadata": {},
   "outputs": [
    {
     "data": {
      "text/plain": [
       "['Jetta Variant', 'Passat', 'Crossfox', 'DS5']"
      ]
     },
     "execution_count": 37,
     "metadata": {},
     "output_type": "execute_result"
    }
   ],
   "source": [
    "carros"
   ]
  },
  {
   "cell_type": "code",
   "execution_count": 38,
   "id": "ee1e8bed",
   "metadata": {},
   "outputs": [
    {
     "data": {
      "text/plain": [
       "[8078.64, 106161.94, 72832.16, 124549.07]"
      ]
     },
     "execution_count": 38,
     "metadata": {},
     "output_type": "execute_result"
    }
   ],
   "source": [
    "valores"
   ]
  },
  {
   "cell_type": "code",
   "execution_count": 39,
   "id": "fa6e5e5b",
   "metadata": {},
   "outputs": [
    {
     "data": {
      "text/plain": [
       "1"
      ]
     },
     "execution_count": 39,
     "metadata": {},
     "output_type": "execute_result"
    }
   ],
   "source": [
    "# Pegando o indice do elemento\n",
    "carros.index('Passat')"
   ]
  },
  {
   "cell_type": "code",
   "execution_count": 40,
   "id": "8d394646",
   "metadata": {},
   "outputs": [
    {
     "data": {
      "text/plain": [
       "106161.94"
      ]
     },
     "execution_count": 40,
     "metadata": {},
     "output_type": "execute_result"
    }
   ],
   "source": [
    "# Acessando o valor do Passat\n",
    "valores[carros.index('Passat')]"
   ]
  },
  {
   "cell_type": "code",
   "execution_count": 41,
   "id": "750e0935",
   "metadata": {},
   "outputs": [
    {
     "data": {
      "text/plain": [
       "{'Jetta Variant': 8078.64,\n",
       " 'Passat': 106161.94,\n",
       " 'Crossfox': 72832.16,\n",
       " 'DS5': 124549.07}"
      ]
     },
     "execution_count": 41,
     "metadata": {},
     "output_type": "execute_result"
    }
   ],
   "source": [
    "dados = {'Jetta Variant' : 8078.64, 'Passat' : 106161.94, 'Crossfox' : 72832.16, 'DS5': 124549.07}\n",
    "dados"
   ]
  },
  {
   "cell_type": "code",
   "execution_count": 42,
   "id": "9cc467fa",
   "metadata": {},
   "outputs": [
    {
     "data": {
      "text/plain": [
       "dict"
      ]
     },
     "execution_count": 42,
     "metadata": {},
     "output_type": "execute_result"
    }
   ],
   "source": [
    "# tipo dos dados\n",
    "type(dados)"
   ]
  },
  {
   "cell_type": "markdown",
   "id": "a3d3b362",
   "metadata": {},
   "source": [
    "**Criando dicionarios com zip()**"
   ]
  },
  {
   "cell_type": "code",
   "execution_count": 43,
   "id": "6d4c238e",
   "metadata": {},
   "outputs": [
    {
     "data": {
      "text/plain": [
       "[('Jetta Variant', 8078.64),\n",
       " ('Passat', 106161.94),\n",
       " ('Crossfox', 72832.16),\n",
       " ('DS5', 124549.07)]"
      ]
     },
     "execution_count": 43,
     "metadata": {},
     "output_type": "execute_result"
    }
   ],
   "source": [
    "list(zip(carros, valores))"
   ]
  },
  {
   "cell_type": "code",
   "execution_count": 44,
   "id": "b42793ae",
   "metadata": {},
   "outputs": [
    {
     "data": {
      "text/plain": [
       "{'Jetta Variant': 8078.64,\n",
       " 'Passat': 106161.94,\n",
       " 'Crossfox': 72832.16,\n",
       " 'DS5': 124549.07}"
      ]
     },
     "execution_count": 44,
     "metadata": {},
     "output_type": "execute_result"
    }
   ],
   "source": [
    "dados = dict(zip(carros, valores))\n",
    "dados"
   ]
  },
  {
   "cell_type": "markdown",
   "id": "ce201278",
   "metadata": {},
   "source": [
    "**Operações com dicionarios**"
   ]
  },
  {
   "cell_type": "code",
   "execution_count": 45,
   "id": "94e2cadf",
   "metadata": {},
   "outputs": [
    {
     "data": {
      "text/plain": [
       "{'Jetta Variant': 8078.64, 'Passat': 106161.94, 'Crossfox': 72832.16}"
      ]
     },
     "execution_count": 45,
     "metadata": {},
     "output_type": "execute_result"
    }
   ],
   "source": [
    "dados = {'Jetta Variant': 8078.64, 'Passat': 106161.94, 'Crossfox': 72832.16}\n",
    "dados"
   ]
  },
  {
   "cell_type": "markdown",
   "id": "cf702058",
   "metadata": {},
   "source": [
    "**dict.[key]**\n",
    "\n",
    "Retorna o  valor correspondente a chave (key) no dicionário"
   ]
  },
  {
   "cell_type": "code",
   "execution_count": 46,
   "id": "95277425",
   "metadata": {},
   "outputs": [
    {
     "data": {
      "text/plain": [
       "106161.94"
      ]
     },
     "execution_count": 46,
     "metadata": {},
     "output_type": "execute_result"
    }
   ],
   "source": [
    "dados['Passat']"
   ]
  },
  {
   "cell_type": "markdown",
   "id": "22ce42cb",
   "metadata": {},
   "source": [
    "**key in dict**\n",
    "\n",
    "Retorna True se a chave (key) for encontrada no dicionario"
   ]
  },
  {
   "cell_type": "code",
   "execution_count": 47,
   "id": "7bb33b6f",
   "metadata": {},
   "outputs": [
    {
     "data": {
      "text/plain": [
       "True"
      ]
     },
     "execution_count": 47,
     "metadata": {},
     "output_type": "execute_result"
    }
   ],
   "source": [
    "'Passat' in dados"
   ]
  },
  {
   "cell_type": "code",
   "execution_count": 48,
   "id": "5749cc77",
   "metadata": {},
   "outputs": [
    {
     "data": {
      "text/plain": [
       "False"
      ]
     },
     "execution_count": 48,
     "metadata": {},
     "output_type": "execute_result"
    }
   ],
   "source": [
    "'Fusca' in dados"
   ]
  },
  {
   "cell_type": "code",
   "execution_count": 49,
   "id": "80bb77f2",
   "metadata": {},
   "outputs": [
    {
     "data": {
      "text/plain": [
       "True"
      ]
     },
     "execution_count": 49,
     "metadata": {},
     "output_type": "execute_result"
    }
   ],
   "source": [
    "'Fusca' not in dados"
   ]
  },
  {
   "cell_type": "markdown",
   "id": "6852ae4a",
   "metadata": {},
   "source": [
    "**len(dict)**\n",
    "\n",
    "retorna o numero de itens do dicionário"
   ]
  },
  {
   "cell_type": "code",
   "execution_count": 50,
   "id": "7cdc124a",
   "metadata": {},
   "outputs": [
    {
     "data": {
      "text/plain": [
       "3"
      ]
     },
     "execution_count": 50,
     "metadata": {},
     "output_type": "execute_result"
    }
   ],
   "source": [
    "len(dados)"
   ]
  },
  {
   "cell_type": "markdown",
   "id": "ad8b7f27",
   "metadata": {},
   "source": [
    "**dict[key] = value**\n",
    "\n",
    "Inclui um item ao dicionário"
   ]
  },
  {
   "cell_type": "code",
   "execution_count": 51,
   "id": "3e8f43ec",
   "metadata": {},
   "outputs": [
    {
     "data": {
      "text/plain": [
       "{'Jetta Variant': 8078.64,\n",
       " 'Passat': 106161.94,\n",
       " 'Crossfox': 72832.16,\n",
       " 'DS5': 124549.07}"
      ]
     },
     "execution_count": 51,
     "metadata": {},
     "output_type": "execute_result"
    }
   ],
   "source": [
    "# Adicionando chave e valor ao dict\n",
    "dados['DS5'] = 124549.07\n",
    "dados"
   ]
  },
  {
   "cell_type": "markdown",
   "id": "03c0841e",
   "metadata": {},
   "source": [
    "**del dict[key]**\n",
    "\n",
    "Remove um item da chave (key) do dicionario"
   ]
  },
  {
   "cell_type": "code",
   "execution_count": 52,
   "id": "6acc1ba5",
   "metadata": {},
   "outputs": [
    {
     "data": {
      "text/plain": [
       "{'Jetta Variant': 8078.64,\n",
       " 'Passat': 106161.94,\n",
       " 'Crossfox': 72832.16,\n",
       " 'DS5': 124549.07}"
      ]
     },
     "execution_count": 52,
     "metadata": {},
     "output_type": "execute_result"
    }
   ],
   "source": [
    "dados"
   ]
  },
  {
   "cell_type": "code",
   "execution_count": 53,
   "id": "4463b372",
   "metadata": {},
   "outputs": [
    {
     "data": {
      "text/plain": [
       "{'Jetta Variant': 8078.64, 'Crossfox': 72832.16, 'DS5': 124549.07}"
      ]
     },
     "execution_count": 53,
     "metadata": {},
     "output_type": "execute_result"
    }
   ],
   "source": [
    "del dados['Passat']\n",
    "dados"
   ]
  },
  {
   "cell_type": "markdown",
   "id": "c2079d89",
   "metadata": {},
   "source": [
    "# Metódos com dicionários\n",
    "\n",
    "**dict.update()**\n",
    "\n",
    "Atualiza dicionário"
   ]
  },
  {
   "cell_type": "code",
   "execution_count": 54,
   "id": "1dab5734",
   "metadata": {},
   "outputs": [
    {
     "data": {
      "text/plain": [
       "{'Jetta Variant': 8078.64, 'Crossfox': 72832.16, 'DS5': 124549.07}"
      ]
     },
     "execution_count": 54,
     "metadata": {},
     "output_type": "execute_result"
    }
   ],
   "source": [
    "dados"
   ]
  },
  {
   "cell_type": "code",
   "execution_count": 55,
   "id": "a6614de2",
   "metadata": {},
   "outputs": [
    {
     "data": {
      "text/plain": [
       "{'Jetta Variant': 8078.64,\n",
       " 'Crossfox': 72832.16,\n",
       " 'DS5': 124549.07,\n",
       " 'Passat': 106161.94}"
      ]
     },
     "execution_count": 55,
     "metadata": {},
     "output_type": "execute_result"
    }
   ],
   "source": [
    "dados.update({'Passat': 106161.94})\n",
    "dados"
   ]
  },
  {
   "cell_type": "code",
   "execution_count": 56,
   "id": "0d76b470",
   "metadata": {},
   "outputs": [
    {
     "data": {
      "text/plain": [
       "{'Jetta Variant': 8078.64,\n",
       " 'Crossfox': 72832.16,\n",
       " 'DS5': 124549.07,\n",
       " 'Passat': 106161.95,\n",
       " 'Fusca': 150000}"
      ]
     },
     "execution_count": 56,
     "metadata": {},
     "output_type": "execute_result"
    }
   ],
   "source": [
    "dados.update({'Passat': 106161.95, 'Fusca': 150000})\n",
    "dados"
   ]
  },
  {
   "cell_type": "markdown",
   "id": "be2e65c9",
   "metadata": {},
   "source": [
    "**dict.copy()**\n",
    "\n",
    "Cria uma cópia do dicionário"
   ]
  },
  {
   "cell_type": "code",
   "execution_count": 57,
   "id": "e663bc08",
   "metadata": {},
   "outputs": [
    {
     "data": {
      "text/plain": [
       "{'Jetta Variant': 8078.64,\n",
       " 'Crossfox': 72832.16,\n",
       " 'DS5': 124549.07,\n",
       " 'Passat': 106161.95,\n",
       " 'Fusca': 150000}"
      ]
     },
     "execution_count": 57,
     "metadata": {},
     "output_type": "execute_result"
    }
   ],
   "source": [
    "dadosCopy = dados.copy()\n",
    "dadosCopy"
   ]
  },
  {
   "cell_type": "code",
   "execution_count": 58,
   "id": "e8792e70",
   "metadata": {},
   "outputs": [],
   "source": [
    "# deletando Fusca dadosCopy\n",
    "del dadosCopy['Fusca']"
   ]
  },
  {
   "cell_type": "code",
   "execution_count": 59,
   "id": "806b56dd",
   "metadata": {},
   "outputs": [
    {
     "data": {
      "text/plain": [
       "{'Jetta Variant': 8078.64,\n",
       " 'Crossfox': 72832.16,\n",
       " 'DS5': 124549.07,\n",
       " 'Passat': 106161.95}"
      ]
     },
     "execution_count": 59,
     "metadata": {},
     "output_type": "execute_result"
    }
   ],
   "source": [
    "dadosCopy"
   ]
  },
  {
   "cell_type": "code",
   "execution_count": 60,
   "id": "e67c6f84",
   "metadata": {},
   "outputs": [
    {
     "data": {
      "text/plain": [
       "{'Jetta Variant': 8078.64,\n",
       " 'Crossfox': 72832.16,\n",
       " 'DS5': 124549.07,\n",
       " 'Passat': 106161.95,\n",
       " 'Fusca': 150000}"
      ]
     },
     "execution_count": 60,
     "metadata": {},
     "output_type": "execute_result"
    }
   ],
   "source": [
    "# Verificando que na base original nao foi deletado\n",
    "dados"
   ]
  },
  {
   "cell_type": "markdown",
   "id": "35265404",
   "metadata": {},
   "source": [
    "**dict.pop(key[, default])**\n",
    "\n",
    "Se a chave for encontrada no dicionário, o item é removido e seu valor é retornado. Caso contrário, o valor especificado como default é retornado. Se o valor default não for fornecido e a chave não for encontrada no dicionário um erro será gerado."
   ]
  },
  {
   "cell_type": "code",
   "execution_count": 61,
   "id": "c7df999c",
   "metadata": {},
   "outputs": [
    {
     "data": {
      "text/plain": [
       "{'Jetta Variant': 8078.64,\n",
       " 'Crossfox': 72832.16,\n",
       " 'DS5': 124549.07,\n",
       " 'Passat': 106161.95}"
      ]
     },
     "execution_count": 61,
     "metadata": {},
     "output_type": "execute_result"
    }
   ],
   "source": [
    "dadosCopy"
   ]
  },
  {
   "cell_type": "code",
   "execution_count": 62,
   "id": "9ca10be9",
   "metadata": {},
   "outputs": [
    {
     "data": {
      "text/plain": [
       "106161.95"
      ]
     },
     "execution_count": 62,
     "metadata": {},
     "output_type": "execute_result"
    }
   ],
   "source": [
    "dadosCopy.pop('Passat')"
   ]
  },
  {
   "cell_type": "code",
   "execution_count": 63,
   "id": "8ea9ce32",
   "metadata": {},
   "outputs": [
    {
     "data": {
      "text/plain": [
       "{'Jetta Variant': 8078.64, 'Crossfox': 72832.16, 'DS5': 124549.07}"
      ]
     },
     "execution_count": 63,
     "metadata": {},
     "output_type": "execute_result"
    }
   ],
   "source": [
    "dadosCopy"
   ]
  },
  {
   "cell_type": "code",
   "execution_count": 64,
   "id": "a442521b",
   "metadata": {},
   "outputs": [
    {
     "data": {
      "text/plain": [
       "'Chave não encontrada'"
      ]
     },
     "execution_count": 64,
     "metadata": {},
     "output_type": "execute_result"
    }
   ],
   "source": [
    "# Caso ele nao encontre a chave Passat, ele retorna Chave nao encontrada\n",
    "dadosCopy.pop('Passat', \"Chave não encontrada\")"
   ]
  },
  {
   "cell_type": "code",
   "execution_count": 65,
   "id": "26d08137",
   "metadata": {},
   "outputs": [
    {
     "data": {
      "text/plain": [
       "124549.07"
      ]
     },
     "execution_count": 65,
     "metadata": {},
     "output_type": "execute_result"
    }
   ],
   "source": [
    "dadosCopy.pop('DS5', \"Chave não encontrada\")"
   ]
  },
  {
   "cell_type": "code",
   "execution_count": 66,
   "id": "91e05643",
   "metadata": {},
   "outputs": [
    {
     "data": {
      "text/plain": [
       "{'Jetta Variant': 8078.64, 'Crossfox': 72832.16}"
      ]
     },
     "execution_count": 66,
     "metadata": {},
     "output_type": "execute_result"
    }
   ],
   "source": [
    "# Agora ele tem só duas chaves\n",
    "dadosCopy"
   ]
  },
  {
   "cell_type": "markdown",
   "id": "10d7a4cf",
   "metadata": {},
   "source": [
    "**dict.clear()**\n",
    "\n",
    "Remove todos os itens do dicionário"
   ]
  },
  {
   "cell_type": "code",
   "execution_count": 67,
   "id": "48a9e231",
   "metadata": {},
   "outputs": [],
   "source": [
    "dadosCopy.clear()"
   ]
  },
  {
   "cell_type": "code",
   "execution_count": 68,
   "id": "fc1b4307",
   "metadata": {},
   "outputs": [
    {
     "data": {
      "text/plain": [
       "{}"
      ]
     },
     "execution_count": 68,
     "metadata": {},
     "output_type": "execute_result"
    }
   ],
   "source": [
    "dadosCopy"
   ]
  },
  {
   "cell_type": "markdown",
   "id": "d03730f3",
   "metadata": {},
   "source": [
    "# Iteração com dicionários"
   ]
  },
  {
   "cell_type": "code",
   "execution_count": 69,
   "id": "539331be",
   "metadata": {},
   "outputs": [
    {
     "data": {
      "text/plain": [
       "{'Jetta Variant': 8078.64,\n",
       " 'Fusca': 150000,\n",
       " 'Passat': 106161.94,\n",
       " 'Crossfox': 72832.16,\n",
       " 'DS5': 124549.07}"
      ]
     },
     "execution_count": 69,
     "metadata": {},
     "output_type": "execute_result"
    }
   ],
   "source": [
    "dados = {'Jetta Variant': 8078.64, 'Fusca': 150000,  'Passat': 106161.94, 'Crossfox': 72832.16, 'DS5': 124549.07}\n",
    "dados"
   ]
  },
  {
   "cell_type": "markdown",
   "id": "9ff18c56",
   "metadata": {},
   "source": [
    "**dict.keys()**\n",
    "\n",
    "Retorna a lista contendo a chaves (keys) do dicionário."
   ]
  },
  {
   "cell_type": "code",
   "execution_count": 70,
   "id": "7d8a2396",
   "metadata": {},
   "outputs": [
    {
     "data": {
      "text/plain": [
       "dict_keys(['Jetta Variant', 'Fusca', 'Passat', 'Crossfox', 'DS5'])"
      ]
     },
     "execution_count": 70,
     "metadata": {},
     "output_type": "execute_result"
    }
   ],
   "source": [
    "dados.keys()"
   ]
  },
  {
   "cell_type": "code",
   "execution_count": 71,
   "id": "5e6460a9",
   "metadata": {},
   "outputs": [
    {
     "name": "stdout",
     "output_type": "stream",
     "text": [
      "8078.64\n",
      "150000\n",
      "106161.94\n",
      "72832.16\n",
      "124549.07\n"
     ]
    }
   ],
   "source": [
    "for key in dados.keys():\n",
    "    print(dados[key])"
   ]
  },
  {
   "cell_type": "markdown",
   "id": "315ed39e",
   "metadata": {},
   "source": [
    "**dict.values()**\n",
    "\n",
    "Retorna uma lista contendo os valores (values) do dicionário"
   ]
  },
  {
   "cell_type": "code",
   "execution_count": 72,
   "id": "41cd42f0",
   "metadata": {},
   "outputs": [
    {
     "data": {
      "text/plain": [
       "dict_values([8078.64, 150000, 106161.94, 72832.16, 124549.07])"
      ]
     },
     "execution_count": 72,
     "metadata": {},
     "output_type": "execute_result"
    }
   ],
   "source": [
    "dados.values()"
   ]
  },
  {
   "cell_type": "markdown",
   "id": "cbb7cfac",
   "metadata": {},
   "source": [
    "**dict.items()**\n",
    "\n",
    "Retorna uma lista contendo uma tupla para cada par de chave-valor(key-value) do dicionário "
   ]
  },
  {
   "cell_type": "code",
   "execution_count": 73,
   "id": "6b56d187",
   "metadata": {},
   "outputs": [
    {
     "data": {
      "text/plain": [
       "dict_items([('Jetta Variant', 8078.64), ('Fusca', 150000), ('Passat', 106161.94), ('Crossfox', 72832.16), ('DS5', 124549.07)])"
      ]
     },
     "execution_count": 73,
     "metadata": {},
     "output_type": "execute_result"
    }
   ],
   "source": [
    "dados.items()"
   ]
  },
  {
   "cell_type": "code",
   "execution_count": 74,
   "id": "536d5628",
   "metadata": {},
   "outputs": [
    {
     "name": "stdout",
     "output_type": "stream",
     "text": [
      "('Jetta Variant', 8078.64)\n",
      "('Fusca', 150000)\n",
      "('Passat', 106161.94)\n",
      "('Crossfox', 72832.16)\n",
      "('DS5', 124549.07)\n"
     ]
    }
   ],
   "source": [
    "for item in dados.items():\n",
    "    print(item)"
   ]
  },
  {
   "cell_type": "code",
   "execution_count": 75,
   "id": "5025493a",
   "metadata": {},
   "outputs": [
    {
     "name": "stdout",
     "output_type": "stream",
     "text": [
      "Jetta Variant 8078.64\n",
      "Fusca 150000\n",
      "Passat 106161.94\n",
      "Crossfox 72832.16\n",
      "DS5 124549.07\n"
     ]
    }
   ],
   "source": [
    "# Desempacotando chave  e valor\n",
    "for key, value in dados.items():\n",
    "    print(key, value)\n"
   ]
  },
  {
   "cell_type": "code",
   "execution_count": 76,
   "id": "d86affa8",
   "metadata": {},
   "outputs": [
    {
     "name": "stdout",
     "output_type": "stream",
     "text": [
      "Fusca\n",
      "Passat\n",
      "DS5\n"
     ]
    }
   ],
   "source": [
    "# Mostre qual carro tem valor acima de 100mil\n",
    "for key, value in dados.items():\n",
    "    if (value > 100000):\n",
    "        print(key)"
   ]
  },
  {
   "cell_type": "markdown",
   "id": "e785e30b",
   "metadata": {},
   "source": [
    "**Exercício**\n",
    "\n",
    "Selecione a alternativa que apresenta o código que imprime somente os nomes dos veículos com ano de fabricação maior ou igual a 2000."
   ]
  },
  {
   "cell_type": "code",
   "execution_count": 77,
   "id": "bf6de177",
   "metadata": {},
   "outputs": [
    {
     "data": {
      "text/plain": [
       "{'Crossfox': {'valor': 72000, 'ano': 2005},\n",
       " 'DS5': {'valor': 125000, 'ano': 2015},\n",
       " 'Fusca': {'valor': 150000, 'ano': 1976},\n",
       " 'Jetta': {'valor': 88000, 'ano': 2010},\n",
       " 'Passat': {'valor': 106000, 'ano': 1998}}"
      ]
     },
     "execution_count": 77,
     "metadata": {},
     "output_type": "execute_result"
    }
   ],
   "source": [
    "# rodando o codigo\n",
    "dados = {\n",
    "    'Crossfox': {'valor': 72000, 'ano': 2005}, \n",
    "    'DS5': {'valor': 125000, 'ano': 2015}, \n",
    "    'Fusca': {'valor': 150000, 'ano': 1976}, \n",
    "    'Jetta': {'valor': 88000, 'ano': 2010}, \n",
    "    'Passat': {'valor': 106000, 'ano': 1998}\n",
    "}\n",
    "dados"
   ]
  },
  {
   "cell_type": "code",
   "execution_count": 78,
   "id": "34b4fbee",
   "metadata": {},
   "outputs": [
    {
     "name": "stdout",
     "output_type": "stream",
     "text": [
      "Crossfox\n",
      "DS5\n",
      "Jetta\n"
     ]
    }
   ],
   "source": [
    "# Para acessar a chave do dicionário, basta utilizar item[0], \n",
    "# e para acessar o valor, basta usar item[1]. Para acessar o ano dentro do dicionário, usamos item[1]['ano'].\n",
    "\n",
    "for item in dados.items():\n",
    "    if(item[1]['ano'] >= 2000):\n",
    "        print(item[0])"
   ]
  },
  {
   "cell_type": "markdown",
   "id": "c618e2c6",
   "metadata": {},
   "source": [
    "# Funções\n",
    "\n",
    "As funções são unidades de código reutilizáveis que realizam tarefas específicas. Elas podem receber inputs, que são as entradas (também chamadas de parâmetros), e podem retornar resultados."
   ]
  },
  {
   "cell_type": "markdown",
   "id": "d61c7676",
   "metadata": {},
   "source": [
    "**Built-in function**\n",
    "\n",
    " funções integradas da linguagem que estão sempre acessíveis, sem a necessidade de criação ou importação. Nós, inclusive, utilizamos várias delas neste treinamento e no anterior, como type(), print(), zip(), len() e assim por diante."
   ]
  },
  {
   "cell_type": "code",
   "execution_count": 79,
   "id": "b62f7fec",
   "metadata": {},
   "outputs": [
    {
     "data": {
      "text/plain": [
       "{'Jetta Variant': 88078.64, 'Passat': 106161.94, 'Crossfox': 72832.16}"
      ]
     },
     "execution_count": 79,
     "metadata": {},
     "output_type": "execute_result"
    }
   ],
   "source": [
    "dados = {'Jetta Variant': 88078.64, 'Passat': 106161.94, 'Crossfox': 72832.16}\n",
    "dados"
   ]
  },
  {
   "cell_type": "code",
   "execution_count": 80,
   "id": "8b2cbd82",
   "metadata": {},
   "outputs": [
    {
     "data": {
      "text/plain": [
       "[88078.64, 106161.94, 72832.16]"
      ]
     },
     "execution_count": 80,
     "metadata": {},
     "output_type": "execute_result"
    }
   ],
   "source": [
    "# criaremos uma lista vazia valores e iniciaremos um iterador for\n",
    "valores = []\n",
    "for valor in dados.values():\n",
    "    valores.append(valor)\n",
    "    \n",
    "valores"
   ]
  },
  {
   "cell_type": "code",
   "execution_count": 81,
   "id": "3d149c3a",
   "metadata": {},
   "outputs": [
    {
     "data": {
      "text/plain": [
       "267072.74"
      ]
     },
     "execution_count": 81,
     "metadata": {},
     "output_type": "execute_result"
    }
   ],
   "source": [
    "# Para retornar a soma dos valores\n",
    "soma = 0\n",
    "for valor in dados.values():\n",
    "    soma += valor\n",
    "\n",
    "soma"
   ]
  },
  {
   "cell_type": "code",
   "execution_count": 82,
   "id": "9bff572f",
   "metadata": {},
   "outputs": [
    {
     "data": {
      "text/plain": [
       "[88078.64, 106161.94, 72832.16]"
      ]
     },
     "execution_count": 82,
     "metadata": {},
     "output_type": "execute_result"
    }
   ],
   "source": [
    "# Listando os valores\n",
    "list(dados.values())"
   ]
  },
  {
   "cell_type": "code",
   "execution_count": 83,
   "id": "d25cd2f5",
   "metadata": {},
   "outputs": [
    {
     "data": {
      "text/plain": [
       "267072.74"
      ]
     },
     "execution_count": 83,
     "metadata": {},
     "output_type": "execute_result"
    }
   ],
   "source": [
    "# Outra forma de fazer a soma mais facíl\n",
    "sum(dados.values())"
   ]
  },
  {
   "cell_type": "code",
   "execution_count": 84,
   "id": "0255d636",
   "metadata": {},
   "outputs": [
    {
     "data": {
      "text/plain": [
       "1267072.7399999998"
      ]
     },
     "execution_count": 84,
     "metadata": {},
     "output_type": "execute_result"
    }
   ],
   "source": [
    "# fazendo a soma adicionando 1milhao\n",
    "sum(dados.values(), 1000000)"
   ]
  },
  {
   "cell_type": "code",
   "execution_count": 85,
   "id": "0ea042d6",
   "metadata": {},
   "outputs": [
    {
     "name": "stdout",
     "output_type": "stream",
     "text": [
      "Help on class tuple in module builtins:\n",
      "\n",
      "class tuple(object)\n",
      " |  tuple(iterable=(), /)\n",
      " |  \n",
      " |  Built-in immutable sequence.\n",
      " |  \n",
      " |  If no argument is given, the constructor returns an empty tuple.\n",
      " |  If iterable is specified the tuple is initialized from iterable's items.\n",
      " |  \n",
      " |  If the argument is a tuple, the return value is the same object.\n",
      " |  \n",
      " |  Built-in subclasses:\n",
      " |      asyncgen_hooks\n",
      " |      UnraisableHookArgs\n",
      " |  \n",
      " |  Methods defined here:\n",
      " |  \n",
      " |  __add__(self, value, /)\n",
      " |      Return self+value.\n",
      " |  \n",
      " |  __contains__(self, key, /)\n",
      " |      Return key in self.\n",
      " |  \n",
      " |  __eq__(self, value, /)\n",
      " |      Return self==value.\n",
      " |  \n",
      " |  __ge__(self, value, /)\n",
      " |      Return self>=value.\n",
      " |  \n",
      " |  __getattribute__(self, name, /)\n",
      " |      Return getattr(self, name).\n",
      " |  \n",
      " |  __getitem__(self, key, /)\n",
      " |      Return self[key].\n",
      " |  \n",
      " |  __getnewargs__(self, /)\n",
      " |  \n",
      " |  __gt__(self, value, /)\n",
      " |      Return self>value.\n",
      " |  \n",
      " |  __hash__(self, /)\n",
      " |      Return hash(self).\n",
      " |  \n",
      " |  __iter__(self, /)\n",
      " |      Implement iter(self).\n",
      " |  \n",
      " |  __le__(self, value, /)\n",
      " |      Return self<=value.\n",
      " |  \n",
      " |  __len__(self, /)\n",
      " |      Return len(self).\n",
      " |  \n",
      " |  __lt__(self, value, /)\n",
      " |      Return self<value.\n",
      " |  \n",
      " |  __mul__(self, value, /)\n",
      " |      Return self*value.\n",
      " |  \n",
      " |  __ne__(self, value, /)\n",
      " |      Return self!=value.\n",
      " |  \n",
      " |  __repr__(self, /)\n",
      " |      Return repr(self).\n",
      " |  \n",
      " |  __rmul__(self, value, /)\n",
      " |      Return value*self.\n",
      " |  \n",
      " |  count(self, value, /)\n",
      " |      Return number of occurrences of value.\n",
      " |  \n",
      " |  index(self, value, start=0, stop=9223372036854775807, /)\n",
      " |      Return first index of value.\n",
      " |      \n",
      " |      Raises ValueError if the value is not present.\n",
      " |  \n",
      " |  ----------------------------------------------------------------------\n",
      " |  Static methods defined here:\n",
      " |  \n",
      " |  __new__(*args, **kwargs) from builtins.type\n",
      " |      Create and return a new object.  See help(type) for accurate signature.\n",
      "\n"
     ]
    }
   ],
   "source": [
    "# Verificar isntruções de ajuda para comandos\n",
    "\n",
    "help(tuple)"
   ]
  },
  {
   "cell_type": "markdown",
   "id": "e5ecc75b",
   "metadata": {},
   "source": [
    "# Definindo funções com ou sem parâmetros"
   ]
  },
  {
   "cell_type": "markdown",
   "id": "580c5068",
   "metadata": {},
   "source": [
    "**Funções sem parâmetros**"
   ]
  },
  {
   "cell_type": "markdown",
   "id": "0f194461",
   "metadata": {},
   "source": [
    "Formato padrão"
   ]
  },
  {
   "cell_type": "markdown",
   "id": "537dedb3",
   "metadata": {},
   "source": [
    "def nome():\n",
    "\n",
    "    instruções"
   ]
  },
  {
   "cell_type": "code",
   "execution_count": 86,
   "id": "65256ddd",
   "metadata": {},
   "outputs": [],
   "source": [
    "# Função média\n",
    "def media():\n",
    "    valor = ( 1 + 2 + 3) / 3\n",
    "    print(valor)"
   ]
  },
  {
   "cell_type": "code",
   "execution_count": 87,
   "id": "2f8a0013",
   "metadata": {},
   "outputs": [
    {
     "name": "stdout",
     "output_type": "stream",
     "text": [
      "2.0\n"
     ]
    }
   ],
   "source": [
    "media()"
   ]
  },
  {
   "cell_type": "markdown",
   "id": "5079d3d6",
   "metadata": {},
   "source": [
    "**Funções com parâmentros**\n",
    "\n",
    "Formato padrão\n",
    "\n",
    "\n",
    "def nome(param_1, param_2, ..., param_n):\n",
    "\n",
    "    instruções"
   ]
  },
  {
   "cell_type": "code",
   "execution_count": 88,
   "id": "4aaa9888",
   "metadata": {},
   "outputs": [],
   "source": [
    "# Criando função media com parametros\n",
    "def media(number_1, number_2, number_3):\n",
    "    valor = (number_1 + number_2 + number_3) / 3\n",
    "    print(valor)"
   ]
  },
  {
   "cell_type": "code",
   "execution_count": 89,
   "id": "a0facdbe",
   "metadata": {},
   "outputs": [
    {
     "name": "stdout",
     "output_type": "stream",
     "text": [
      "45.0\n"
     ]
    }
   ],
   "source": [
    "media(23,45,67)"
   ]
  },
  {
   "cell_type": "code",
   "execution_count": 90,
   "id": "9ce48b01",
   "metadata": {},
   "outputs": [],
   "source": [
    "# criando uma media, sem limitação de parametros\n",
    "def media(lista):\n",
    "    valor = sum(lista) / len(lista)\n",
    "    print(valor)"
   ]
  },
  {
   "cell_type": "code",
   "execution_count": 91,
   "id": "89a3b9f5",
   "metadata": {},
   "outputs": [
    {
     "name": "stdout",
     "output_type": "stream",
     "text": [
      "22.615384615384617\n"
     ]
    }
   ],
   "source": [
    "resultado = media([4,6,7,8,5,9,5,60,8,59,56,59,8])\n",
    "resultado"
   ]
  },
  {
   "cell_type": "markdown",
   "id": "e4615856",
   "metadata": {},
   "source": [
    "# Definindo funções que retornam valores"
   ]
  },
  {
   "cell_type": "markdown",
   "id": "b2698591",
   "metadata": {},
   "source": [
    "**Funções que retornam um valor**\n",
    "\n",
    "\n",
    "def nome(param_1, param_2, ..., param_n):\n",
    "\n",
    "    (instruções)\n",
    "    \n",
    "   return (resultado)\n"
   ]
  },
  {
   "cell_type": "code",
   "execution_count": 92,
   "id": "2394e377",
   "metadata": {},
   "outputs": [],
   "source": [
    "def media(lista):\n",
    "    valor = sum(lista) / len(lista)\n",
    "    return valor"
   ]
  },
  {
   "cell_type": "code",
   "execution_count": 93,
   "id": "f2f1282b",
   "metadata": {},
   "outputs": [
    {
     "data": {
      "text/plain": [
       "5.0"
      ]
     },
     "execution_count": 93,
     "metadata": {},
     "output_type": "execute_result"
    }
   ],
   "source": [
    "media([1,5,6,7,8,2,6])"
   ]
  },
  {
   "cell_type": "code",
   "execution_count": 94,
   "id": "bcc32bd1",
   "metadata": {},
   "outputs": [
    {
     "data": {
      "text/plain": [
       "5.0"
      ]
     },
     "execution_count": 94,
     "metadata": {},
     "output_type": "execute_result"
    }
   ],
   "source": [
    "# Atribuindo o resultado á média\n",
    "resultado = media([1,5,6,7,8,2,6])\n",
    "resultado"
   ]
  },
  {
   "cell_type": "markdown",
   "id": "df69f8fb",
   "metadata": {},
   "source": [
    "# Definindo funções que retornam mais de um valor\n",
    "\n",
    "**Formato padrão**\n",
    "\n",
    "def nome(param_1, param_2, ..., param_n):\n",
    "    \n",
    "    instruções\n",
    "    \n",
    "    return (resultado_1, resultado_2, ..., resultado_n)"
   ]
  },
  {
   "cell_type": "code",
   "execution_count": 95,
   "id": "d62be869",
   "metadata": {},
   "outputs": [],
   "source": [
    "# Fazendo a media retornando o valor e o tamanho dos elementos inseridos\n",
    "\n",
    "def media(lista):\n",
    "    valor = sum(lista) / len(lista)\n",
    "    return (valor, len(lista))"
   ]
  },
  {
   "cell_type": "code",
   "execution_count": 96,
   "id": "49d18317",
   "metadata": {},
   "outputs": [
    {
     "data": {
      "text/plain": [
       "(5.0, 7)"
      ]
     },
     "execution_count": 96,
     "metadata": {},
     "output_type": "execute_result"
    }
   ],
   "source": [
    "media([1,5,6,7,8,2,6])"
   ]
  },
  {
   "cell_type": "code",
   "execution_count": 97,
   "id": "93a211c5",
   "metadata": {},
   "outputs": [],
   "source": [
    "resultado, n = media([1,5,6,7,8,2,6])"
   ]
  },
  {
   "cell_type": "code",
   "execution_count": 98,
   "id": "aa62b28b",
   "metadata": {},
   "outputs": [
    {
     "data": {
      "text/plain": [
       "5.0"
      ]
     },
     "execution_count": 98,
     "metadata": {},
     "output_type": "execute_result"
    }
   ],
   "source": [
    "resultado"
   ]
  },
  {
   "cell_type": "code",
   "execution_count": 99,
   "id": "30bda194",
   "metadata": {},
   "outputs": [
    {
     "data": {
      "text/plain": [
       "7"
      ]
     },
     "execution_count": 99,
     "metadata": {},
     "output_type": "execute_result"
    }
   ],
   "source": [
    "n"
   ]
  },
  {
   "cell_type": "markdown",
   "id": "46f77fe5",
   "metadata": {},
   "source": [
    "# PANDAS BÁSICO\n",
    "\n",
    "Pandas é uma ferramenta de manipulação de dados de alto nível, construída com base no pacote Numpy. O pacote pandas possui estruturas de dados bastante interessantes para manipulação de dados e por isso é muito utilizado por cientistas de dados.\n",
    "\n"
   ]
  },
  {
   "cell_type": "markdown",
   "id": "e75ebd58",
   "metadata": {},
   "source": [
    "# Estrutura dos dados"
   ]
  },
  {
   "cell_type": "markdown",
   "id": "3c5331da",
   "metadata": {},
   "source": [
    "**Series**\n",
    "\n",
    "series são arrays unidimensionais rotulados capazes de armazenar qualquer tipo de dado. Os rótulos das linhas de uma series são conhecidos como index, e temos abaixo a forma básica de criação dessa estrutura:"
   ]
  },
  {
   "cell_type": "raw",
   "id": "73e5b83e",
   "metadata": {},
   "source": [
    " s = pd.Series(dados, index = index)"
   ]
  },
  {
   "cell_type": "markdown",
   "id": "aff54da6",
   "metadata": {},
   "source": [
    "O argumento dado por um dicionário, uma lista, um array Numpy ou uma constante"
   ]
  },
  {
   "cell_type": "markdown",
   "id": "5fc970f9",
   "metadata": {},
   "source": [
    "# DataFrames"
   ]
  },
  {
   "cell_type": "markdown",
   "id": "0715d939",
   "metadata": {},
   "source": [
    "Dataframe é uma estrutura de dados tabular bidimensional com rótulos nas linha e colunas. Assim como as series, os dataframes são capazes de armazenar qualquer tipo de dado."
   ]
  },
  {
   "cell_type": "raw",
   "id": "5c8ca649",
   "metadata": {},
   "source": [
    "df = pd.DataFrame(dados, index = index, columns = columns)"
   ]
  },
  {
   "cell_type": "markdown",
   "id": "93fb9f98",
   "metadata": {},
   "source": [
    "O argumento dados, mais uma vez, podem ser um dicionário, uma lista, um array Numpy, uma Series ou mesmo outro dataframe."
   ]
  },
  {
   "cell_type": "markdown",
   "id": "d93acce4",
   "metadata": {},
   "source": [
    "# Estrutura dos dados\n",
    "\n",
    "**Criando uma Series a partir de uma lista**"
   ]
  },
  {
   "cell_type": "code",
   "execution_count": 100,
   "id": "67728e8f",
   "metadata": {},
   "outputs": [
    {
     "data": {
      "text/plain": [
       "['Jetta Variant', 'Passat', 'Crossfox', 'DS5']"
      ]
     },
     "execution_count": 100,
     "metadata": {},
     "output_type": "execute_result"
    }
   ],
   "source": [
    "carros"
   ]
  },
  {
   "cell_type": "code",
   "execution_count": 101,
   "id": "422886f1",
   "metadata": {},
   "outputs": [
    {
     "data": {
      "text/plain": [
       "0    Jetta Variant\n",
       "1           Passat\n",
       "2         Crossfox\n",
       "3              DS5\n",
       "dtype: object"
      ]
     },
     "execution_count": 101,
     "metadata": {},
     "output_type": "execute_result"
    }
   ],
   "source": [
    "pd.Series(carros)"
   ]
  },
  {
   "cell_type": "markdown",
   "id": "e222257a",
   "metadata": {},
   "source": [
    "**Criando um Dataframe a partir de um dicionário**"
   ]
  },
  {
   "cell_type": "code",
   "execution_count": 102,
   "id": "d5a3b8e0",
   "metadata": {},
   "outputs": [],
   "source": [
    "dados = [\n",
    "    {'Nome': 'Jetta Variant', 'Motor': 'Motor 4.0 Turbo', 'Ano': 2003, 'Quilometragem': 44410.0, 'Zero_km': False, 'Valor': 88078.64},\n",
    "    {'Nome': 'Passat', 'Motor': 'Motor Diesel', 'Ano': 1991, 'Quilometragem': 5712.0, 'Zero_km': False, 'Valor': 106161.94},\n",
    "    {'Nome': 'Crossfox', 'Motor': 'Motor Diesel V8', 'Ano': 1990, 'Quilometragem': 37123.0, 'Zero_km': False, 'Valor': 72832.16}\n",
    "]"
   ]
  },
  {
   "cell_type": "code",
   "execution_count": 103,
   "id": "5a9b47a3",
   "metadata": {},
   "outputs": [],
   "source": [
    "# Criando dataframe\n",
    "dataset = pd.DataFrame(dados)"
   ]
  },
  {
   "cell_type": "code",
   "execution_count": 104,
   "id": "b75612e3",
   "metadata": {},
   "outputs": [
    {
     "data": {
      "text/html": [
       "<div>\n",
       "<style scoped>\n",
       "    .dataframe tbody tr th:only-of-type {\n",
       "        vertical-align: middle;\n",
       "    }\n",
       "\n",
       "    .dataframe tbody tr th {\n",
       "        vertical-align: top;\n",
       "    }\n",
       "\n",
       "    .dataframe thead th {\n",
       "        text-align: right;\n",
       "    }\n",
       "</style>\n",
       "<table border=\"1\" class=\"dataframe\">\n",
       "  <thead>\n",
       "    <tr style=\"text-align: right;\">\n",
       "      <th></th>\n",
       "      <th>Nome</th>\n",
       "      <th>Motor</th>\n",
       "      <th>Ano</th>\n",
       "      <th>Quilometragem</th>\n",
       "      <th>Zero_km</th>\n",
       "      <th>Valor</th>\n",
       "    </tr>\n",
       "  </thead>\n",
       "  <tbody>\n",
       "    <tr>\n",
       "      <th>0</th>\n",
       "      <td>Jetta Variant</td>\n",
       "      <td>Motor 4.0 Turbo</td>\n",
       "      <td>2003</td>\n",
       "      <td>44410.0</td>\n",
       "      <td>False</td>\n",
       "      <td>88078.64</td>\n",
       "    </tr>\n",
       "    <tr>\n",
       "      <th>1</th>\n",
       "      <td>Passat</td>\n",
       "      <td>Motor Diesel</td>\n",
       "      <td>1991</td>\n",
       "      <td>5712.0</td>\n",
       "      <td>False</td>\n",
       "      <td>106161.94</td>\n",
       "    </tr>\n",
       "    <tr>\n",
       "      <th>2</th>\n",
       "      <td>Crossfox</td>\n",
       "      <td>Motor Diesel V8</td>\n",
       "      <td>1990</td>\n",
       "      <td>37123.0</td>\n",
       "      <td>False</td>\n",
       "      <td>72832.16</td>\n",
       "    </tr>\n",
       "  </tbody>\n",
       "</table>\n",
       "</div>"
      ],
      "text/plain": [
       "            Nome            Motor   Ano  Quilometragem  Zero_km      Valor\n",
       "0  Jetta Variant  Motor 4.0 Turbo  2003        44410.0    False   88078.64\n",
       "1         Passat     Motor Diesel  1991         5712.0    False  106161.94\n",
       "2       Crossfox  Motor Diesel V8  1990        37123.0    False   72832.16"
      ]
     },
     "execution_count": 104,
     "metadata": {},
     "output_type": "execute_result"
    }
   ],
   "source": [
    "dataset"
   ]
  },
  {
   "cell_type": "code",
   "execution_count": 105,
   "id": "1edabe66",
   "metadata": {},
   "outputs": [
    {
     "data": {
      "text/html": [
       "<div>\n",
       "<style scoped>\n",
       "    .dataframe tbody tr th:only-of-type {\n",
       "        vertical-align: middle;\n",
       "    }\n",
       "\n",
       "    .dataframe tbody tr th {\n",
       "        vertical-align: top;\n",
       "    }\n",
       "\n",
       "    .dataframe thead th {\n",
       "        text-align: right;\n",
       "    }\n",
       "</style>\n",
       "<table border=\"1\" class=\"dataframe\">\n",
       "  <thead>\n",
       "    <tr style=\"text-align: right;\">\n",
       "      <th></th>\n",
       "      <th>Ano</th>\n",
       "      <th>Nome</th>\n",
       "      <th>Motor</th>\n",
       "      <th>Quilometragem</th>\n",
       "      <th>Zero_km</th>\n",
       "      <th>Valor</th>\n",
       "    </tr>\n",
       "  </thead>\n",
       "  <tbody>\n",
       "    <tr>\n",
       "      <th>0</th>\n",
       "      <td>2003</td>\n",
       "      <td>Jetta Variant</td>\n",
       "      <td>Motor 4.0 Turbo</td>\n",
       "      <td>44410.0</td>\n",
       "      <td>False</td>\n",
       "      <td>88078.64</td>\n",
       "    </tr>\n",
       "    <tr>\n",
       "      <th>1</th>\n",
       "      <td>1991</td>\n",
       "      <td>Passat</td>\n",
       "      <td>Motor Diesel</td>\n",
       "      <td>5712.0</td>\n",
       "      <td>False</td>\n",
       "      <td>106161.94</td>\n",
       "    </tr>\n",
       "    <tr>\n",
       "      <th>2</th>\n",
       "      <td>1990</td>\n",
       "      <td>Crossfox</td>\n",
       "      <td>Motor Diesel V8</td>\n",
       "      <td>37123.0</td>\n",
       "      <td>False</td>\n",
       "      <td>72832.16</td>\n",
       "    </tr>\n",
       "  </tbody>\n",
       "</table>\n",
       "</div>"
      ],
      "text/plain": [
       "    Ano           Nome            Motor  Quilometragem  Zero_km      Valor\n",
       "0  2003  Jetta Variant  Motor 4.0 Turbo        44410.0    False   88078.64\n",
       "1  1991         Passat     Motor Diesel         5712.0    False  106161.94\n",
       "2  1990       Crossfox  Motor Diesel V8        37123.0    False   72832.16"
      ]
     },
     "execution_count": 105,
     "metadata": {},
     "output_type": "execute_result"
    }
   ],
   "source": [
    "# Modificando a ordem das colunas\n",
    "\n",
    "dataset[['Ano', 'Nome','Motor','Quilometragem', 'Zero_km', 'Valor']]"
   ]
  },
  {
   "cell_type": "markdown",
   "id": "b25006ed",
   "metadata": {},
   "source": [
    "**Criando um dataframe a partir dos dicionários**\n",
    "\n"
   ]
  },
  {
   "cell_type": "code",
   "execution_count": 106,
   "id": "bd50b6be",
   "metadata": {},
   "outputs": [],
   "source": [
    "dados = {\n",
    "    'Nome': ['Jetta Variant', 'Passat', 'Crossfox'], \n",
    "    'Motor': ['Motor 4.0 Turbo', 'Motor Diesel', 'Motor Diesel V8'],\n",
    "    'Ano': [2003, 1991, 1990],\n",
    "    'Quilometragem': [44410.0, 5712.0, 37123.0],\n",
    "    'Zero_km': [False, False, False],\n",
    "    'Valor': [88078.64, 106161.94, 72832.16]\n",
    "}"
   ]
  },
  {
   "cell_type": "code",
   "execution_count": 107,
   "id": "0d18ff78",
   "metadata": {},
   "outputs": [],
   "source": [
    "dataset = pd.DataFrame(dados)"
   ]
  },
  {
   "cell_type": "code",
   "execution_count": 108,
   "id": "a39b0617",
   "metadata": {},
   "outputs": [
    {
     "data": {
      "text/html": [
       "<div>\n",
       "<style scoped>\n",
       "    .dataframe tbody tr th:only-of-type {\n",
       "        vertical-align: middle;\n",
       "    }\n",
       "\n",
       "    .dataframe tbody tr th {\n",
       "        vertical-align: top;\n",
       "    }\n",
       "\n",
       "    .dataframe thead th {\n",
       "        text-align: right;\n",
       "    }\n",
       "</style>\n",
       "<table border=\"1\" class=\"dataframe\">\n",
       "  <thead>\n",
       "    <tr style=\"text-align: right;\">\n",
       "      <th></th>\n",
       "      <th>Nome</th>\n",
       "      <th>Motor</th>\n",
       "      <th>Ano</th>\n",
       "      <th>Quilometragem</th>\n",
       "      <th>Zero_km</th>\n",
       "      <th>Valor</th>\n",
       "    </tr>\n",
       "  </thead>\n",
       "  <tbody>\n",
       "    <tr>\n",
       "      <th>0</th>\n",
       "      <td>Jetta Variant</td>\n",
       "      <td>Motor 4.0 Turbo</td>\n",
       "      <td>2003</td>\n",
       "      <td>44410.0</td>\n",
       "      <td>False</td>\n",
       "      <td>88078.64</td>\n",
       "    </tr>\n",
       "    <tr>\n",
       "      <th>1</th>\n",
       "      <td>Passat</td>\n",
       "      <td>Motor Diesel</td>\n",
       "      <td>1991</td>\n",
       "      <td>5712.0</td>\n",
       "      <td>False</td>\n",
       "      <td>106161.94</td>\n",
       "    </tr>\n",
       "    <tr>\n",
       "      <th>2</th>\n",
       "      <td>Crossfox</td>\n",
       "      <td>Motor Diesel V8</td>\n",
       "      <td>1990</td>\n",
       "      <td>37123.0</td>\n",
       "      <td>False</td>\n",
       "      <td>72832.16</td>\n",
       "    </tr>\n",
       "  </tbody>\n",
       "</table>\n",
       "</div>"
      ],
      "text/plain": [
       "            Nome            Motor   Ano  Quilometragem  Zero_km      Valor\n",
       "0  Jetta Variant  Motor 4.0 Turbo  2003        44410.0    False   88078.64\n",
       "1         Passat     Motor Diesel  1991         5712.0    False  106161.94\n",
       "2       Crossfox  Motor Diesel V8  1990        37123.0    False   72832.16"
      ]
     },
     "execution_count": 108,
     "metadata": {},
     "output_type": "execute_result"
    }
   ],
   "source": [
    "dataset"
   ]
  },
  {
   "cell_type": "markdown",
   "id": "c710f033",
   "metadata": {},
   "source": [
    "**Criando um dataframe a partir de um arquivo externo**"
   ]
  },
  {
   "cell_type": "code",
   "execution_count": 109,
   "id": "b730c5a3",
   "metadata": {},
   "outputs": [],
   "source": [
    "# utilizando separador por virgula  e deixa a coluna nome como index\n",
    "dataset = pd.read_csv(\"db.csv\", sep = ';', index_col = 0)"
   ]
  },
  {
   "cell_type": "code",
   "execution_count": 110,
   "id": "dcf9382a",
   "metadata": {
    "scrolled": true
   },
   "outputs": [
    {
     "data": {
      "text/html": [
       "<div>\n",
       "<style scoped>\n",
       "    .dataframe tbody tr th:only-of-type {\n",
       "        vertical-align: middle;\n",
       "    }\n",
       "\n",
       "    .dataframe tbody tr th {\n",
       "        vertical-align: top;\n",
       "    }\n",
       "\n",
       "    .dataframe thead th {\n",
       "        text-align: right;\n",
       "    }\n",
       "</style>\n",
       "<table border=\"1\" class=\"dataframe\">\n",
       "  <thead>\n",
       "    <tr style=\"text-align: right;\">\n",
       "      <th></th>\n",
       "      <th>Motor</th>\n",
       "      <th>Ano</th>\n",
       "      <th>Quilometragem</th>\n",
       "      <th>Zero_km</th>\n",
       "      <th>Acessórios</th>\n",
       "      <th>Valor</th>\n",
       "    </tr>\n",
       "    <tr>\n",
       "      <th>Nome</th>\n",
       "      <th></th>\n",
       "      <th></th>\n",
       "      <th></th>\n",
       "      <th></th>\n",
       "      <th></th>\n",
       "      <th></th>\n",
       "    </tr>\n",
       "  </thead>\n",
       "  <tbody>\n",
       "    <tr>\n",
       "      <th>Jetta Variant</th>\n",
       "      <td>Motor 4.0 Turbo</td>\n",
       "      <td>2003</td>\n",
       "      <td>44410.0</td>\n",
       "      <td>False</td>\n",
       "      <td>['Rodas de liga', 'Travas elétricas', 'Piloto ...</td>\n",
       "      <td>88078.64</td>\n",
       "    </tr>\n",
       "    <tr>\n",
       "      <th>Passat</th>\n",
       "      <td>Motor Diesel</td>\n",
       "      <td>1991</td>\n",
       "      <td>5712.0</td>\n",
       "      <td>False</td>\n",
       "      <td>['Central multimídia', 'Teto panorâmico', 'Fre...</td>\n",
       "      <td>106161.94</td>\n",
       "    </tr>\n",
       "    <tr>\n",
       "      <th>Crossfox</th>\n",
       "      <td>Motor Diesel V8</td>\n",
       "      <td>1990</td>\n",
       "      <td>37123.0</td>\n",
       "      <td>False</td>\n",
       "      <td>['Piloto automático', 'Controle de estabilidad...</td>\n",
       "      <td>72832.16</td>\n",
       "    </tr>\n",
       "    <tr>\n",
       "      <th>DS5</th>\n",
       "      <td>Motor 2.4 Turbo</td>\n",
       "      <td>2019</td>\n",
       "      <td>NaN</td>\n",
       "      <td>True</td>\n",
       "      <td>['Travas elétricas', '4 X 4', 'Vidros elétrico...</td>\n",
       "      <td>124549.07</td>\n",
       "    </tr>\n",
       "    <tr>\n",
       "      <th>Aston Martin DB4</th>\n",
       "      <td>Motor 2.4 Turbo</td>\n",
       "      <td>2006</td>\n",
       "      <td>25757.0</td>\n",
       "      <td>False</td>\n",
       "      <td>['Rodas de liga', '4 X 4', 'Central multimídia...</td>\n",
       "      <td>92612.10</td>\n",
       "    </tr>\n",
       "    <tr>\n",
       "      <th>...</th>\n",
       "      <td>...</td>\n",
       "      <td>...</td>\n",
       "      <td>...</td>\n",
       "      <td>...</td>\n",
       "      <td>...</td>\n",
       "      <td>...</td>\n",
       "    </tr>\n",
       "    <tr>\n",
       "      <th>Phantom 2013</th>\n",
       "      <td>Motor V8</td>\n",
       "      <td>2014</td>\n",
       "      <td>27505.0</td>\n",
       "      <td>False</td>\n",
       "      <td>['Controle de estabilidade', 'Piloto automátic...</td>\n",
       "      <td>51759.58</td>\n",
       "    </tr>\n",
       "    <tr>\n",
       "      <th>Cadillac Ciel concept</th>\n",
       "      <td>Motor V8</td>\n",
       "      <td>1991</td>\n",
       "      <td>29981.0</td>\n",
       "      <td>False</td>\n",
       "      <td>['Bancos de couro', 'Painel digital', 'Sensor ...</td>\n",
       "      <td>51667.06</td>\n",
       "    </tr>\n",
       "    <tr>\n",
       "      <th>Classe GLK</th>\n",
       "      <td>Motor 5.0 V8 Bi-Turbo</td>\n",
       "      <td>2002</td>\n",
       "      <td>52637.0</td>\n",
       "      <td>False</td>\n",
       "      <td>['Rodas de liga', 'Controle de tração', 'Câmbi...</td>\n",
       "      <td>68934.03</td>\n",
       "    </tr>\n",
       "    <tr>\n",
       "      <th>Aston Martin DB5</th>\n",
       "      <td>Motor Diesel</td>\n",
       "      <td>1996</td>\n",
       "      <td>7685.0</td>\n",
       "      <td>False</td>\n",
       "      <td>['Ar condicionado', '4 X 4', 'Câmbio automátic...</td>\n",
       "      <td>122110.90</td>\n",
       "    </tr>\n",
       "    <tr>\n",
       "      <th>Macan</th>\n",
       "      <td>Motor Diesel V6</td>\n",
       "      <td>1992</td>\n",
       "      <td>50188.0</td>\n",
       "      <td>False</td>\n",
       "      <td>['Central multimídia', 'Teto panorâmico', 'Vid...</td>\n",
       "      <td>90381.47</td>\n",
       "    </tr>\n",
       "  </tbody>\n",
       "</table>\n",
       "<p>258 rows × 6 columns</p>\n",
       "</div>"
      ],
      "text/plain": [
       "                                       Motor   Ano  Quilometragem  Zero_km  \\\n",
       "Nome                                                                         \n",
       "Jetta Variant                Motor 4.0 Turbo  2003        44410.0    False   \n",
       "Passat                          Motor Diesel  1991         5712.0    False   \n",
       "Crossfox                     Motor Diesel V8  1990        37123.0    False   \n",
       "DS5                          Motor 2.4 Turbo  2019            NaN     True   \n",
       "Aston Martin DB4             Motor 2.4 Turbo  2006        25757.0    False   \n",
       "...                                      ...   ...            ...      ...   \n",
       "Phantom 2013                        Motor V8  2014        27505.0    False   \n",
       "Cadillac Ciel concept               Motor V8  1991        29981.0    False   \n",
       "Classe GLK             Motor 5.0 V8 Bi-Turbo  2002        52637.0    False   \n",
       "Aston Martin DB5                Motor Diesel  1996         7685.0    False   \n",
       "Macan                        Motor Diesel V6  1992        50188.0    False   \n",
       "\n",
       "                                                              Acessórios  \\\n",
       "Nome                                                                       \n",
       "Jetta Variant          ['Rodas de liga', 'Travas elétricas', 'Piloto ...   \n",
       "Passat                 ['Central multimídia', 'Teto panorâmico', 'Fre...   \n",
       "Crossfox               ['Piloto automático', 'Controle de estabilidad...   \n",
       "DS5                    ['Travas elétricas', '4 X 4', 'Vidros elétrico...   \n",
       "Aston Martin DB4       ['Rodas de liga', '4 X 4', 'Central multimídia...   \n",
       "...                                                                  ...   \n",
       "Phantom 2013           ['Controle de estabilidade', 'Piloto automátic...   \n",
       "Cadillac Ciel concept  ['Bancos de couro', 'Painel digital', 'Sensor ...   \n",
       "Classe GLK             ['Rodas de liga', 'Controle de tração', 'Câmbi...   \n",
       "Aston Martin DB5       ['Ar condicionado', '4 X 4', 'Câmbio automátic...   \n",
       "Macan                  ['Central multimídia', 'Teto panorâmico', 'Vid...   \n",
       "\n",
       "                           Valor  \n",
       "Nome                              \n",
       "Jetta Variant           88078.64  \n",
       "Passat                 106161.94  \n",
       "Crossfox                72832.16  \n",
       "DS5                    124549.07  \n",
       "Aston Martin DB4        92612.10  \n",
       "...                          ...  \n",
       "Phantom 2013            51759.58  \n",
       "Cadillac Ciel concept   51667.06  \n",
       "Classe GLK              68934.03  \n",
       "Aston Martin DB5       122110.90  \n",
       "Macan                   90381.47  \n",
       "\n",
       "[258 rows x 6 columns]"
      ]
     },
     "execution_count": 110,
     "metadata": {},
     "output_type": "execute_result"
    }
   ],
   "source": [
    "dataset"
   ]
  },
  {
   "cell_type": "markdown",
   "id": "5b5eed5f",
   "metadata": {},
   "source": [
    "# Seleções com DataFrame"
   ]
  },
  {
   "cell_type": "code",
   "execution_count": 111,
   "id": "9540fcc4",
   "metadata": {},
   "outputs": [
    {
     "data": {
      "text/html": [
       "<div>\n",
       "<style scoped>\n",
       "    .dataframe tbody tr th:only-of-type {\n",
       "        vertical-align: middle;\n",
       "    }\n",
       "\n",
       "    .dataframe tbody tr th {\n",
       "        vertical-align: top;\n",
       "    }\n",
       "\n",
       "    .dataframe thead th {\n",
       "        text-align: right;\n",
       "    }\n",
       "</style>\n",
       "<table border=\"1\" class=\"dataframe\">\n",
       "  <thead>\n",
       "    <tr style=\"text-align: right;\">\n",
       "      <th></th>\n",
       "      <th>Motor</th>\n",
       "      <th>Ano</th>\n",
       "      <th>Quilometragem</th>\n",
       "      <th>Zero_km</th>\n",
       "      <th>Acessórios</th>\n",
       "      <th>Valor</th>\n",
       "    </tr>\n",
       "    <tr>\n",
       "      <th>Nome</th>\n",
       "      <th></th>\n",
       "      <th></th>\n",
       "      <th></th>\n",
       "      <th></th>\n",
       "      <th></th>\n",
       "      <th></th>\n",
       "    </tr>\n",
       "  </thead>\n",
       "  <tbody>\n",
       "    <tr>\n",
       "      <th>Jetta Variant</th>\n",
       "      <td>Motor 4.0 Turbo</td>\n",
       "      <td>2003</td>\n",
       "      <td>44410.0</td>\n",
       "      <td>False</td>\n",
       "      <td>['Rodas de liga', 'Travas elétricas', 'Piloto ...</td>\n",
       "      <td>88078.64</td>\n",
       "    </tr>\n",
       "    <tr>\n",
       "      <th>Passat</th>\n",
       "      <td>Motor Diesel</td>\n",
       "      <td>1991</td>\n",
       "      <td>5712.0</td>\n",
       "      <td>False</td>\n",
       "      <td>['Central multimídia', 'Teto panorâmico', 'Fre...</td>\n",
       "      <td>106161.94</td>\n",
       "    </tr>\n",
       "    <tr>\n",
       "      <th>Crossfox</th>\n",
       "      <td>Motor Diesel V8</td>\n",
       "      <td>1990</td>\n",
       "      <td>37123.0</td>\n",
       "      <td>False</td>\n",
       "      <td>['Piloto automático', 'Controle de estabilidad...</td>\n",
       "      <td>72832.16</td>\n",
       "    </tr>\n",
       "    <tr>\n",
       "      <th>DS5</th>\n",
       "      <td>Motor 2.4 Turbo</td>\n",
       "      <td>2019</td>\n",
       "      <td>NaN</td>\n",
       "      <td>True</td>\n",
       "      <td>['Travas elétricas', '4 X 4', 'Vidros elétrico...</td>\n",
       "      <td>124549.07</td>\n",
       "    </tr>\n",
       "    <tr>\n",
       "      <th>Aston Martin DB4</th>\n",
       "      <td>Motor 2.4 Turbo</td>\n",
       "      <td>2006</td>\n",
       "      <td>25757.0</td>\n",
       "      <td>False</td>\n",
       "      <td>['Rodas de liga', '4 X 4', 'Central multimídia...</td>\n",
       "      <td>92612.10</td>\n",
       "    </tr>\n",
       "  </tbody>\n",
       "</table>\n",
       "</div>"
      ],
      "text/plain": [
       "                            Motor   Ano  Quilometragem  Zero_km  \\\n",
       "Nome                                                              \n",
       "Jetta Variant     Motor 4.0 Turbo  2003        44410.0    False   \n",
       "Passat               Motor Diesel  1991         5712.0    False   \n",
       "Crossfox          Motor Diesel V8  1990        37123.0    False   \n",
       "DS5               Motor 2.4 Turbo  2019            NaN     True   \n",
       "Aston Martin DB4  Motor 2.4 Turbo  2006        25757.0    False   \n",
       "\n",
       "                                                         Acessórios      Valor  \n",
       "Nome                                                                            \n",
       "Jetta Variant     ['Rodas de liga', 'Travas elétricas', 'Piloto ...   88078.64  \n",
       "Passat            ['Central multimídia', 'Teto panorâmico', 'Fre...  106161.94  \n",
       "Crossfox          ['Piloto automático', 'Controle de estabilidad...   72832.16  \n",
       "DS5               ['Travas elétricas', '4 X 4', 'Vidros elétrico...  124549.07  \n",
       "Aston Martin DB4  ['Rodas de liga', '4 X 4', 'Central multimídia...   92612.10  "
      ]
     },
     "execution_count": 111,
     "metadata": {},
     "output_type": "execute_result"
    }
   ],
   "source": [
    "# trazendo somente as 5 primeiras linhas com head\n",
    "dataset.head()"
   ]
  },
  {
   "cell_type": "code",
   "execution_count": 112,
   "id": "bbf2bc44",
   "metadata": {},
   "outputs": [
    {
     "data": {
      "text/plain": [
       "Nome\n",
       "Jetta Variant        88078.64\n",
       "Passat              106161.94\n",
       "Crossfox             72832.16\n",
       "DS5                 124549.07\n",
       "Aston Martin DB4     92612.10\n",
       "Name: Valor, dtype: float64"
      ]
     },
     "execution_count": 112,
     "metadata": {},
     "output_type": "execute_result"
    }
   ],
   "source": [
    "# Pegando a coluna valor somente\n",
    "dataset['Valor'].head()"
   ]
  },
  {
   "cell_type": "code",
   "execution_count": 113,
   "id": "a4ee1c99",
   "metadata": {},
   "outputs": [
    {
     "data": {
      "text/plain": [
       "pandas.core.series.Series"
      ]
     },
     "execution_count": 113,
     "metadata": {},
     "output_type": "execute_result"
    }
   ],
   "source": [
    "# Verificando o tipo series\n",
    "type(dataset['Valor'])"
   ]
  },
  {
   "cell_type": "code",
   "execution_count": 114,
   "id": "1d123d76",
   "metadata": {},
   "outputs": [
    {
     "data": {
      "text/html": [
       "<div>\n",
       "<style scoped>\n",
       "    .dataframe tbody tr th:only-of-type {\n",
       "        vertical-align: middle;\n",
       "    }\n",
       "\n",
       "    .dataframe tbody tr th {\n",
       "        vertical-align: top;\n",
       "    }\n",
       "\n",
       "    .dataframe thead th {\n",
       "        text-align: right;\n",
       "    }\n",
       "</style>\n",
       "<table border=\"1\" class=\"dataframe\">\n",
       "  <thead>\n",
       "    <tr style=\"text-align: right;\">\n",
       "      <th></th>\n",
       "      <th>Valor</th>\n",
       "    </tr>\n",
       "    <tr>\n",
       "      <th>Nome</th>\n",
       "      <th></th>\n",
       "    </tr>\n",
       "  </thead>\n",
       "  <tbody>\n",
       "    <tr>\n",
       "      <th>Jetta Variant</th>\n",
       "      <td>88078.64</td>\n",
       "    </tr>\n",
       "    <tr>\n",
       "      <th>Passat</th>\n",
       "      <td>106161.94</td>\n",
       "    </tr>\n",
       "    <tr>\n",
       "      <th>Crossfox</th>\n",
       "      <td>72832.16</td>\n",
       "    </tr>\n",
       "    <tr>\n",
       "      <th>DS5</th>\n",
       "      <td>124549.07</td>\n",
       "    </tr>\n",
       "    <tr>\n",
       "      <th>Aston Martin DB4</th>\n",
       "      <td>92612.10</td>\n",
       "    </tr>\n",
       "    <tr>\n",
       "      <th>...</th>\n",
       "      <td>...</td>\n",
       "    </tr>\n",
       "    <tr>\n",
       "      <th>Phantom 2013</th>\n",
       "      <td>51759.58</td>\n",
       "    </tr>\n",
       "    <tr>\n",
       "      <th>Cadillac Ciel concept</th>\n",
       "      <td>51667.06</td>\n",
       "    </tr>\n",
       "    <tr>\n",
       "      <th>Classe GLK</th>\n",
       "      <td>68934.03</td>\n",
       "    </tr>\n",
       "    <tr>\n",
       "      <th>Aston Martin DB5</th>\n",
       "      <td>122110.90</td>\n",
       "    </tr>\n",
       "    <tr>\n",
       "      <th>Macan</th>\n",
       "      <td>90381.47</td>\n",
       "    </tr>\n",
       "  </tbody>\n",
       "</table>\n",
       "<p>258 rows × 1 columns</p>\n",
       "</div>"
      ],
      "text/plain": [
       "                           Valor\n",
       "Nome                            \n",
       "Jetta Variant           88078.64\n",
       "Passat                 106161.94\n",
       "Crossfox                72832.16\n",
       "DS5                    124549.07\n",
       "Aston Martin DB4        92612.10\n",
       "...                          ...\n",
       "Phantom 2013            51759.58\n",
       "Cadillac Ciel concept   51667.06\n",
       "Classe GLK              68934.03\n",
       "Aston Martin DB5       122110.90\n",
       "Macan                   90381.47\n",
       "\n",
       "[258 rows x 1 columns]"
      ]
     },
     "execution_count": 114,
     "metadata": {},
     "output_type": "execute_result"
    }
   ],
   "source": [
    "# Trazendo somente a coluna valor do dataframe\n",
    "# Trazendo somente a coluna valor do dataframe\n",
    "dataset[['Valor']]"
   ]
  },
  {
   "cell_type": "code",
   "execution_count": 115,
   "id": "b6e1d017",
   "metadata": {},
   "outputs": [
    {
     "data": {
      "text/plain": [
       "pandas.core.frame.DataFrame"
      ]
     },
     "execution_count": 115,
     "metadata": {},
     "output_type": "execute_result"
    }
   ],
   "source": [
    "# Nesse caso ja podemos ver que o tipe é um dataframe e nao series\n",
    "type(dataset[['Valor']])"
   ]
  },
  {
   "cell_type": "markdown",
   "id": "2e39e597",
   "metadata": {},
   "source": [
    "**Selecionando Linhas  - [ i:j ]**"
   ]
  },
  {
   "cell_type": "code",
   "execution_count": 116,
   "id": "0835c675",
   "metadata": {},
   "outputs": [
    {
     "data": {
      "text/html": [
       "<div>\n",
       "<style scoped>\n",
       "    .dataframe tbody tr th:only-of-type {\n",
       "        vertical-align: middle;\n",
       "    }\n",
       "\n",
       "    .dataframe tbody tr th {\n",
       "        vertical-align: top;\n",
       "    }\n",
       "\n",
       "    .dataframe thead th {\n",
       "        text-align: right;\n",
       "    }\n",
       "</style>\n",
       "<table border=\"1\" class=\"dataframe\">\n",
       "  <thead>\n",
       "    <tr style=\"text-align: right;\">\n",
       "      <th></th>\n",
       "      <th>Motor</th>\n",
       "      <th>Ano</th>\n",
       "      <th>Quilometragem</th>\n",
       "      <th>Zero_km</th>\n",
       "      <th>Acessórios</th>\n",
       "      <th>Valor</th>\n",
       "    </tr>\n",
       "    <tr>\n",
       "      <th>Nome</th>\n",
       "      <th></th>\n",
       "      <th></th>\n",
       "      <th></th>\n",
       "      <th></th>\n",
       "      <th></th>\n",
       "      <th></th>\n",
       "    </tr>\n",
       "  </thead>\n",
       "  <tbody>\n",
       "    <tr>\n",
       "      <th>Jetta Variant</th>\n",
       "      <td>Motor 4.0 Turbo</td>\n",
       "      <td>2003</td>\n",
       "      <td>44410.0</td>\n",
       "      <td>False</td>\n",
       "      <td>['Rodas de liga', 'Travas elétricas', 'Piloto ...</td>\n",
       "      <td>88078.64</td>\n",
       "    </tr>\n",
       "    <tr>\n",
       "      <th>Passat</th>\n",
       "      <td>Motor Diesel</td>\n",
       "      <td>1991</td>\n",
       "      <td>5712.0</td>\n",
       "      <td>False</td>\n",
       "      <td>['Central multimídia', 'Teto panorâmico', 'Fre...</td>\n",
       "      <td>106161.94</td>\n",
       "    </tr>\n",
       "    <tr>\n",
       "      <th>Crossfox</th>\n",
       "      <td>Motor Diesel V8</td>\n",
       "      <td>1990</td>\n",
       "      <td>37123.0</td>\n",
       "      <td>False</td>\n",
       "      <td>['Piloto automático', 'Controle de estabilidad...</td>\n",
       "      <td>72832.16</td>\n",
       "    </tr>\n",
       "  </tbody>\n",
       "</table>\n",
       "</div>"
      ],
      "text/plain": [
       "                         Motor   Ano  Quilometragem  Zero_km  \\\n",
       "Nome                                                           \n",
       "Jetta Variant  Motor 4.0 Turbo  2003        44410.0    False   \n",
       "Passat            Motor Diesel  1991         5712.0    False   \n",
       "Crossfox       Motor Diesel V8  1990        37123.0    False   \n",
       "\n",
       "                                                      Acessórios      Valor  \n",
       "Nome                                                                         \n",
       "Jetta Variant  ['Rodas de liga', 'Travas elétricas', 'Piloto ...   88078.64  \n",
       "Passat         ['Central multimídia', 'Teto panorâmico', 'Fre...  106161.94  \n",
       "Crossfox       ['Piloto automático', 'Controle de estabilidad...   72832.16  "
      ]
     },
     "execution_count": 116,
     "metadata": {},
     "output_type": "execute_result"
    }
   ],
   "source": [
    "# Selecionando a linha ate o indice 3. Lembrando que começa com 0\n",
    "dataset[0:3]"
   ]
  },
  {
   "cell_type": "markdown",
   "id": "aac0062d",
   "metadata": {},
   "source": [
    "**Utilizando .loc para seleção**\n",
    "\n",
    "seleciona um grupo de linhas e colunas segundo os rótulos ou uma matriz booleana"
   ]
  },
  {
   "cell_type": "code",
   "execution_count": 117,
   "id": "5da637e2",
   "metadata": {},
   "outputs": [
    {
     "data": {
      "text/plain": [
       "Motor                                                 Motor Diesel\n",
       "Ano                                                           1991\n",
       "Quilometragem                                               5712.0\n",
       "Zero_km                                                      False\n",
       "Acessórios       ['Central multimídia', 'Teto panorâmico', 'Fre...\n",
       "Valor                                                    106161.94\n",
       "Name: Passat, dtype: object"
      ]
     },
     "execution_count": 117,
     "metadata": {},
     "output_type": "execute_result"
    }
   ],
   "source": [
    "# Retornando uma Series da linha Passat\n",
    "dataset.loc['Passat']"
   ]
  },
  {
   "cell_type": "code",
   "execution_count": 118,
   "id": "4037d0f2",
   "metadata": {},
   "outputs": [
    {
     "data": {
      "text/html": [
       "<div>\n",
       "<style scoped>\n",
       "    .dataframe tbody tr th:only-of-type {\n",
       "        vertical-align: middle;\n",
       "    }\n",
       "\n",
       "    .dataframe tbody tr th {\n",
       "        vertical-align: top;\n",
       "    }\n",
       "\n",
       "    .dataframe thead th {\n",
       "        text-align: right;\n",
       "    }\n",
       "</style>\n",
       "<table border=\"1\" class=\"dataframe\">\n",
       "  <thead>\n",
       "    <tr style=\"text-align: right;\">\n",
       "      <th></th>\n",
       "      <th>Motor</th>\n",
       "      <th>Ano</th>\n",
       "      <th>Quilometragem</th>\n",
       "      <th>Zero_km</th>\n",
       "      <th>Acessórios</th>\n",
       "      <th>Valor</th>\n",
       "    </tr>\n",
       "    <tr>\n",
       "      <th>Nome</th>\n",
       "      <th></th>\n",
       "      <th></th>\n",
       "      <th></th>\n",
       "      <th></th>\n",
       "      <th></th>\n",
       "      <th></th>\n",
       "    </tr>\n",
       "  </thead>\n",
       "  <tbody>\n",
       "    <tr>\n",
       "      <th>Passat</th>\n",
       "      <td>Motor Diesel</td>\n",
       "      <td>1991</td>\n",
       "      <td>5712.0</td>\n",
       "      <td>False</td>\n",
       "      <td>['Central multimídia', 'Teto panorâmico', 'Fre...</td>\n",
       "      <td>106161.94</td>\n",
       "    </tr>\n",
       "    <tr>\n",
       "      <th>DS5</th>\n",
       "      <td>Motor 2.4 Turbo</td>\n",
       "      <td>2019</td>\n",
       "      <td>NaN</td>\n",
       "      <td>True</td>\n",
       "      <td>['Travas elétricas', '4 X 4', 'Vidros elétrico...</td>\n",
       "      <td>124549.07</td>\n",
       "    </tr>\n",
       "  </tbody>\n",
       "</table>\n",
       "</div>"
      ],
      "text/plain": [
       "                  Motor   Ano  Quilometragem  Zero_km  \\\n",
       "Nome                                                    \n",
       "Passat     Motor Diesel  1991         5712.0    False   \n",
       "DS5     Motor 2.4 Turbo  2019            NaN     True   \n",
       "\n",
       "                                               Acessórios      Valor  \n",
       "Nome                                                                  \n",
       "Passat  ['Central multimídia', 'Teto panorâmico', 'Fre...  106161.94  \n",
       "DS5     ['Travas elétricas', '4 X 4', 'Vidros elétrico...  124549.07  "
      ]
     },
     "execution_count": 118,
     "metadata": {},
     "output_type": "execute_result"
    }
   ],
   "source": [
    "# Retornando mais de uma informação em formato dataframe\n",
    "# Acessando através do rótulos, index no caso\n",
    "dataset.loc[['Passat', 'DS5']]"
   ]
  },
  {
   "cell_type": "code",
   "execution_count": 119,
   "id": "a012be26",
   "metadata": {},
   "outputs": [
    {
     "data": {
      "text/html": [
       "<div>\n",
       "<style scoped>\n",
       "    .dataframe tbody tr th:only-of-type {\n",
       "        vertical-align: middle;\n",
       "    }\n",
       "\n",
       "    .dataframe tbody tr th {\n",
       "        vertical-align: top;\n",
       "    }\n",
       "\n",
       "    .dataframe thead th {\n",
       "        text-align: right;\n",
       "    }\n",
       "</style>\n",
       "<table border=\"1\" class=\"dataframe\">\n",
       "  <thead>\n",
       "    <tr style=\"text-align: right;\">\n",
       "      <th></th>\n",
       "      <th>Motor</th>\n",
       "      <th>Valor</th>\n",
       "    </tr>\n",
       "    <tr>\n",
       "      <th>Nome</th>\n",
       "      <th></th>\n",
       "      <th></th>\n",
       "    </tr>\n",
       "  </thead>\n",
       "  <tbody>\n",
       "    <tr>\n",
       "      <th>Passat</th>\n",
       "      <td>Motor Diesel</td>\n",
       "      <td>106161.94</td>\n",
       "    </tr>\n",
       "    <tr>\n",
       "      <th>DS5</th>\n",
       "      <td>Motor 2.4 Turbo</td>\n",
       "      <td>124549.07</td>\n",
       "    </tr>\n",
       "  </tbody>\n",
       "</table>\n",
       "</div>"
      ],
      "text/plain": [
       "                  Motor      Valor\n",
       "Nome                              \n",
       "Passat     Motor Diesel  106161.94\n",
       "DS5     Motor 2.4 Turbo  124549.07"
      ]
     },
     "execution_count": 119,
     "metadata": {},
     "output_type": "execute_result"
    }
   ],
   "source": [
    "# Mostrando somente motor e valor dos carros. Primeiro  linhas e depois as colunas\n",
    "dataset.loc[['Passat', 'DS5'], ['Motor', 'Valor' ]]"
   ]
  },
  {
   "cell_type": "code",
   "execution_count": 120,
   "id": "497e9d05",
   "metadata": {},
   "outputs": [
    {
     "data": {
      "text/html": [
       "<div>\n",
       "<style scoped>\n",
       "    .dataframe tbody tr th:only-of-type {\n",
       "        vertical-align: middle;\n",
       "    }\n",
       "\n",
       "    .dataframe tbody tr th {\n",
       "        vertical-align: top;\n",
       "    }\n",
       "\n",
       "    .dataframe thead th {\n",
       "        text-align: right;\n",
       "    }\n",
       "</style>\n",
       "<table border=\"1\" class=\"dataframe\">\n",
       "  <thead>\n",
       "    <tr style=\"text-align: right;\">\n",
       "      <th></th>\n",
       "      <th>Motor</th>\n",
       "      <th>Valor</th>\n",
       "    </tr>\n",
       "    <tr>\n",
       "      <th>Nome</th>\n",
       "      <th></th>\n",
       "      <th></th>\n",
       "    </tr>\n",
       "  </thead>\n",
       "  <tbody>\n",
       "    <tr>\n",
       "      <th>Jetta Variant</th>\n",
       "      <td>Motor 4.0 Turbo</td>\n",
       "      <td>88078.64</td>\n",
       "    </tr>\n",
       "    <tr>\n",
       "      <th>Passat</th>\n",
       "      <td>Motor Diesel</td>\n",
       "      <td>106161.94</td>\n",
       "    </tr>\n",
       "    <tr>\n",
       "      <th>Crossfox</th>\n",
       "      <td>Motor Diesel V8</td>\n",
       "      <td>72832.16</td>\n",
       "    </tr>\n",
       "    <tr>\n",
       "      <th>DS5</th>\n",
       "      <td>Motor 2.4 Turbo</td>\n",
       "      <td>124549.07</td>\n",
       "    </tr>\n",
       "    <tr>\n",
       "      <th>Aston Martin DB4</th>\n",
       "      <td>Motor 2.4 Turbo</td>\n",
       "      <td>92612.10</td>\n",
       "    </tr>\n",
       "    <tr>\n",
       "      <th>...</th>\n",
       "      <td>...</td>\n",
       "      <td>...</td>\n",
       "    </tr>\n",
       "    <tr>\n",
       "      <th>Phantom 2013</th>\n",
       "      <td>Motor V8</td>\n",
       "      <td>51759.58</td>\n",
       "    </tr>\n",
       "    <tr>\n",
       "      <th>Cadillac Ciel concept</th>\n",
       "      <td>Motor V8</td>\n",
       "      <td>51667.06</td>\n",
       "    </tr>\n",
       "    <tr>\n",
       "      <th>Classe GLK</th>\n",
       "      <td>Motor 5.0 V8 Bi-Turbo</td>\n",
       "      <td>68934.03</td>\n",
       "    </tr>\n",
       "    <tr>\n",
       "      <th>Aston Martin DB5</th>\n",
       "      <td>Motor Diesel</td>\n",
       "      <td>122110.90</td>\n",
       "    </tr>\n",
       "    <tr>\n",
       "      <th>Macan</th>\n",
       "      <td>Motor Diesel V6</td>\n",
       "      <td>90381.47</td>\n",
       "    </tr>\n",
       "  </tbody>\n",
       "</table>\n",
       "<p>258 rows × 2 columns</p>\n",
       "</div>"
      ],
      "text/plain": [
       "                                       Motor      Valor\n",
       "Nome                                                   \n",
       "Jetta Variant                Motor 4.0 Turbo   88078.64\n",
       "Passat                          Motor Diesel  106161.94\n",
       "Crossfox                     Motor Diesel V8   72832.16\n",
       "DS5                          Motor 2.4 Turbo  124549.07\n",
       "Aston Martin DB4             Motor 2.4 Turbo   92612.10\n",
       "...                                      ...        ...\n",
       "Phantom 2013                        Motor V8   51759.58\n",
       "Cadillac Ciel concept               Motor V8   51667.06\n",
       "Classe GLK             Motor 5.0 V8 Bi-Turbo   68934.03\n",
       "Aston Martin DB5                Motor Diesel  122110.90\n",
       "Macan                        Motor Diesel V6   90381.47\n",
       "\n",
       "[258 rows x 2 columns]"
      ]
     },
     "execution_count": 120,
     "metadata": {},
     "output_type": "execute_result"
    }
   ],
   "source": [
    "# Retornando todas linhas, mas somente as colunas motor e valor\n",
    "dataset.loc[:, ['Motor', 'Valor' ]]"
   ]
  },
  {
   "cell_type": "markdown",
   "id": "faab9fd4",
   "metadata": {},
   "source": [
    "**Utilizando .iloc para seleções**\n",
    "\n",
    "Seleciona com base no indices, ou seja, se baseiana posição das informações"
   ]
  },
  {
   "cell_type": "code",
   "execution_count": 121,
   "id": "1353255f",
   "metadata": {},
   "outputs": [
    {
     "data": {
      "text/html": [
       "<div>\n",
       "<style scoped>\n",
       "    .dataframe tbody tr th:only-of-type {\n",
       "        vertical-align: middle;\n",
       "    }\n",
       "\n",
       "    .dataframe tbody tr th {\n",
       "        vertical-align: top;\n",
       "    }\n",
       "\n",
       "    .dataframe thead th {\n",
       "        text-align: right;\n",
       "    }\n",
       "</style>\n",
       "<table border=\"1\" class=\"dataframe\">\n",
       "  <thead>\n",
       "    <tr style=\"text-align: right;\">\n",
       "      <th></th>\n",
       "      <th>Motor</th>\n",
       "      <th>Ano</th>\n",
       "      <th>Quilometragem</th>\n",
       "      <th>Zero_km</th>\n",
       "      <th>Acessórios</th>\n",
       "      <th>Valor</th>\n",
       "    </tr>\n",
       "    <tr>\n",
       "      <th>Nome</th>\n",
       "      <th></th>\n",
       "      <th></th>\n",
       "      <th></th>\n",
       "      <th></th>\n",
       "      <th></th>\n",
       "      <th></th>\n",
       "    </tr>\n",
       "  </thead>\n",
       "  <tbody>\n",
       "    <tr>\n",
       "      <th>Jetta Variant</th>\n",
       "      <td>Motor 4.0 Turbo</td>\n",
       "      <td>2003</td>\n",
       "      <td>44410.0</td>\n",
       "      <td>False</td>\n",
       "      <td>['Rodas de liga', 'Travas elétricas', 'Piloto ...</td>\n",
       "      <td>88078.64</td>\n",
       "    </tr>\n",
       "    <tr>\n",
       "      <th>Passat</th>\n",
       "      <td>Motor Diesel</td>\n",
       "      <td>1991</td>\n",
       "      <td>5712.0</td>\n",
       "      <td>False</td>\n",
       "      <td>['Central multimídia', 'Teto panorâmico', 'Fre...</td>\n",
       "      <td>106161.94</td>\n",
       "    </tr>\n",
       "    <tr>\n",
       "      <th>Crossfox</th>\n",
       "      <td>Motor Diesel V8</td>\n",
       "      <td>1990</td>\n",
       "      <td>37123.0</td>\n",
       "      <td>False</td>\n",
       "      <td>['Piloto automático', 'Controle de estabilidad...</td>\n",
       "      <td>72832.16</td>\n",
       "    </tr>\n",
       "    <tr>\n",
       "      <th>DS5</th>\n",
       "      <td>Motor 2.4 Turbo</td>\n",
       "      <td>2019</td>\n",
       "      <td>NaN</td>\n",
       "      <td>True</td>\n",
       "      <td>['Travas elétricas', '4 X 4', 'Vidros elétrico...</td>\n",
       "      <td>124549.07</td>\n",
       "    </tr>\n",
       "    <tr>\n",
       "      <th>Aston Martin DB4</th>\n",
       "      <td>Motor 2.4 Turbo</td>\n",
       "      <td>2006</td>\n",
       "      <td>25757.0</td>\n",
       "      <td>False</td>\n",
       "      <td>['Rodas de liga', '4 X 4', 'Central multimídia...</td>\n",
       "      <td>92612.10</td>\n",
       "    </tr>\n",
       "  </tbody>\n",
       "</table>\n",
       "</div>"
      ],
      "text/plain": [
       "                            Motor   Ano  Quilometragem  Zero_km  \\\n",
       "Nome                                                              \n",
       "Jetta Variant     Motor 4.0 Turbo  2003        44410.0    False   \n",
       "Passat               Motor Diesel  1991         5712.0    False   \n",
       "Crossfox          Motor Diesel V8  1990        37123.0    False   \n",
       "DS5               Motor 2.4 Turbo  2019            NaN     True   \n",
       "Aston Martin DB4  Motor 2.4 Turbo  2006        25757.0    False   \n",
       "\n",
       "                                                         Acessórios      Valor  \n",
       "Nome                                                                            \n",
       "Jetta Variant     ['Rodas de liga', 'Travas elétricas', 'Piloto ...   88078.64  \n",
       "Passat            ['Central multimídia', 'Teto panorâmico', 'Fre...  106161.94  \n",
       "Crossfox          ['Piloto automático', 'Controle de estabilidad...   72832.16  \n",
       "DS5               ['Travas elétricas', '4 X 4', 'Vidros elétrico...  124549.07  \n",
       "Aston Martin DB4  ['Rodas de liga', '4 X 4', 'Central multimídia...   92612.10  "
      ]
     },
     "execution_count": 121,
     "metadata": {},
     "output_type": "execute_result"
    }
   ],
   "source": [
    "dataset.head()"
   ]
  },
  {
   "cell_type": "code",
   "execution_count": 122,
   "id": "89bed965",
   "metadata": {},
   "outputs": [
    {
     "data": {
      "text/plain": [
       "Motor                                                 Motor Diesel\n",
       "Ano                                                           1991\n",
       "Quilometragem                                               5712.0\n",
       "Zero_km                                                      False\n",
       "Acessórios       ['Central multimídia', 'Teto panorâmico', 'Fre...\n",
       "Valor                                                    106161.94\n",
       "Name: Passat, dtype: object"
      ]
     },
     "execution_count": 122,
     "metadata": {},
     "output_type": "execute_result"
    }
   ],
   "source": [
    "# Retornando as informaçoes do elemento na posição 1 (Passat) como Series\n",
    "dataset.iloc[1]"
   ]
  },
  {
   "cell_type": "code",
   "execution_count": 123,
   "id": "cdc2a395",
   "metadata": {},
   "outputs": [
    {
     "data": {
      "text/html": [
       "<div>\n",
       "<style scoped>\n",
       "    .dataframe tbody tr th:only-of-type {\n",
       "        vertical-align: middle;\n",
       "    }\n",
       "\n",
       "    .dataframe tbody tr th {\n",
       "        vertical-align: top;\n",
       "    }\n",
       "\n",
       "    .dataframe thead th {\n",
       "        text-align: right;\n",
       "    }\n",
       "</style>\n",
       "<table border=\"1\" class=\"dataframe\">\n",
       "  <thead>\n",
       "    <tr style=\"text-align: right;\">\n",
       "      <th></th>\n",
       "      <th>Motor</th>\n",
       "      <th>Ano</th>\n",
       "      <th>Quilometragem</th>\n",
       "      <th>Zero_km</th>\n",
       "      <th>Acessórios</th>\n",
       "      <th>Valor</th>\n",
       "    </tr>\n",
       "    <tr>\n",
       "      <th>Nome</th>\n",
       "      <th></th>\n",
       "      <th></th>\n",
       "      <th></th>\n",
       "      <th></th>\n",
       "      <th></th>\n",
       "      <th></th>\n",
       "    </tr>\n",
       "  </thead>\n",
       "  <tbody>\n",
       "    <tr>\n",
       "      <th>Passat</th>\n",
       "      <td>Motor Diesel</td>\n",
       "      <td>1991</td>\n",
       "      <td>5712.0</td>\n",
       "      <td>False</td>\n",
       "      <td>['Central multimídia', 'Teto panorâmico', 'Fre...</td>\n",
       "      <td>106161.94</td>\n",
       "    </tr>\n",
       "  </tbody>\n",
       "</table>\n",
       "</div>"
      ],
      "text/plain": [
       "               Motor   Ano  Quilometragem  Zero_km  \\\n",
       "Nome                                                 \n",
       "Passat  Motor Diesel  1991         5712.0    False   \n",
       "\n",
       "                                               Acessórios      Valor  \n",
       "Nome                                                                  \n",
       "Passat  ['Central multimídia', 'Teto panorâmico', 'Fre...  106161.94  "
      ]
     },
     "execution_count": 123,
     "metadata": {},
     "output_type": "execute_result"
    }
   ],
   "source": [
    "# Da forma como dataframe \n",
    "dataset.iloc[[1]]"
   ]
  },
  {
   "cell_type": "code",
   "execution_count": 124,
   "id": "0f76f571",
   "metadata": {},
   "outputs": [
    {
     "data": {
      "text/html": [
       "<div>\n",
       "<style scoped>\n",
       "    .dataframe tbody tr th:only-of-type {\n",
       "        vertical-align: middle;\n",
       "    }\n",
       "\n",
       "    .dataframe tbody tr th {\n",
       "        vertical-align: top;\n",
       "    }\n",
       "\n",
       "    .dataframe thead th {\n",
       "        text-align: right;\n",
       "    }\n",
       "</style>\n",
       "<table border=\"1\" class=\"dataframe\">\n",
       "  <thead>\n",
       "    <tr style=\"text-align: right;\">\n",
       "      <th></th>\n",
       "      <th>Motor</th>\n",
       "      <th>Ano</th>\n",
       "      <th>Quilometragem</th>\n",
       "      <th>Zero_km</th>\n",
       "      <th>Acessórios</th>\n",
       "      <th>Valor</th>\n",
       "    </tr>\n",
       "    <tr>\n",
       "      <th>Nome</th>\n",
       "      <th></th>\n",
       "      <th></th>\n",
       "      <th></th>\n",
       "      <th></th>\n",
       "      <th></th>\n",
       "      <th></th>\n",
       "    </tr>\n",
       "  </thead>\n",
       "  <tbody>\n",
       "    <tr>\n",
       "      <th>Passat</th>\n",
       "      <td>Motor Diesel</td>\n",
       "      <td>1991</td>\n",
       "      <td>5712.0</td>\n",
       "      <td>False</td>\n",
       "      <td>['Central multimídia', 'Teto panorâmico', 'Fre...</td>\n",
       "      <td>106161.94</td>\n",
       "    </tr>\n",
       "    <tr>\n",
       "      <th>Crossfox</th>\n",
       "      <td>Motor Diesel V8</td>\n",
       "      <td>1990</td>\n",
       "      <td>37123.0</td>\n",
       "      <td>False</td>\n",
       "      <td>['Piloto automático', 'Controle de estabilidad...</td>\n",
       "      <td>72832.16</td>\n",
       "    </tr>\n",
       "    <tr>\n",
       "      <th>DS5</th>\n",
       "      <td>Motor 2.4 Turbo</td>\n",
       "      <td>2019</td>\n",
       "      <td>NaN</td>\n",
       "      <td>True</td>\n",
       "      <td>['Travas elétricas', '4 X 4', 'Vidros elétrico...</td>\n",
       "      <td>124549.07</td>\n",
       "    </tr>\n",
       "  </tbody>\n",
       "</table>\n",
       "</div>"
      ],
      "text/plain": [
       "                    Motor   Ano  Quilometragem  Zero_km  \\\n",
       "Nome                                                      \n",
       "Passat       Motor Diesel  1991         5712.0    False   \n",
       "Crossfox  Motor Diesel V8  1990        37123.0    False   \n",
       "DS5       Motor 2.4 Turbo  2019            NaN     True   \n",
       "\n",
       "                                                 Acessórios      Valor  \n",
       "Nome                                                                    \n",
       "Passat    ['Central multimídia', 'Teto panorâmico', 'Fre...  106161.94  \n",
       "Crossfox  ['Piloto automático', 'Controle de estabilidad...   72832.16  \n",
       "DS5       ['Travas elétricas', '4 X 4', 'Vidros elétrico...  124549.07  "
      ]
     },
     "execution_count": 124,
     "metadata": {},
     "output_type": "execute_result"
    }
   ],
   "source": [
    "# Pegando os indices do 1 ao 4. lembrando que o ultimo dado é sempre exclusivo, n entra.\n",
    "dataset.iloc[1:4]"
   ]
  },
  {
   "cell_type": "code",
   "execution_count": 125,
   "id": "171122b7",
   "metadata": {},
   "outputs": [
    {
     "data": {
      "text/html": [
       "<div>\n",
       "<style scoped>\n",
       "    .dataframe tbody tr th:only-of-type {\n",
       "        vertical-align: middle;\n",
       "    }\n",
       "\n",
       "    .dataframe tbody tr th {\n",
       "        vertical-align: top;\n",
       "    }\n",
       "\n",
       "    .dataframe thead th {\n",
       "        text-align: right;\n",
       "    }\n",
       "</style>\n",
       "<table border=\"1\" class=\"dataframe\">\n",
       "  <thead>\n",
       "    <tr style=\"text-align: right;\">\n",
       "      <th></th>\n",
       "      <th>Motor</th>\n",
       "      <th>Valor</th>\n",
       "      <th>Quilometragem</th>\n",
       "    </tr>\n",
       "    <tr>\n",
       "      <th>Nome</th>\n",
       "      <th></th>\n",
       "      <th></th>\n",
       "      <th></th>\n",
       "    </tr>\n",
       "  </thead>\n",
       "  <tbody>\n",
       "    <tr>\n",
       "      <th>Passat</th>\n",
       "      <td>Motor Diesel</td>\n",
       "      <td>106161.94</td>\n",
       "      <td>5712.0</td>\n",
       "    </tr>\n",
       "    <tr>\n",
       "      <th>Crossfox</th>\n",
       "      <td>Motor Diesel V8</td>\n",
       "      <td>72832.16</td>\n",
       "      <td>37123.0</td>\n",
       "    </tr>\n",
       "    <tr>\n",
       "      <th>DS5</th>\n",
       "      <td>Motor 2.4 Turbo</td>\n",
       "      <td>124549.07</td>\n",
       "      <td>NaN</td>\n",
       "    </tr>\n",
       "  </tbody>\n",
       "</table>\n",
       "</div>"
      ],
      "text/plain": [
       "                    Motor      Valor  Quilometragem\n",
       "Nome                                               \n",
       "Passat       Motor Diesel  106161.94         5712.0\n",
       "Crossfox  Motor Diesel V8   72832.16        37123.0\n",
       "DS5       Motor 2.4 Turbo  124549.07            NaN"
      ]
     },
     "execution_count": 125,
     "metadata": {},
     "output_type": "execute_result"
    }
   ],
   "source": [
    "# Fazendo seleção especifica das linhas e colunas\n",
    "dataset.iloc[1:4,[0, 5, 2]]"
   ]
  },
  {
   "cell_type": "code",
   "execution_count": 126,
   "id": "20d5ac23",
   "metadata": {},
   "outputs": [
    {
     "data": {
      "text/html": [
       "<div>\n",
       "<style scoped>\n",
       "    .dataframe tbody tr th:only-of-type {\n",
       "        vertical-align: middle;\n",
       "    }\n",
       "\n",
       "    .dataframe tbody tr th {\n",
       "        vertical-align: top;\n",
       "    }\n",
       "\n",
       "    .dataframe thead th {\n",
       "        text-align: right;\n",
       "    }\n",
       "</style>\n",
       "<table border=\"1\" class=\"dataframe\">\n",
       "  <thead>\n",
       "    <tr style=\"text-align: right;\">\n",
       "      <th></th>\n",
       "      <th>Motor</th>\n",
       "      <th>Valor</th>\n",
       "      <th>Quilometragem</th>\n",
       "    </tr>\n",
       "    <tr>\n",
       "      <th>Nome</th>\n",
       "      <th></th>\n",
       "      <th></th>\n",
       "      <th></th>\n",
       "    </tr>\n",
       "  </thead>\n",
       "  <tbody>\n",
       "    <tr>\n",
       "      <th>Passat</th>\n",
       "      <td>Motor Diesel</td>\n",
       "      <td>106161.94</td>\n",
       "      <td>5712.0</td>\n",
       "    </tr>\n",
       "    <tr>\n",
       "      <th>Optima</th>\n",
       "      <td>Motor 1.8 16v</td>\n",
       "      <td>86641.34</td>\n",
       "      <td>NaN</td>\n",
       "    </tr>\n",
       "    <tr>\n",
       "      <th>Versa</th>\n",
       "      <td>Motor 3.0 32v</td>\n",
       "      <td>148152.89</td>\n",
       "      <td>85554.0</td>\n",
       "    </tr>\n",
       "  </tbody>\n",
       "</table>\n",
       "</div>"
      ],
      "text/plain": [
       "                Motor      Valor  Quilometragem\n",
       "Nome                                           \n",
       "Passat   Motor Diesel  106161.94         5712.0\n",
       "Optima  Motor 1.8 16v   86641.34            NaN\n",
       "Versa   Motor 3.0 32v  148152.89        85554.0"
      ]
     },
     "execution_count": 126,
     "metadata": {},
     "output_type": "execute_result"
    }
   ],
   "source": [
    "# Mais seleções espeficifcas\n",
    "dataset.iloc[[1, 42, 50],[0, 5, 2]]"
   ]
  },
  {
   "cell_type": "code",
   "execution_count": 127,
   "id": "0ef9b58a",
   "metadata": {},
   "outputs": [
    {
     "data": {
      "text/html": [
       "<div>\n",
       "<style scoped>\n",
       "    .dataframe tbody tr th:only-of-type {\n",
       "        vertical-align: middle;\n",
       "    }\n",
       "\n",
       "    .dataframe tbody tr th {\n",
       "        vertical-align: top;\n",
       "    }\n",
       "\n",
       "    .dataframe thead th {\n",
       "        text-align: right;\n",
       "    }\n",
       "</style>\n",
       "<table border=\"1\" class=\"dataframe\">\n",
       "  <thead>\n",
       "    <tr style=\"text-align: right;\">\n",
       "      <th></th>\n",
       "      <th>Motor</th>\n",
       "      <th>Valor</th>\n",
       "      <th>Quilometragem</th>\n",
       "    </tr>\n",
       "    <tr>\n",
       "      <th>Nome</th>\n",
       "      <th></th>\n",
       "      <th></th>\n",
       "      <th></th>\n",
       "    </tr>\n",
       "  </thead>\n",
       "  <tbody>\n",
       "    <tr>\n",
       "      <th>Jetta Variant</th>\n",
       "      <td>Motor 4.0 Turbo</td>\n",
       "      <td>88078.64</td>\n",
       "      <td>44410.0</td>\n",
       "    </tr>\n",
       "    <tr>\n",
       "      <th>Passat</th>\n",
       "      <td>Motor Diesel</td>\n",
       "      <td>106161.94</td>\n",
       "      <td>5712.0</td>\n",
       "    </tr>\n",
       "    <tr>\n",
       "      <th>Crossfox</th>\n",
       "      <td>Motor Diesel V8</td>\n",
       "      <td>72832.16</td>\n",
       "      <td>37123.0</td>\n",
       "    </tr>\n",
       "    <tr>\n",
       "      <th>DS5</th>\n",
       "      <td>Motor 2.4 Turbo</td>\n",
       "      <td>124549.07</td>\n",
       "      <td>NaN</td>\n",
       "    </tr>\n",
       "    <tr>\n",
       "      <th>Aston Martin DB4</th>\n",
       "      <td>Motor 2.4 Turbo</td>\n",
       "      <td>92612.10</td>\n",
       "      <td>25757.0</td>\n",
       "    </tr>\n",
       "    <tr>\n",
       "      <th>...</th>\n",
       "      <td>...</td>\n",
       "      <td>...</td>\n",
       "      <td>...</td>\n",
       "    </tr>\n",
       "    <tr>\n",
       "      <th>Phantom 2013</th>\n",
       "      <td>Motor V8</td>\n",
       "      <td>51759.58</td>\n",
       "      <td>27505.0</td>\n",
       "    </tr>\n",
       "    <tr>\n",
       "      <th>Cadillac Ciel concept</th>\n",
       "      <td>Motor V8</td>\n",
       "      <td>51667.06</td>\n",
       "      <td>29981.0</td>\n",
       "    </tr>\n",
       "    <tr>\n",
       "      <th>Classe GLK</th>\n",
       "      <td>Motor 5.0 V8 Bi-Turbo</td>\n",
       "      <td>68934.03</td>\n",
       "      <td>52637.0</td>\n",
       "    </tr>\n",
       "    <tr>\n",
       "      <th>Aston Martin DB5</th>\n",
       "      <td>Motor Diesel</td>\n",
       "      <td>122110.90</td>\n",
       "      <td>7685.0</td>\n",
       "    </tr>\n",
       "    <tr>\n",
       "      <th>Macan</th>\n",
       "      <td>Motor Diesel V6</td>\n",
       "      <td>90381.47</td>\n",
       "      <td>50188.0</td>\n",
       "    </tr>\n",
       "  </tbody>\n",
       "</table>\n",
       "<p>258 rows × 3 columns</p>\n",
       "</div>"
      ],
      "text/plain": [
       "                                       Motor      Valor  Quilometragem\n",
       "Nome                                                                  \n",
       "Jetta Variant                Motor 4.0 Turbo   88078.64        44410.0\n",
       "Passat                          Motor Diesel  106161.94         5712.0\n",
       "Crossfox                     Motor Diesel V8   72832.16        37123.0\n",
       "DS5                          Motor 2.4 Turbo  124549.07            NaN\n",
       "Aston Martin DB4             Motor 2.4 Turbo   92612.10        25757.0\n",
       "...                                      ...        ...            ...\n",
       "Phantom 2013                        Motor V8   51759.58        27505.0\n",
       "Cadillac Ciel concept               Motor V8   51667.06        29981.0\n",
       "Classe GLK             Motor 5.0 V8 Bi-Turbo   68934.03        52637.0\n",
       "Aston Martin DB5                Motor Diesel  122110.90         7685.0\n",
       "Macan                        Motor Diesel V6   90381.47        50188.0\n",
       "\n",
       "[258 rows x 3 columns]"
      ]
     },
     "execution_count": 127,
     "metadata": {},
     "output_type": "execute_result"
    }
   ],
   "source": [
    "# Pegando toas as linhas. Serve tambem para colunas\n",
    "dataset.iloc[:,[0, 5, 2]]"
   ]
  },
  {
   "cell_type": "markdown",
   "id": "345849d6",
   "metadata": {},
   "source": [
    "# Queries com dataframe"
   ]
  },
  {
   "cell_type": "code",
   "execution_count": 128,
   "id": "b70e9c92",
   "metadata": {},
   "outputs": [
    {
     "data": {
      "text/html": [
       "<div>\n",
       "<style scoped>\n",
       "    .dataframe tbody tr th:only-of-type {\n",
       "        vertical-align: middle;\n",
       "    }\n",
       "\n",
       "    .dataframe tbody tr th {\n",
       "        vertical-align: top;\n",
       "    }\n",
       "\n",
       "    .dataframe thead th {\n",
       "        text-align: right;\n",
       "    }\n",
       "</style>\n",
       "<table border=\"1\" class=\"dataframe\">\n",
       "  <thead>\n",
       "    <tr style=\"text-align: right;\">\n",
       "      <th></th>\n",
       "      <th>Motor</th>\n",
       "      <th>Ano</th>\n",
       "      <th>Quilometragem</th>\n",
       "      <th>Zero_km</th>\n",
       "      <th>Acessórios</th>\n",
       "      <th>Valor</th>\n",
       "    </tr>\n",
       "    <tr>\n",
       "      <th>Nome</th>\n",
       "      <th></th>\n",
       "      <th></th>\n",
       "      <th></th>\n",
       "      <th></th>\n",
       "      <th></th>\n",
       "      <th></th>\n",
       "    </tr>\n",
       "  </thead>\n",
       "  <tbody>\n",
       "    <tr>\n",
       "      <th>Jetta Variant</th>\n",
       "      <td>Motor 4.0 Turbo</td>\n",
       "      <td>2003</td>\n",
       "      <td>44410.0</td>\n",
       "      <td>False</td>\n",
       "      <td>['Rodas de liga', 'Travas elétricas', 'Piloto ...</td>\n",
       "      <td>88078.64</td>\n",
       "    </tr>\n",
       "    <tr>\n",
       "      <th>Passat</th>\n",
       "      <td>Motor Diesel</td>\n",
       "      <td>1991</td>\n",
       "      <td>5712.0</td>\n",
       "      <td>False</td>\n",
       "      <td>['Central multimídia', 'Teto panorâmico', 'Fre...</td>\n",
       "      <td>106161.94</td>\n",
       "    </tr>\n",
       "    <tr>\n",
       "      <th>Crossfox</th>\n",
       "      <td>Motor Diesel V8</td>\n",
       "      <td>1990</td>\n",
       "      <td>37123.0</td>\n",
       "      <td>False</td>\n",
       "      <td>['Piloto automático', 'Controle de estabilidad...</td>\n",
       "      <td>72832.16</td>\n",
       "    </tr>\n",
       "    <tr>\n",
       "      <th>DS5</th>\n",
       "      <td>Motor 2.4 Turbo</td>\n",
       "      <td>2019</td>\n",
       "      <td>NaN</td>\n",
       "      <td>True</td>\n",
       "      <td>['Travas elétricas', '4 X 4', 'Vidros elétrico...</td>\n",
       "      <td>124549.07</td>\n",
       "    </tr>\n",
       "    <tr>\n",
       "      <th>Aston Martin DB4</th>\n",
       "      <td>Motor 2.4 Turbo</td>\n",
       "      <td>2006</td>\n",
       "      <td>25757.0</td>\n",
       "      <td>False</td>\n",
       "      <td>['Rodas de liga', '4 X 4', 'Central multimídia...</td>\n",
       "      <td>92612.10</td>\n",
       "    </tr>\n",
       "  </tbody>\n",
       "</table>\n",
       "</div>"
      ],
      "text/plain": [
       "                            Motor   Ano  Quilometragem  Zero_km  \\\n",
       "Nome                                                              \n",
       "Jetta Variant     Motor 4.0 Turbo  2003        44410.0    False   \n",
       "Passat               Motor Diesel  1991         5712.0    False   \n",
       "Crossfox          Motor Diesel V8  1990        37123.0    False   \n",
       "DS5               Motor 2.4 Turbo  2019            NaN     True   \n",
       "Aston Martin DB4  Motor 2.4 Turbo  2006        25757.0    False   \n",
       "\n",
       "                                                         Acessórios      Valor  \n",
       "Nome                                                                            \n",
       "Jetta Variant     ['Rodas de liga', 'Travas elétricas', 'Piloto ...   88078.64  \n",
       "Passat            ['Central multimídia', 'Teto panorâmico', 'Fre...  106161.94  \n",
       "Crossfox          ['Piloto automático', 'Controle de estabilidad...   72832.16  \n",
       "DS5               ['Travas elétricas', '4 X 4', 'Vidros elétrico...  124549.07  \n",
       "Aston Martin DB4  ['Rodas de liga', '4 X 4', 'Central multimídia...   92612.10  "
      ]
     },
     "execution_count": 128,
     "metadata": {},
     "output_type": "execute_result"
    }
   ],
   "source": [
    "dataset.head()"
   ]
  },
  {
   "cell_type": "code",
   "execution_count": 129,
   "id": "b1d6a00b",
   "metadata": {},
   "outputs": [
    {
     "data": {
      "text/plain": [
       "Nome\n",
       "Jetta Variant       Motor 4.0 Turbo\n",
       "Passat                 Motor Diesel\n",
       "Crossfox            Motor Diesel V8\n",
       "DS5                 Motor 2.4 Turbo\n",
       "Aston Martin DB4    Motor 2.4 Turbo\n",
       "Name: Motor, dtype: object"
      ]
     },
     "execution_count": 129,
     "metadata": {},
     "output_type": "execute_result"
    }
   ],
   "source": [
    "#Selecionado Motor\n",
    "dataset.Motor.head()"
   ]
  },
  {
   "cell_type": "code",
   "execution_count": 130,
   "id": "2f49dfb2",
   "metadata": {},
   "outputs": [
    {
     "data": {
      "text/plain": [
       "Nome\n",
       "Jetta Variant            False\n",
       "Passat                    True\n",
       "Crossfox                 False\n",
       "DS5                      False\n",
       "Aston Martin DB4         False\n",
       "                         ...  \n",
       "Phantom 2013             False\n",
       "Cadillac Ciel concept    False\n",
       "Classe GLK               False\n",
       "Aston Martin DB5          True\n",
       "Macan                    False\n",
       "Name: Motor, Length: 258, dtype: bool"
      ]
     },
     "execution_count": 130,
     "metadata": {},
     "output_type": "execute_result"
    }
   ],
   "source": [
    "# somente que sao motor a diesel\n",
    "select = dataset.Motor == 'Motor Diesel'\n",
    "select"
   ]
  },
  {
   "cell_type": "code",
   "execution_count": 131,
   "id": "12f9954c",
   "metadata": {},
   "outputs": [
    {
     "data": {
      "text/plain": [
       "pandas.core.series.Series"
      ]
     },
     "execution_count": 131,
     "metadata": {},
     "output_type": "execute_result"
    }
   ],
   "source": [
    "type(select)"
   ]
  },
  {
   "cell_type": "code",
   "execution_count": 132,
   "id": "7e73f10e",
   "metadata": {},
   "outputs": [
    {
     "data": {
      "text/html": [
       "<div>\n",
       "<style scoped>\n",
       "    .dataframe tbody tr th:only-of-type {\n",
       "        vertical-align: middle;\n",
       "    }\n",
       "\n",
       "    .dataframe tbody tr th {\n",
       "        vertical-align: top;\n",
       "    }\n",
       "\n",
       "    .dataframe thead th {\n",
       "        text-align: right;\n",
       "    }\n",
       "</style>\n",
       "<table border=\"1\" class=\"dataframe\">\n",
       "  <thead>\n",
       "    <tr style=\"text-align: right;\">\n",
       "      <th></th>\n",
       "      <th>Motor</th>\n",
       "      <th>Ano</th>\n",
       "      <th>Quilometragem</th>\n",
       "      <th>Zero_km</th>\n",
       "      <th>Acessórios</th>\n",
       "      <th>Valor</th>\n",
       "    </tr>\n",
       "    <tr>\n",
       "      <th>Nome</th>\n",
       "      <th></th>\n",
       "      <th></th>\n",
       "      <th></th>\n",
       "      <th></th>\n",
       "      <th></th>\n",
       "      <th></th>\n",
       "    </tr>\n",
       "  </thead>\n",
       "  <tbody>\n",
       "    <tr>\n",
       "      <th>Passat</th>\n",
       "      <td>Motor Diesel</td>\n",
       "      <td>1991</td>\n",
       "      <td>5712.0</td>\n",
       "      <td>False</td>\n",
       "      <td>['Central multimídia', 'Teto panorâmico', 'Fre...</td>\n",
       "      <td>106161.94</td>\n",
       "    </tr>\n",
       "    <tr>\n",
       "      <th>Effa Hafei Picape Baú</th>\n",
       "      <td>Motor Diesel</td>\n",
       "      <td>1991</td>\n",
       "      <td>102959.0</td>\n",
       "      <td>False</td>\n",
       "      <td>['Controle de estabilidade', 'Painel digital',...</td>\n",
       "      <td>125684.65</td>\n",
       "    </tr>\n",
       "    <tr>\n",
       "      <th>Sorento</th>\n",
       "      <td>Motor Diesel</td>\n",
       "      <td>2019</td>\n",
       "      <td>NaN</td>\n",
       "      <td>True</td>\n",
       "      <td>['Sensor de chuva', 'Câmera de estacionamento'...</td>\n",
       "      <td>81399.35</td>\n",
       "    </tr>\n",
       "    <tr>\n",
       "      <th>New Fiesta Hatch</th>\n",
       "      <td>Motor Diesel</td>\n",
       "      <td>2017</td>\n",
       "      <td>118895.0</td>\n",
       "      <td>False</td>\n",
       "      <td>['Sensor de estacionamento', 'Travas elétricas...</td>\n",
       "      <td>66007.16</td>\n",
       "    </tr>\n",
       "    <tr>\n",
       "      <th>Kangoo Express</th>\n",
       "      <td>Motor Diesel</td>\n",
       "      <td>2007</td>\n",
       "      <td>29132.0</td>\n",
       "      <td>False</td>\n",
       "      <td>['Bancos de couro', 'Câmbio automático', 'Pilo...</td>\n",
       "      <td>146716.91</td>\n",
       "    </tr>\n",
       "    <tr>\n",
       "      <th>Fit</th>\n",
       "      <td>Motor Diesel</td>\n",
       "      <td>2013</td>\n",
       "      <td>44329.0</td>\n",
       "      <td>False</td>\n",
       "      <td>['Freios ABS', 'Câmera de estacionamento', 'Câ...</td>\n",
       "      <td>77836.23</td>\n",
       "    </tr>\n",
       "    <tr>\n",
       "      <th>Cielo Hatch</th>\n",
       "      <td>Motor Diesel</td>\n",
       "      <td>2019</td>\n",
       "      <td>NaN</td>\n",
       "      <td>True</td>\n",
       "      <td>['Painel digital', 'Central multimídia', 'Câme...</td>\n",
       "      <td>145197.70</td>\n",
       "    </tr>\n",
       "    <tr>\n",
       "      <th>Symbol</th>\n",
       "      <td>Motor Diesel</td>\n",
       "      <td>2016</td>\n",
       "      <td>117714.0</td>\n",
       "      <td>False</td>\n",
       "      <td>['4 X 4', 'Piloto automático', 'Sensor crepusc...</td>\n",
       "      <td>133030.60</td>\n",
       "    </tr>\n",
       "    <tr>\n",
       "      <th>A4 Sedan</th>\n",
       "      <td>Motor Diesel</td>\n",
       "      <td>2002</td>\n",
       "      <td>30511.0</td>\n",
       "      <td>False</td>\n",
       "      <td>['Câmera de estacionamento', '4 X 4', 'Travas ...</td>\n",
       "      <td>96369.04</td>\n",
       "    </tr>\n",
       "    <tr>\n",
       "      <th>A4 Avant</th>\n",
       "      <td>Motor Diesel</td>\n",
       "      <td>2014</td>\n",
       "      <td>17357.0</td>\n",
       "      <td>False</td>\n",
       "      <td>['Teto panorâmico', '4 X 4', 'Bancos de couro'...</td>\n",
       "      <td>138946.88</td>\n",
       "    </tr>\n",
       "    <tr>\n",
       "      <th>Silver Shadow</th>\n",
       "      <td>Motor Diesel</td>\n",
       "      <td>2015</td>\n",
       "      <td>99052.0</td>\n",
       "      <td>False</td>\n",
       "      <td>['4 X 4', 'Central multimídia', 'Ar condiciona...</td>\n",
       "      <td>143568.22</td>\n",
       "    </tr>\n",
       "    <tr>\n",
       "      <th>Camry</th>\n",
       "      <td>Motor Diesel</td>\n",
       "      <td>2019</td>\n",
       "      <td>NaN</td>\n",
       "      <td>True</td>\n",
       "      <td>['Travas elétricas', 'Rodas de liga', 'Sensor ...</td>\n",
       "      <td>138597.27</td>\n",
       "    </tr>\n",
       "    <tr>\n",
       "      <th>Clio</th>\n",
       "      <td>Motor Diesel</td>\n",
       "      <td>1990</td>\n",
       "      <td>66437.0</td>\n",
       "      <td>False</td>\n",
       "      <td>['4 X 4', 'Câmbio automático', 'Freios ABS', '...</td>\n",
       "      <td>111130.33</td>\n",
       "    </tr>\n",
       "    <tr>\n",
       "      <th>Série 3 M3 Coupé</th>\n",
       "      <td>Motor Diesel</td>\n",
       "      <td>2013</td>\n",
       "      <td>19896.0</td>\n",
       "      <td>False</td>\n",
       "      <td>['Bancos de couro', 'Sensor de chuva', 'Ar con...</td>\n",
       "      <td>69219.89</td>\n",
       "    </tr>\n",
       "    <tr>\n",
       "      <th>Gallardo LP 560 – 4</th>\n",
       "      <td>Motor Diesel</td>\n",
       "      <td>2000</td>\n",
       "      <td>113045.0</td>\n",
       "      <td>False</td>\n",
       "      <td>['Freios ABS', 'Teto panorâmico', 'Central mul...</td>\n",
       "      <td>144118.91</td>\n",
       "    </tr>\n",
       "    <tr>\n",
       "      <th>Chana Utility</th>\n",
       "      <td>Motor Diesel</td>\n",
       "      <td>2009</td>\n",
       "      <td>52034.0</td>\n",
       "      <td>False</td>\n",
       "      <td>['Ar condicionado', 'Sensor de estacionamento'...</td>\n",
       "      <td>132662.32</td>\n",
       "    </tr>\n",
       "    <tr>\n",
       "      <th>TT Roadster</th>\n",
       "      <td>Motor Diesel</td>\n",
       "      <td>1998</td>\n",
       "      <td>107392.0</td>\n",
       "      <td>False</td>\n",
       "      <td>['Ar condicionado', 'Sensor de estacionamento'...</td>\n",
       "      <td>85311.40</td>\n",
       "    </tr>\n",
       "    <tr>\n",
       "      <th>Aston Martin Virage</th>\n",
       "      <td>Motor Diesel</td>\n",
       "      <td>2019</td>\n",
       "      <td>NaN</td>\n",
       "      <td>True</td>\n",
       "      <td>['Travas elétricas', 'Controle de tração', 'Câ...</td>\n",
       "      <td>97290.18</td>\n",
       "    </tr>\n",
       "    <tr>\n",
       "      <th>Sandero</th>\n",
       "      <td>Motor Diesel</td>\n",
       "      <td>2015</td>\n",
       "      <td>34783.0</td>\n",
       "      <td>False</td>\n",
       "      <td>['Piloto automático', 'Teto panorâmico', 'Câmb...</td>\n",
       "      <td>112350.61</td>\n",
       "    </tr>\n",
       "    <tr>\n",
       "      <th>XKR</th>\n",
       "      <td>Motor Diesel</td>\n",
       "      <td>1996</td>\n",
       "      <td>85127.0</td>\n",
       "      <td>False</td>\n",
       "      <td>['Controle de tração', 'Ar condicionado', 'Tra...</td>\n",
       "      <td>54263.16</td>\n",
       "    </tr>\n",
       "    <tr>\n",
       "      <th>X5</th>\n",
       "      <td>Motor Diesel</td>\n",
       "      <td>2002</td>\n",
       "      <td>13606.0</td>\n",
       "      <td>False</td>\n",
       "      <td>['Controle de tração', 'Piloto automático', 'T...</td>\n",
       "      <td>62041.32</td>\n",
       "    </tr>\n",
       "    <tr>\n",
       "      <th>Dodge Dakota</th>\n",
       "      <td>Motor Diesel</td>\n",
       "      <td>1993</td>\n",
       "      <td>71544.0</td>\n",
       "      <td>False</td>\n",
       "      <td>['Controle de tração', 'Sensor de estacionamen...</td>\n",
       "      <td>141083.35</td>\n",
       "    </tr>\n",
       "    <tr>\n",
       "      <th>i30 CW</th>\n",
       "      <td>Motor Diesel</td>\n",
       "      <td>2015</td>\n",
       "      <td>8497.0</td>\n",
       "      <td>False</td>\n",
       "      <td>['Sensor de chuva', 'Vidros elétricos', 'Contr...</td>\n",
       "      <td>73311.75</td>\n",
       "    </tr>\n",
       "    <tr>\n",
       "      <th>Série 7 Sedã</th>\n",
       "      <td>Motor Diesel</td>\n",
       "      <td>2019</td>\n",
       "      <td>NaN</td>\n",
       "      <td>True</td>\n",
       "      <td>['Vidros elétricos', 'Travas elétricas', 'Roda...</td>\n",
       "      <td>67539.79</td>\n",
       "    </tr>\n",
       "    <tr>\n",
       "      <th>V60</th>\n",
       "      <td>Motor Diesel</td>\n",
       "      <td>2004</td>\n",
       "      <td>91840.0</td>\n",
       "      <td>False</td>\n",
       "      <td>['Rodas de liga', 'Sensor crepuscular', 'Ar co...</td>\n",
       "      <td>114728.74</td>\n",
       "    </tr>\n",
       "    <tr>\n",
       "      <th>Aston Martin DB5</th>\n",
       "      <td>Motor Diesel</td>\n",
       "      <td>1996</td>\n",
       "      <td>7685.0</td>\n",
       "      <td>False</td>\n",
       "      <td>['Ar condicionado', '4 X 4', 'Câmbio automátic...</td>\n",
       "      <td>122110.90</td>\n",
       "    </tr>\n",
       "  </tbody>\n",
       "</table>\n",
       "</div>"
      ],
      "text/plain": [
       "                              Motor   Ano  Quilometragem  Zero_km  \\\n",
       "Nome                                                                \n",
       "Passat                 Motor Diesel  1991         5712.0    False   \n",
       "Effa Hafei Picape Baú  Motor Diesel  1991       102959.0    False   \n",
       "Sorento                Motor Diesel  2019            NaN     True   \n",
       "New Fiesta Hatch       Motor Diesel  2017       118895.0    False   \n",
       "Kangoo Express         Motor Diesel  2007        29132.0    False   \n",
       "Fit                    Motor Diesel  2013        44329.0    False   \n",
       "Cielo Hatch            Motor Diesel  2019            NaN     True   \n",
       "Symbol                 Motor Diesel  2016       117714.0    False   \n",
       "A4 Sedan               Motor Diesel  2002        30511.0    False   \n",
       "A4 Avant               Motor Diesel  2014        17357.0    False   \n",
       "Silver Shadow          Motor Diesel  2015        99052.0    False   \n",
       "Camry                  Motor Diesel  2019            NaN     True   \n",
       "Clio                   Motor Diesel  1990        66437.0    False   \n",
       "Série 3 M3 Coupé       Motor Diesel  2013        19896.0    False   \n",
       "Gallardo LP 560 – 4    Motor Diesel  2000       113045.0    False   \n",
       "Chana Utility          Motor Diesel  2009        52034.0    False   \n",
       "TT Roadster            Motor Diesel  1998       107392.0    False   \n",
       "Aston Martin Virage    Motor Diesel  2019            NaN     True   \n",
       "Sandero                Motor Diesel  2015        34783.0    False   \n",
       "XKR                    Motor Diesel  1996        85127.0    False   \n",
       "X5                     Motor Diesel  2002        13606.0    False   \n",
       "Dodge Dakota           Motor Diesel  1993        71544.0    False   \n",
       "i30 CW                 Motor Diesel  2015         8497.0    False   \n",
       "Série 7 Sedã           Motor Diesel  2019            NaN     True   \n",
       "V60                    Motor Diesel  2004        91840.0    False   \n",
       "Aston Martin DB5       Motor Diesel  1996         7685.0    False   \n",
       "\n",
       "                                                              Acessórios  \\\n",
       "Nome                                                                       \n",
       "Passat                 ['Central multimídia', 'Teto panorâmico', 'Fre...   \n",
       "Effa Hafei Picape Baú  ['Controle de estabilidade', 'Painel digital',...   \n",
       "Sorento                ['Sensor de chuva', 'Câmera de estacionamento'...   \n",
       "New Fiesta Hatch       ['Sensor de estacionamento', 'Travas elétricas...   \n",
       "Kangoo Express         ['Bancos de couro', 'Câmbio automático', 'Pilo...   \n",
       "Fit                    ['Freios ABS', 'Câmera de estacionamento', 'Câ...   \n",
       "Cielo Hatch            ['Painel digital', 'Central multimídia', 'Câme...   \n",
       "Symbol                 ['4 X 4', 'Piloto automático', 'Sensor crepusc...   \n",
       "A4 Sedan               ['Câmera de estacionamento', '4 X 4', 'Travas ...   \n",
       "A4 Avant               ['Teto panorâmico', '4 X 4', 'Bancos de couro'...   \n",
       "Silver Shadow          ['4 X 4', 'Central multimídia', 'Ar condiciona...   \n",
       "Camry                  ['Travas elétricas', 'Rodas de liga', 'Sensor ...   \n",
       "Clio                   ['4 X 4', 'Câmbio automático', 'Freios ABS', '...   \n",
       "Série 3 M3 Coupé       ['Bancos de couro', 'Sensor de chuva', 'Ar con...   \n",
       "Gallardo LP 560 – 4    ['Freios ABS', 'Teto panorâmico', 'Central mul...   \n",
       "Chana Utility          ['Ar condicionado', 'Sensor de estacionamento'...   \n",
       "TT Roadster            ['Ar condicionado', 'Sensor de estacionamento'...   \n",
       "Aston Martin Virage    ['Travas elétricas', 'Controle de tração', 'Câ...   \n",
       "Sandero                ['Piloto automático', 'Teto panorâmico', 'Câmb...   \n",
       "XKR                    ['Controle de tração', 'Ar condicionado', 'Tra...   \n",
       "X5                     ['Controle de tração', 'Piloto automático', 'T...   \n",
       "Dodge Dakota           ['Controle de tração', 'Sensor de estacionamen...   \n",
       "i30 CW                 ['Sensor de chuva', 'Vidros elétricos', 'Contr...   \n",
       "Série 7 Sedã           ['Vidros elétricos', 'Travas elétricas', 'Roda...   \n",
       "V60                    ['Rodas de liga', 'Sensor crepuscular', 'Ar co...   \n",
       "Aston Martin DB5       ['Ar condicionado', '4 X 4', 'Câmbio automátic...   \n",
       "\n",
       "                           Valor  \n",
       "Nome                              \n",
       "Passat                 106161.94  \n",
       "Effa Hafei Picape Baú  125684.65  \n",
       "Sorento                 81399.35  \n",
       "New Fiesta Hatch        66007.16  \n",
       "Kangoo Express         146716.91  \n",
       "Fit                     77836.23  \n",
       "Cielo Hatch            145197.70  \n",
       "Symbol                 133030.60  \n",
       "A4 Sedan                96369.04  \n",
       "A4 Avant               138946.88  \n",
       "Silver Shadow          143568.22  \n",
       "Camry                  138597.27  \n",
       "Clio                   111130.33  \n",
       "Série 3 M3 Coupé        69219.89  \n",
       "Gallardo LP 560 – 4    144118.91  \n",
       "Chana Utility          132662.32  \n",
       "TT Roadster             85311.40  \n",
       "Aston Martin Virage     97290.18  \n",
       "Sandero                112350.61  \n",
       "XKR                     54263.16  \n",
       "X5                      62041.32  \n",
       "Dodge Dakota           141083.35  \n",
       "i30 CW                  73311.75  \n",
       "Série 7 Sedã            67539.79  \n",
       "V60                    114728.74  \n",
       "Aston Martin DB5       122110.90  "
      ]
     },
     "execution_count": 132,
     "metadata": {},
     "output_type": "execute_result"
    }
   ],
   "source": [
    "#Gerando em um dataframe\n",
    "dataset[select]"
   ]
  },
  {
   "cell_type": "code",
   "execution_count": 133,
   "id": "b6ab711d",
   "metadata": {},
   "outputs": [
    {
     "data": {
      "text/html": [
       "<div>\n",
       "<style scoped>\n",
       "    .dataframe tbody tr th:only-of-type {\n",
       "        vertical-align: middle;\n",
       "    }\n",
       "\n",
       "    .dataframe tbody tr th {\n",
       "        vertical-align: top;\n",
       "    }\n",
       "\n",
       "    .dataframe thead th {\n",
       "        text-align: right;\n",
       "    }\n",
       "</style>\n",
       "<table border=\"1\" class=\"dataframe\">\n",
       "  <thead>\n",
       "    <tr style=\"text-align: right;\">\n",
       "      <th></th>\n",
       "      <th>Motor</th>\n",
       "      <th>Ano</th>\n",
       "      <th>Quilometragem</th>\n",
       "      <th>Zero_km</th>\n",
       "      <th>Acessórios</th>\n",
       "      <th>Valor</th>\n",
       "    </tr>\n",
       "    <tr>\n",
       "      <th>Nome</th>\n",
       "      <th></th>\n",
       "      <th></th>\n",
       "      <th></th>\n",
       "      <th></th>\n",
       "      <th></th>\n",
       "      <th></th>\n",
       "    </tr>\n",
       "  </thead>\n",
       "  <tbody>\n",
       "    <tr>\n",
       "      <th>Sorento</th>\n",
       "      <td>Motor Diesel</td>\n",
       "      <td>2019</td>\n",
       "      <td>NaN</td>\n",
       "      <td>True</td>\n",
       "      <td>['Sensor de chuva', 'Câmera de estacionamento'...</td>\n",
       "      <td>81399.35</td>\n",
       "    </tr>\n",
       "    <tr>\n",
       "      <th>Cielo Hatch</th>\n",
       "      <td>Motor Diesel</td>\n",
       "      <td>2019</td>\n",
       "      <td>NaN</td>\n",
       "      <td>True</td>\n",
       "      <td>['Painel digital', 'Central multimídia', 'Câme...</td>\n",
       "      <td>145197.70</td>\n",
       "    </tr>\n",
       "    <tr>\n",
       "      <th>Camry</th>\n",
       "      <td>Motor Diesel</td>\n",
       "      <td>2019</td>\n",
       "      <td>NaN</td>\n",
       "      <td>True</td>\n",
       "      <td>['Travas elétricas', 'Rodas de liga', 'Sensor ...</td>\n",
       "      <td>138597.27</td>\n",
       "    </tr>\n",
       "    <tr>\n",
       "      <th>Aston Martin Virage</th>\n",
       "      <td>Motor Diesel</td>\n",
       "      <td>2019</td>\n",
       "      <td>NaN</td>\n",
       "      <td>True</td>\n",
       "      <td>['Travas elétricas', 'Controle de tração', 'Câ...</td>\n",
       "      <td>97290.18</td>\n",
       "    </tr>\n",
       "    <tr>\n",
       "      <th>Série 7 Sedã</th>\n",
       "      <td>Motor Diesel</td>\n",
       "      <td>2019</td>\n",
       "      <td>NaN</td>\n",
       "      <td>True</td>\n",
       "      <td>['Vidros elétricos', 'Travas elétricas', 'Roda...</td>\n",
       "      <td>67539.79</td>\n",
       "    </tr>\n",
       "  </tbody>\n",
       "</table>\n",
       "</div>"
      ],
      "text/plain": [
       "                            Motor   Ano  Quilometragem  Zero_km  \\\n",
       "Nome                                                              \n",
       "Sorento              Motor Diesel  2019            NaN     True   \n",
       "Cielo Hatch          Motor Diesel  2019            NaN     True   \n",
       "Camry                Motor Diesel  2019            NaN     True   \n",
       "Aston Martin Virage  Motor Diesel  2019            NaN     True   \n",
       "Série 7 Sedã         Motor Diesel  2019            NaN     True   \n",
       "\n",
       "                                                            Acessórios  \\\n",
       "Nome                                                                     \n",
       "Sorento              ['Sensor de chuva', 'Câmera de estacionamento'...   \n",
       "Cielo Hatch          ['Painel digital', 'Central multimídia', 'Câme...   \n",
       "Camry                ['Travas elétricas', 'Rodas de liga', 'Sensor ...   \n",
       "Aston Martin Virage  ['Travas elétricas', 'Controle de tração', 'Câ...   \n",
       "Série 7 Sedã         ['Vidros elétricos', 'Travas elétricas', 'Roda...   \n",
       "\n",
       "                         Valor  \n",
       "Nome                            \n",
       "Sorento               81399.35  \n",
       "Cielo Hatch          145197.70  \n",
       "Camry                138597.27  \n",
       "Aston Martin Virage   97290.18  \n",
       "Série 7 Sedã          67539.79  "
      ]
     },
     "execution_count": 133,
     "metadata": {},
     "output_type": "execute_result"
    }
   ],
   "source": [
    "# Trazendo somente os carros com motores diesel e 0m\n",
    "dataset[(dataset.Motor == 'Motor Diesel') & (dataset.Zero_km == True)]"
   ]
  },
  {
   "cell_type": "code",
   "execution_count": 134,
   "id": "924a41e7",
   "metadata": {},
   "outputs": [
    {
     "data": {
      "text/plain": [
       "Nome\n",
       "Jetta Variant            False\n",
       "Passat                   False\n",
       "Crossfox                 False\n",
       "DS5                      False\n",
       "Aston Martin DB4         False\n",
       "                         ...  \n",
       "Phantom 2013             False\n",
       "Cadillac Ciel concept    False\n",
       "Classe GLK               False\n",
       "Aston Martin DB5         False\n",
       "Macan                    False\n",
       "Length: 258, dtype: bool"
      ]
     },
     "execution_count": 134,
     "metadata": {},
     "output_type": "execute_result"
    }
   ],
   "source": [
    "# Trazendo em uma series\n",
    "(dataset.Motor == 'Motor Diesel') & (dataset.Zero_km == True)"
   ]
  },
  {
   "cell_type": "markdown",
   "id": "98d72758",
   "metadata": {},
   "source": [
    "# Utilizando metódo query"
   ]
  },
  {
   "cell_type": "code",
   "execution_count": 135,
   "id": "43572dac",
   "metadata": {},
   "outputs": [
    {
     "data": {
      "text/html": [
       "<div>\n",
       "<style scoped>\n",
       "    .dataframe tbody tr th:only-of-type {\n",
       "        vertical-align: middle;\n",
       "    }\n",
       "\n",
       "    .dataframe tbody tr th {\n",
       "        vertical-align: top;\n",
       "    }\n",
       "\n",
       "    .dataframe thead th {\n",
       "        text-align: right;\n",
       "    }\n",
       "</style>\n",
       "<table border=\"1\" class=\"dataframe\">\n",
       "  <thead>\n",
       "    <tr style=\"text-align: right;\">\n",
       "      <th></th>\n",
       "      <th>Motor</th>\n",
       "      <th>Ano</th>\n",
       "      <th>Quilometragem</th>\n",
       "      <th>Zero_km</th>\n",
       "      <th>Acessórios</th>\n",
       "      <th>Valor</th>\n",
       "    </tr>\n",
       "    <tr>\n",
       "      <th>Nome</th>\n",
       "      <th></th>\n",
       "      <th></th>\n",
       "      <th></th>\n",
       "      <th></th>\n",
       "      <th></th>\n",
       "      <th></th>\n",
       "    </tr>\n",
       "  </thead>\n",
       "  <tbody>\n",
       "    <tr>\n",
       "      <th>Sorento</th>\n",
       "      <td>Motor Diesel</td>\n",
       "      <td>2019</td>\n",
       "      <td>NaN</td>\n",
       "      <td>True</td>\n",
       "      <td>['Sensor de chuva', 'Câmera de estacionamento'...</td>\n",
       "      <td>81399.35</td>\n",
       "    </tr>\n",
       "    <tr>\n",
       "      <th>Cielo Hatch</th>\n",
       "      <td>Motor Diesel</td>\n",
       "      <td>2019</td>\n",
       "      <td>NaN</td>\n",
       "      <td>True</td>\n",
       "      <td>['Painel digital', 'Central multimídia', 'Câme...</td>\n",
       "      <td>145197.70</td>\n",
       "    </tr>\n",
       "    <tr>\n",
       "      <th>Camry</th>\n",
       "      <td>Motor Diesel</td>\n",
       "      <td>2019</td>\n",
       "      <td>NaN</td>\n",
       "      <td>True</td>\n",
       "      <td>['Travas elétricas', 'Rodas de liga', 'Sensor ...</td>\n",
       "      <td>138597.27</td>\n",
       "    </tr>\n",
       "    <tr>\n",
       "      <th>Aston Martin Virage</th>\n",
       "      <td>Motor Diesel</td>\n",
       "      <td>2019</td>\n",
       "      <td>NaN</td>\n",
       "      <td>True</td>\n",
       "      <td>['Travas elétricas', 'Controle de tração', 'Câ...</td>\n",
       "      <td>97290.18</td>\n",
       "    </tr>\n",
       "    <tr>\n",
       "      <th>Série 7 Sedã</th>\n",
       "      <td>Motor Diesel</td>\n",
       "      <td>2019</td>\n",
       "      <td>NaN</td>\n",
       "      <td>True</td>\n",
       "      <td>['Vidros elétricos', 'Travas elétricas', 'Roda...</td>\n",
       "      <td>67539.79</td>\n",
       "    </tr>\n",
       "  </tbody>\n",
       "</table>\n",
       "</div>"
      ],
      "text/plain": [
       "                            Motor   Ano  Quilometragem  Zero_km  \\\n",
       "Nome                                                              \n",
       "Sorento              Motor Diesel  2019            NaN     True   \n",
       "Cielo Hatch          Motor Diesel  2019            NaN     True   \n",
       "Camry                Motor Diesel  2019            NaN     True   \n",
       "Aston Martin Virage  Motor Diesel  2019            NaN     True   \n",
       "Série 7 Sedã         Motor Diesel  2019            NaN     True   \n",
       "\n",
       "                                                            Acessórios  \\\n",
       "Nome                                                                     \n",
       "Sorento              ['Sensor de chuva', 'Câmera de estacionamento'...   \n",
       "Cielo Hatch          ['Painel digital', 'Central multimídia', 'Câme...   \n",
       "Camry                ['Travas elétricas', 'Rodas de liga', 'Sensor ...   \n",
       "Aston Martin Virage  ['Travas elétricas', 'Controle de tração', 'Câ...   \n",
       "Série 7 Sedã         ['Vidros elétricos', 'Travas elétricas', 'Roda...   \n",
       "\n",
       "                         Valor  \n",
       "Nome                            \n",
       "Sorento               81399.35  \n",
       "Cielo Hatch          145197.70  \n",
       "Camry                138597.27  \n",
       "Aston Martin Virage   97290.18  \n",
       "Série 7 Sedã          67539.79  "
      ]
     },
     "execution_count": 135,
     "metadata": {},
     "output_type": "execute_result"
    }
   ],
   "source": [
    "# Trazendo somente os carros com motores diesel e 0km com query\n",
    "dataset.query('Motor == \"Motor Diesel\" and Zero_km == True')"
   ]
  },
  {
   "cell_type": "markdown",
   "id": "47dd7682",
   "metadata": {},
   "source": [
    "# Iterando com DataFrames"
   ]
  },
  {
   "cell_type": "code",
   "execution_count": 136,
   "id": "39be1b93",
   "metadata": {},
   "outputs": [
    {
     "data": {
      "text/html": [
       "<div>\n",
       "<style scoped>\n",
       "    .dataframe tbody tr th:only-of-type {\n",
       "        vertical-align: middle;\n",
       "    }\n",
       "\n",
       "    .dataframe tbody tr th {\n",
       "        vertical-align: top;\n",
       "    }\n",
       "\n",
       "    .dataframe thead th {\n",
       "        text-align: right;\n",
       "    }\n",
       "</style>\n",
       "<table border=\"1\" class=\"dataframe\">\n",
       "  <thead>\n",
       "    <tr style=\"text-align: right;\">\n",
       "      <th></th>\n",
       "      <th>Motor</th>\n",
       "      <th>Ano</th>\n",
       "      <th>Quilometragem</th>\n",
       "      <th>Zero_km</th>\n",
       "      <th>Acessórios</th>\n",
       "      <th>Valor</th>\n",
       "    </tr>\n",
       "    <tr>\n",
       "      <th>Nome</th>\n",
       "      <th></th>\n",
       "      <th></th>\n",
       "      <th></th>\n",
       "      <th></th>\n",
       "      <th></th>\n",
       "      <th></th>\n",
       "    </tr>\n",
       "  </thead>\n",
       "  <tbody>\n",
       "    <tr>\n",
       "      <th>Jetta Variant</th>\n",
       "      <td>Motor 4.0 Turbo</td>\n",
       "      <td>2003</td>\n",
       "      <td>44410.0</td>\n",
       "      <td>False</td>\n",
       "      <td>['Rodas de liga', 'Travas elétricas', 'Piloto ...</td>\n",
       "      <td>88078.64</td>\n",
       "    </tr>\n",
       "    <tr>\n",
       "      <th>Passat</th>\n",
       "      <td>Motor Diesel</td>\n",
       "      <td>1991</td>\n",
       "      <td>5712.0</td>\n",
       "      <td>False</td>\n",
       "      <td>['Central multimídia', 'Teto panorâmico', 'Fre...</td>\n",
       "      <td>106161.94</td>\n",
       "    </tr>\n",
       "    <tr>\n",
       "      <th>Crossfox</th>\n",
       "      <td>Motor Diesel V8</td>\n",
       "      <td>1990</td>\n",
       "      <td>37123.0</td>\n",
       "      <td>False</td>\n",
       "      <td>['Piloto automático', 'Controle de estabilidad...</td>\n",
       "      <td>72832.16</td>\n",
       "    </tr>\n",
       "    <tr>\n",
       "      <th>DS5</th>\n",
       "      <td>Motor 2.4 Turbo</td>\n",
       "      <td>2019</td>\n",
       "      <td>NaN</td>\n",
       "      <td>True</td>\n",
       "      <td>['Travas elétricas', '4 X 4', 'Vidros elétrico...</td>\n",
       "      <td>124549.07</td>\n",
       "    </tr>\n",
       "    <tr>\n",
       "      <th>Aston Martin DB4</th>\n",
       "      <td>Motor 2.4 Turbo</td>\n",
       "      <td>2006</td>\n",
       "      <td>25757.0</td>\n",
       "      <td>False</td>\n",
       "      <td>['Rodas de liga', '4 X 4', 'Central multimídia...</td>\n",
       "      <td>92612.10</td>\n",
       "    </tr>\n",
       "  </tbody>\n",
       "</table>\n",
       "</div>"
      ],
      "text/plain": [
       "                            Motor   Ano  Quilometragem  Zero_km  \\\n",
       "Nome                                                              \n",
       "Jetta Variant     Motor 4.0 Turbo  2003        44410.0    False   \n",
       "Passat               Motor Diesel  1991         5712.0    False   \n",
       "Crossfox          Motor Diesel V8  1990        37123.0    False   \n",
       "DS5               Motor 2.4 Turbo  2019            NaN     True   \n",
       "Aston Martin DB4  Motor 2.4 Turbo  2006        25757.0    False   \n",
       "\n",
       "                                                         Acessórios      Valor  \n",
       "Nome                                                                            \n",
       "Jetta Variant     ['Rodas de liga', 'Travas elétricas', 'Piloto ...   88078.64  \n",
       "Passat            ['Central multimídia', 'Teto panorâmico', 'Fre...  106161.94  \n",
       "Crossfox          ['Piloto automático', 'Controle de estabilidad...   72832.16  \n",
       "DS5               ['Travas elétricas', '4 X 4', 'Vidros elétrico...  124549.07  \n",
       "Aston Martin DB4  ['Rodas de liga', '4 X 4', 'Central multimídia...   92612.10  "
      ]
     },
     "execution_count": 136,
     "metadata": {},
     "output_type": "execute_result"
    }
   ],
   "source": [
    "dataset.head()"
   ]
  },
  {
   "cell_type": "code",
   "execution_count": 137,
   "id": "8612d2d0",
   "metadata": {},
   "outputs": [
    {
     "name": "stdout",
     "output_type": "stream",
     "text": [
      "Motor\n",
      "Ano\n",
      "Quilometragem\n",
      "Zero_km\n",
      "Acessórios\n",
      "Valor\n"
     ]
    }
   ],
   "source": [
    "# Mostrando os rótulos das colunas\n",
    "for item in dataset:\n",
    "    print(item)"
   ]
  },
  {
   "cell_type": "code",
   "execution_count": 138,
   "id": "9bca8dcd",
   "metadata": {},
   "outputs": [
    {
     "data": {
      "text/plain": [
       "[('Jetta Variant',\n",
       "  Motor                                              Motor 4.0 Turbo\n",
       "  Ano                                                           2003\n",
       "  Quilometragem                                              44410.0\n",
       "  Zero_km                                                      False\n",
       "  Acessórios       ['Rodas de liga', 'Travas elétricas', 'Piloto ...\n",
       "  Valor                                                     88078.64\n",
       "  Name: Jetta Variant, dtype: object),\n",
       " ('Passat',\n",
       "  Motor                                                 Motor Diesel\n",
       "  Ano                                                           1991\n",
       "  Quilometragem                                               5712.0\n",
       "  Zero_km                                                      False\n",
       "  Acessórios       ['Central multimídia', 'Teto panorâmico', 'Fre...\n",
       "  Valor                                                    106161.94\n",
       "  Name: Passat, dtype: object),\n",
       " ('Crossfox',\n",
       "  Motor                                              Motor Diesel V8\n",
       "  Ano                                                           1990\n",
       "  Quilometragem                                              37123.0\n",
       "  Zero_km                                                      False\n",
       "  Acessórios       ['Piloto automático', 'Controle de estabilidad...\n",
       "  Valor                                                     72832.16\n",
       "  Name: Crossfox, dtype: object),\n",
       " ('DS5',\n",
       "  Motor                                              Motor 2.4 Turbo\n",
       "  Ano                                                           2019\n",
       "  Quilometragem                                                  NaN\n",
       "  Zero_km                                                       True\n",
       "  Acessórios       ['Travas elétricas', '4 X 4', 'Vidros elétrico...\n",
       "  Valor                                                    124549.07\n",
       "  Name: DS5, dtype: object),\n",
       " ('Aston Martin DB4',\n",
       "  Motor                                              Motor 2.4 Turbo\n",
       "  Ano                                                           2006\n",
       "  Quilometragem                                              25757.0\n",
       "  Zero_km                                                      False\n",
       "  Acessórios       ['Rodas de liga', '4 X 4', 'Central multimídia...\n",
       "  Valor                                                      92612.1\n",
       "  Name: Aston Martin DB4, dtype: object),\n",
       " ('Palio Weekend',\n",
       "  Motor                                                Motor 1.8 16v\n",
       "  Ano                                                           2012\n",
       "  Quilometragem                                              10728.0\n",
       "  Zero_km                                                      False\n",
       "  Acessórios       ['Sensor de estacionamento', 'Teto panorâmico'...\n",
       "  Valor                                                     97497.73\n",
       "  Name: Palio Weekend, dtype: object),\n",
       " ('A5',\n",
       "  Motor                                              Motor 4.0 Turbo\n",
       "  Ano                                                           2019\n",
       "  Quilometragem                                                  NaN\n",
       "  Zero_km                                                       True\n",
       "  Acessórios       ['Câmbio automático', 'Câmera de estacionament...\n",
       "  Valor                                                      56445.2\n",
       "  Name: A5, dtype: object),\n",
       " ('Série 3 Cabrio',\n",
       "  Motor                                                 Motor 1.0 8v\n",
       "  Ano                                                           2009\n",
       "  Quilometragem                                              77599.0\n",
       "  Zero_km                                                      False\n",
       "  Acessórios       ['Controle de estabilidade', 'Sensor crepuscul...\n",
       "  Valor                                                    112310.44\n",
       "  Name: Série 3 Cabrio, dtype: object),\n",
       " ('Dodge Jorney',\n",
       "  Motor                                                Motor 3.0 32v\n",
       "  Ano                                                           2010\n",
       "  Quilometragem                                              99197.0\n",
       "  Zero_km                                                      False\n",
       "  Acessórios       ['Vidros elétricos', 'Piloto automático', 'Tet...\n",
       "  Valor                                                    120716.27\n",
       "  Name: Dodge Jorney, dtype: object),\n",
       " ('Carens',\n",
       "  Motor                                        Motor 5.0 V8 Bi-Turbo\n",
       "  Ano                                                           2011\n",
       "  Quilometragem                                              37978.0\n",
       "  Zero_km                                                      False\n",
       "  Acessórios       ['Ar condicionado', 'Painel digital', 'Central...\n",
       "  Valor                                                     76566.49\n",
       "  Name: Carens, dtype: object),\n",
       " ('Ford Edge',\n",
       "  Motor                                              Motor Diesel V6\n",
       "  Ano                                                           2002\n",
       "  Quilometragem                                              12859.0\n",
       "  Zero_km                                                      False\n",
       "  Acessórios       ['Sensor crepuscular', 'Rodas de liga', 'Teto ...\n",
       "  Valor                                                     71647.59\n",
       "  Name: Ford Edge, dtype: object),\n",
       " ('Courier',\n",
       "  Motor                                              Motor Diesel V8\n",
       "  Ano                                                           2007\n",
       "  Quilometragem                                               8052.0\n",
       "  Zero_km                                                      False\n",
       "  Acessórios       ['Central multimídia', '4 X 4', 'Piloto automá...\n",
       "  Valor                                                     73919.53\n",
       "  Name: Courier, dtype: object),\n",
       " ('S-18',\n",
       "  Motor                                                     Motor V6\n",
       "  Ano                                                           2001\n",
       "  Quilometragem                                              89773.0\n",
       "  Zero_km                                                      False\n",
       "  Acessórios       ['Bancos de couro', 'Sensor de chuva', 'Rodas ...\n",
       "  Valor                                                    112732.99\n",
       "  Name: S-18, dtype: object),\n",
       " ('J5',\n",
       "  Motor                                                     Motor V6\n",
       "  Ano                                                           2019\n",
       "  Quilometragem                                                  NaN\n",
       "  Zero_km                                                       True\n",
       "  Acessórios       ['Sensor crepuscular', 'Painel digital', 'Roda...\n",
       "  Valor                                                     53183.38\n",
       "  Name: J5, dtype: object),\n",
       " ('F-Type Coupé',\n",
       "  Motor                                        Motor 5.0 V8 Bi-Turbo\n",
       "  Ano                                                           2009\n",
       "  Quilometragem                                              41457.0\n",
       "  Zero_km                                                      False\n",
       "  Acessórios       ['Piloto automático', 'Sensor crepuscular', 'S...\n",
       "  Valor                                                    127488.42\n",
       "  Name: F-Type Coupé, dtype: object),\n",
       " ('RAM',\n",
       "  Motor                                              Motor Diesel V8\n",
       "  Ano                                                           2016\n",
       "  Quilometragem                                             115607.0\n",
       "  Zero_km                                                      False\n",
       "  Acessórios       ['Sensor crepuscular', 'Câmbio automático', 'S...\n",
       "  Valor                                                      59910.4\n",
       "  Name: RAM, dtype: object),\n",
       " ('Série 1',\n",
       "  Motor                                                Motor 3.0 32v\n",
       "  Ano                                                           2012\n",
       "  Quilometragem                                              46449.0\n",
       "  Zero_km                                                      False\n",
       "  Acessórios       ['Teto panorâmico', 'Câmera de estacionamento'...\n",
       "  Valor                                                     61118.59\n",
       "  Name: Série 1, dtype: object),\n",
       " ('A3',\n",
       "  Motor                                                 Motor 1.0 8v\n",
       "  Ano                                                           2019\n",
       "  Quilometragem                                                  NaN\n",
       "  Zero_km                                                       True\n",
       "  Acessórios       ['4 X 4', 'Piloto automático', 'Central multim...\n",
       "  Valor                                                     88552.39\n",
       "  Name: A3, dtype: object),\n",
       " ('XC90',\n",
       "  Motor                                                 Motor 1.0 8v\n",
       "  Ano                                                           2016\n",
       "  Quilometragem                                              37086.0\n",
       "  Zero_km                                                      False\n",
       "  Acessórios       ['Travas elétricas', 'Vidros elétricos', 'Teto...\n",
       "  Valor                                                     62696.69\n",
       "  Name: XC90, dtype: object),\n",
       " ('RS 3 Sportback',\n",
       "  Motor                                                Motor 3.0 32v\n",
       "  Ano                                                           2017\n",
       "  Quilometragem                                              15173.0\n",
       "  Zero_km                                                      False\n",
       "  Acessórios       ['4 X 4', 'Piloto automático', 'Central multim...\n",
       "  Valor                                                     101726.3\n",
       "  Name: RS 3 Sportback, dtype: object),\n",
       " ('Pajero Sport',\n",
       "  Motor                                                 Motor 1.0 8v\n",
       "  Ano                                                           2002\n",
       "  Quilometragem                                             101193.0\n",
       "  Zero_km                                                      False\n",
       "  Acessórios       ['Sensor de estacionamento', 'Piloto automátic...\n",
       "  Valor                                                    106147.38\n",
       "  Name: Pajero Sport, dtype: object),\n",
       " ('Série 1 M',\n",
       "  Motor                                                     Motor V8\n",
       "  Ano                                                           2019\n",
       "  Quilometragem                                                  NaN\n",
       "  Zero_km                                                       True\n",
       "  Acessórios       ['Controle de estabilidade', 'Central multimíd...\n",
       "  Valor                                                      94564.4\n",
       "  Name: Série 1 M, dtype: object),\n",
       " ('Lamborghini Obvious',\n",
       "  Motor                                              Motor Diesel V6\n",
       "  Ano                                                           1994\n",
       "  Quilometragem                                              98079.0\n",
       "  Zero_km                                                      False\n",
       "  Acessórios       ['Rodas de liga', 'Câmbio automático', 'Travas...\n",
       "  Valor                                                    133529.84\n",
       "  Name: Lamborghini Obvious, dtype: object),\n",
       " ('Effa Hafei Picape Baú',\n",
       "  Motor                                                 Motor Diesel\n",
       "  Ano                                                           1991\n",
       "  Quilometragem                                             102959.0\n",
       "  Zero_km                                                      False\n",
       "  Acessórios       ['Controle de estabilidade', 'Painel digital',...\n",
       "  Valor                                                    125684.65\n",
       "  Name: Effa Hafei Picape Baú, dtype: object),\n",
       " ('Lamborghini Murciélago',\n",
       "  Motor                                        Motor 5.0 V8 Bi-Turbo\n",
       "  Ano                                                           2019\n",
       "  Quilometragem                                                  NaN\n",
       "  Zero_km                                                       True\n",
       "  Acessórios       ['Freios ABS', 'Câmbio automático', 'Ar condic...\n",
       "  Valor                                                    121596.21\n",
       "  Name: Lamborghini Murciélago, dtype: object),\n",
       " ('Up!',\n",
       "  Motor                                              Motor Diesel V6\n",
       "  Ano                                                           2019\n",
       "  Quilometragem                                                  NaN\n",
       "  Zero_km                                                       True\n",
       "  Acessórios       ['Sensor de estacionamento', 'Vidros elétricos...\n",
       "  Valor                                                      71367.1\n",
       "  Name: Up!, dtype: object),\n",
       " ('Fiesta Rocam Sedan',\n",
       "  Motor                                              Motor 4.0 Turbo\n",
       "  Ano                                                           2016\n",
       "  Quilometragem                                               5795.0\n",
       "  Zero_km                                                      False\n",
       "  Acessórios       ['Ar condicionado', 'Bancos de couro', 'Câmbio...\n",
       "  Valor                                                     95347.75\n",
       "  Name: Fiesta Rocam Sedan, dtype: object),\n",
       " ('Sandero Stepway',\n",
       "  Motor                                                Motor 3.0 32v\n",
       "  Ano                                                           2019\n",
       "  Quilometragem                                                  NaN\n",
       "  Zero_km                                                       True\n",
       "  Acessórios       ['Freios ABS', 'Ar condicionado', 'Teto panorâ...\n",
       "  Valor                                                    105432.84\n",
       "  Name: Sandero Stepway, dtype: object),\n",
       " ('Cayman S',\n",
       "  Motor                                                Motor 3.0 32v\n",
       "  Ano                                                           2002\n",
       "  Quilometragem                                              58848.0\n",
       "  Zero_km                                                      False\n",
       "  Acessórios       ['Câmbio automático', 'Sensor de estacionament...\n",
       "  Valor                                                     57045.27\n",
       "  Name: Cayman S, dtype: object),\n",
       " ('V40',\n",
       "  Motor                                              Motor 4.0 Turbo\n",
       "  Ano                                                           1991\n",
       "  Quilometragem                                              94381.0\n",
       "  Zero_km                                                      False\n",
       "  Acessórios       ['Câmera de estacionamento', 'Sensor de estaci...\n",
       "  Valor                                                     120432.7\n",
       "  Name: V40, dtype: object),\n",
       " ('Classe SLS AMG',\n",
       "  Motor                                                 Motor 1.0 8v\n",
       "  Ano                                                           1997\n",
       "  Quilometragem                                              30163.0\n",
       "  Zero_km                                                      False\n",
       "  Acessórios       ['Sensor de estacionamento', 'Controle de esta...\n",
       "  Valor                                                      70707.2\n",
       "  Name: Classe SLS AMG, dtype: object),\n",
       " ('Gol G4',\n",
       "  Motor                                                Motor 2.0 16v\n",
       "  Ano                                                           1995\n",
       "  Quilometragem                                              53332.0\n",
       "  Zero_km                                                      False\n",
       "  Acessórios       ['Sensor crepuscular', '4 X 4', 'Vidros elétri...\n",
       "  Valor                                                     69105.18\n",
       "  Name: Gol G4, dtype: object),\n",
       " ('Linea',\n",
       "  Motor                                                 Motor 1.0 8v\n",
       "  Ano                                                           2018\n",
       "  Quilometragem                                              17720.0\n",
       "  Zero_km                                                      False\n",
       "  Acessórios       ['Piloto automático', 'Painel digital', 'Vidro...\n",
       "  Valor                                                     59358.69\n",
       "  Name: Linea, dtype: object),\n",
       " ('Ford F100',\n",
       "  Motor                                                Motor 2.0 16v\n",
       "  Ano                                                           1991\n",
       "  Quilometragem                                              33808.0\n",
       "  Zero_km                                                      False\n",
       "  Acessórios       ['Controle de tração', 'Sensor crepuscular', '...\n",
       "  Valor                                                      65955.4\n",
       "  Name: Ford F100, dtype: object),\n",
       " ('J2',\n",
       "  Motor                                                     Motor V8\n",
       "  Ano                                                           2014\n",
       "  Quilometragem                                              90684.0\n",
       "  Zero_km                                                      False\n",
       "  Acessórios       ['Teto panorâmico', 'Sensor de estacionamento'...\n",
       "  Valor                                                     60017.03\n",
       "  Name: J2, dtype: object),\n",
       " ('Aston Martin DBS',\n",
       "  Motor                                                     Motor V8\n",
       "  Ano                                                           1995\n",
       "  Quilometragem                                              43975.0\n",
       "  Zero_km                                                      False\n",
       "  Acessórios       ['Teto panorâmico', 'Piloto automático', 'Ar c...\n",
       "  Valor                                                    118909.52\n",
       "  Name: Aston Martin DBS, dtype: object),\n",
       " ('Pajero TR4',\n",
       "  Motor                                              Motor 2.4 Turbo\n",
       "  Ano                                                           2019\n",
       "  Quilometragem                                                  NaN\n",
       "  Zero_km                                                       True\n",
       "  Acessórios       ['Controle de tração', 'Bancos de couro', 'Câm...\n",
       "  Valor                                                     51606.59\n",
       "  Name: Pajero TR4, dtype: object),\n",
       " ('Polo Sedan',\n",
       "  Motor                                                     Motor V6\n",
       "  Ano                                                           2019\n",
       "  Quilometragem                                                  NaN\n",
       "  Zero_km                                                       True\n",
       "  Acessórios       ['Sensor de chuva', 'Sensor crepuscular', 'Ar ...\n",
       "  Valor                                                    123281.87\n",
       "  Name: Polo Sedan, dtype: object),\n",
       " ('California',\n",
       "  Motor                                                 Motor 1.0 8v\n",
       "  Ano                                                           2009\n",
       "  Quilometragem                                               5526.0\n",
       "  Zero_km                                                      False\n",
       "  Acessórios       ['Rodas de liga', 'Ar condicionado', 'Câmera d...\n",
       "  Valor                                                     69770.18\n",
       "  Name: California, dtype: object),\n",
       " ('S60',\n",
       "  Motor                                              Motor 2.4 Turbo\n",
       "  Ano                                                           2019\n",
       "  Quilometragem                                                  NaN\n",
       "  Zero_km                                                       True\n",
       "  Acessórios       ['Teto panorâmico', 'Freios ABS', '4 X 4', 'Ar...\n",
       "  Valor                                                    102609.54\n",
       "  Name: S60, dtype: object),\n",
       " ('Tucson',\n",
       "  Motor                                                Motor 2.0 16v\n",
       "  Ano                                                           2013\n",
       "  Quilometragem                                              93415.0\n",
       "  Zero_km                                                      False\n",
       "  Acessórios       ['Vidros elétricos', 'Sensor crepuscular', 'Fr...\n",
       "  Valor                                                     67997.19\n",
       "  Name: Tucson, dtype: object),\n",
       " ('HB20',\n",
       "  Motor                                                     Motor V6\n",
       "  Ano                                                           2003\n",
       "  Quilometragem                                              40762.0\n",
       "  Zero_km                                                      False\n",
       "  Acessórios       ['Sensor de chuva', 'Travas elétricas', 'Contr...\n",
       "  Valor                                                    135235.29\n",
       "  Name: HB20, dtype: object),\n",
       " ('Optima',\n",
       "  Motor                                                Motor 1.8 16v\n",
       "  Ano                                                           2019\n",
       "  Quilometragem                                                  NaN\n",
       "  Zero_km                                                       True\n",
       "  Acessórios       ['Central multimídia', 'Ar condicionado', 'Tet...\n",
       "  Valor                                                     86641.34\n",
       "  Name: Optima, dtype: object),\n",
       " ('Logan',\n",
       "  Motor                                              Motor 4.0 Turbo\n",
       "  Ano                                                           2002\n",
       "  Quilometragem                                              86302.0\n",
       "  Zero_km                                                      False\n",
       "  Acessórios       ['Câmera de estacionamento', 'Vidros elétricos...\n",
       "  Valor                                                    136818.39\n",
       "  Name: Logan, dtype: object),\n",
       " ('Range Rover Vogue',\n",
       "  Motor                                                 Motor 1.0 8v\n",
       "  Ano                                                           2019\n",
       "  Quilometragem                                                  NaN\n",
       "  Zero_km                                                       True\n",
       "  Acessórios       ['4 X 4', 'Vidros elétricos', 'Rodas de liga',...\n",
       "  Valor                                                    117626.73\n",
       "  Name: Range Rover Vogue, dtype: object),\n",
       " ('Sonata',\n",
       "  Motor                                        Motor 5.0 V8 Bi-Turbo\n",
       "  Ano                                                           2002\n",
       "  Quilometragem                                               9755.0\n",
       "  Zero_km                                                      False\n",
       "  Acessórios       ['Piloto automático', 'Ar condicionado', 'Vidr...\n",
       "  Valor                                                      56208.7\n",
       "  Name: Sonata, dtype: object),\n",
       " ('Ford New Fiesta Sedan',\n",
       "  Motor                                                Motor 3.0 32v\n",
       "  Ano                                                           2004\n",
       "  Quilometragem                                              69945.0\n",
       "  Zero_km                                                      False\n",
       "  Acessórios       ['Teto panorâmico', 'Painel digital', 'Ar cond...\n",
       "  Valor                                                     84222.65\n",
       "  Name: Ford New Fiesta Sedan, dtype: object),\n",
       " ('Série 5 Gran Turismo',\n",
       "  Motor                                              Motor 4.0 Turbo\n",
       "  Ano                                                           2001\n",
       "  Quilometragem                                               2395.0\n",
       "  Zero_km                                                      False\n",
       "  Acessórios       ['Controle de tração', 'Piloto automático', 'A...\n",
       "  Valor                                                     90781.65\n",
       "  Name: Série 5 Gran Turismo, dtype: object),\n",
       " ('CR-V',\n",
       "  Motor                                              Motor Diesel V8\n",
       "  Ano                                                           2019\n",
       "  Quilometragem                                                  NaN\n",
       "  Zero_km                                                       True\n",
       "  Acessórios       ['Câmbio automático', 'Central multimídia', 'V...\n",
       "  Valor                                                      64701.1\n",
       "  Name: CR-V, dtype: object),\n",
       " ('Ford EcoSport',\n",
       "  Motor                                                 Motor 1.0 8v\n",
       "  Ano                                                           2003\n",
       "  Quilometragem                                              80349.0\n",
       "  Zero_km                                                      False\n",
       "  Acessórios       ['Vidros elétricos', 'Piloto automático', 'Pai...\n",
       "  Valor                                                    126350.49\n",
       "  Name: Ford EcoSport, dtype: object),\n",
       " ('Versa',\n",
       "  Motor                                                Motor 3.0 32v\n",
       "  Ano                                                           2009\n",
       "  Quilometragem                                              85554.0\n",
       "  Zero_km                                                      False\n",
       "  Acessórios       ['Bancos de couro', 'Ar condicionado', 'Rodas ...\n",
       "  Valor                                                    148152.89\n",
       "  Name: Versa, dtype: object),\n",
       " ('Classe E',\n",
       "  Motor                                                 Motor 1.0 8v\n",
       "  Ano                                                           2006\n",
       "  Quilometragem                                              50496.0\n",
       "  Zero_km                                                      False\n",
       "  Acessórios       ['Freios ABS', 'Sensor de estacionamento', 'Ce...\n",
       "  Valor                                                    132298.83\n",
       "  Name: Classe E, dtype: object),\n",
       " ('Carnival',\n",
       "  Motor                                                     Motor V8\n",
       "  Ano                                                           2000\n",
       "  Quilometragem                                              67716.0\n",
       "  Zero_km                                                      False\n",
       "  Acessórios       ['Travas elétricas', 'Câmbio automático', 'Câm...\n",
       "  Valor                                                    137627.63\n",
       "  Name: Carnival, dtype: object),\n",
       " ('Aston Martin V8 Vantage Roadster',\n",
       "  Motor                                              Motor 2.4 Turbo\n",
       "  Ano                                                           2006\n",
       "  Quilometragem                                              93947.0\n",
       "  Zero_km                                                      False\n",
       "  Acessórios       ['Câmbio automático', 'Câmera de estacionament...\n",
       "  Valor                                                     80422.71\n",
       "  Name: Aston Martin V8 Vantage Roadster, dtype: object),\n",
       " ('Hoggar',\n",
       "  Motor                                        Motor 5.0 V8 Bi-Turbo\n",
       "  Ano                                                           2010\n",
       "  Quilometragem                                              35345.0\n",
       "  Zero_km                                                      False\n",
       "  Acessórios       ['Controle de estabilidade', 'Bancos de couro'...\n",
       "  Valor                                                     56373.99\n",
       "  Name: Hoggar, dtype: object),\n",
       " ('A1',\n",
       "  Motor                                        Motor 5.0 V8 Bi-Turbo\n",
       "  Ano                                                           1994\n",
       "  Quilometragem                                              81007.0\n",
       "  Zero_km                                                      False\n",
       "  Acessórios       ['Painel digital', 'Câmbio automático', 'Câmer...\n",
       "  Valor                                                     70846.03\n",
       "  Name: A1, dtype: object),\n",
       " ('Aston Martin DB7 Vantage',\n",
       "  Motor                                                     Motor V6\n",
       "  Ano                                                           2007\n",
       "  Quilometragem                                             119513.0\n",
       "  Zero_km                                                      False\n",
       "  Acessórios       ['Sensor crepuscular', 'Piloto automático', 'T...\n",
       "  Valor                                                    128694.23\n",
       "  Name: Aston Martin DB7 Vantage, dtype: object),\n",
       " ('CLA',\n",
       "  Motor                                                 Motor 1.0 8v\n",
       "  Ano                                                           2019\n",
       "  Quilometragem                                                  NaN\n",
       "  Zero_km                                                       True\n",
       "  Acessórios       ['Central multimídia', 'Sensor de chuva', 'Con...\n",
       "  Valor                                                    133329.19\n",
       "  Name: CLA, dtype: object),\n",
       " ('Accord',\n",
       "  Motor                                                     Motor V8\n",
       "  Ano                                                           2019\n",
       "  Quilometragem                                                  NaN\n",
       "  Zero_km                                                       True\n",
       "  Acessórios       ['Sensor de estacionamento', 'Ar condicionado'...\n",
       "  Valor                                                    131961.43\n",
       "  Name: Accord, dtype: object),\n",
       " ('EXTRA 103EX',\n",
       "  Motor                                                Motor 2.0 16v\n",
       "  Ano                                                           2019\n",
       "  Quilometragem                                                  NaN\n",
       "  Zero_km                                                       True\n",
       "  Acessórios       ['Sensor de estacionamento', 'Central multimíd...\n",
       "  Valor                                                    112033.27\n",
       "  Name: EXTRA 103EX, dtype: object),\n",
       " ('Sorento',\n",
       "  Motor                                                 Motor Diesel\n",
       "  Ano                                                           2019\n",
       "  Quilometragem                                                  NaN\n",
       "  Zero_km                                                       True\n",
       "  Acessórios       ['Sensor de chuva', 'Câmera de estacionamento'...\n",
       "  Valor                                                     81399.35\n",
       "  Name: Sorento, dtype: object),\n",
       " ('Tiggo',\n",
       "  Motor                                                Motor 3.0 32v\n",
       "  Ano                                                           2019\n",
       "  Quilometragem                                                  NaN\n",
       "  Zero_km                                                       True\n",
       "  Acessórios       ['Câmera de estacionamento', 'Freios ABS', 'Pi...\n",
       "  Valor                                                      97163.1\n",
       "  Name: Tiggo, dtype: object),\n",
       " ('New Fiesta Hatch',\n",
       "  Motor                                                 Motor Diesel\n",
       "  Ano                                                           2017\n",
       "  Quilometragem                                             118895.0\n",
       "  Zero_km                                                      False\n",
       "  Acessórios       ['Sensor de estacionamento', 'Travas elétricas...\n",
       "  Valor                                                     66007.16\n",
       "  Name: New Fiesta Hatch, dtype: object),\n",
       " ('Jeep Renegade',\n",
       "  Motor                                        Motor 5.0 V8 Bi-Turbo\n",
       "  Ano                                                           2011\n",
       "  Quilometragem                                              48509.0\n",
       "  Zero_km                                                      False\n",
       "  Acessórios       ['Vidros elétricos', 'Teto panorâmico', 'Banco...\n",
       "  Valor                                                    128776.22\n",
       "  Name: Jeep Renegade, dtype: object),\n",
       " ('Lamborghini Ankonian',\n",
       "  Motor                                                Motor 2.0 16v\n",
       "  Ano                                                           2001\n",
       "  Quilometragem                                             100912.0\n",
       "  Zero_km                                                      False\n",
       "  Acessórios       ['Bancos de couro', 'Câmera de estacionamento'...\n",
       "  Valor                                                    142623.02\n",
       "  Name: Lamborghini Ankonian, dtype: object),\n",
       " ('Space Cross',\n",
       "  Motor                                        Motor 5.0 V8 Bi-Turbo\n",
       "  Ano                                                           1996\n",
       "  Quilometragem                                              95649.0\n",
       "  Zero_km                                                      False\n",
       "  Acessórios       ['Teto panorâmico', 'Vidros elétricos', 'Senso...\n",
       "  Valor                                                    136930.13\n",
       "  Name: Space Cross, dtype: object),\n",
       " ('Touareg',\n",
       "  Motor                                                     Motor V8\n",
       "  Ano                                                           2019\n",
       "  Quilometragem                                                  NaN\n",
       "  Zero_km                                                       True\n",
       "  Acessórios       ['Controle de estabilidade', 'Piloto automátic...\n",
       "  Valor                                                     66526.61\n",
       "  Name: Touareg, dtype: object),\n",
       " ('Classe M',\n",
       "  Motor                                                 Motor 1.0 8v\n",
       "  Ano                                                           1994\n",
       "  Quilometragem                                              90495.0\n",
       "  Zero_km                                                      False\n",
       "  Acessórios       ['Central multimídia', 'Bancos de couro', 'Rod...\n",
       "  Valor                                                    114154.87\n",
       "  Name: Classe M, dtype: object),\n",
       " ('Lancer Evolution X',\n",
       "  Motor                                              Motor Diesel V6\n",
       "  Ano                                                           2019\n",
       "  Quilometragem                                                  NaN\n",
       "  Zero_km                                                       True\n",
       "  Acessórios       ['Vidros elétricos', 'Câmbio automático', 'Con...\n",
       "  Valor                                                    142392.75\n",
       "  Name: Lancer Evolution X, dtype: object),\n",
       " ('Kangoo Express',\n",
       "  Motor                                                 Motor Diesel\n",
       "  Ano                                                           2007\n",
       "  Quilometragem                                              29132.0\n",
       "  Zero_km                                                      False\n",
       "  Acessórios       ['Bancos de couro', 'Câmbio automático', 'Pilo...\n",
       "  Valor                                                    146716.91\n",
       "  Name: Kangoo Express, dtype: object),\n",
       " ('SW4',\n",
       "  Motor                                              Motor Diesel V6\n",
       "  Ano                                                           1994\n",
       "  Quilometragem                                              23802.0\n",
       "  Zero_km                                                      False\n",
       "  Acessórios       ['Sensor de chuva', 'Bancos de couro', 'Contro...\n",
       "  Valor                                                    122485.68\n",
       "  Name: SW4, dtype: object),\n",
       " ('Cadillac ELR',\n",
       "  Motor                                                 Motor 1.0 8v\n",
       "  Ano                                                           2007\n",
       "  Quilometragem                                              84992.0\n",
       "  Zero_km                                                      False\n",
       "  Acessórios       ['Sensor crepuscular', 'Travas elétricas', 'Te...\n",
       "  Valor                                                     97951.03\n",
       "  Name: Cadillac ELR, dtype: object),\n",
       " ('Doblò',\n",
       "  Motor                                                Motor 1.8 16v\n",
       "  Ano                                                           1997\n",
       "  Quilometragem                                              54395.0\n",
       "  Zero_km                                                      False\n",
       "  Acessórios       ['Câmera de estacionamento', 'Teto panorâmico'...\n",
       "  Valor                                                     78283.49\n",
       "  Name: Doblò, dtype: object),\n",
       " ('Lamborghini Egoista',\n",
       "  Motor                                                Motor 3.0 32v\n",
       "  Ano                                                           2006\n",
       "  Quilometragem                                              26731.0\n",
       "  Zero_km                                                      False\n",
       "  Acessórios       ['Rodas de liga', 'Controle de tração', 'Centr...\n",
       "  Valor                                                     83434.04\n",
       "  Name: Lamborghini Egoista, dtype: object),\n",
       " ('Fit',\n",
       "  Motor                                                 Motor Diesel\n",
       "  Ano                                                           2013\n",
       "  Quilometragem                                              44329.0\n",
       "  Zero_km                                                      False\n",
       "  Acessórios       ['Freios ABS', 'Câmera de estacionamento', 'Câ...\n",
       "  Valor                                                     77836.23\n",
       "  Name: Fit, dtype: object),\n",
       " ('C5',\n",
       "  Motor                                                Motor 2.0 16v\n",
       "  Ano                                                           1994\n",
       "  Quilometragem                                             118236.0\n",
       "  Zero_km                                                      False\n",
       "  Acessórios       ['Painel digital', 'Teto panorâmico', 'Piloto ...\n",
       "  Valor                                                     60813.92\n",
       "  Name: C5, dtype: object),\n",
       " ('Celer Hatch',\n",
       "  Motor                                                     Motor V8\n",
       "  Ano                                                           2008\n",
       "  Quilometragem                                             113808.0\n",
       "  Zero_km                                                      False\n",
       "  Acessórios       ['Controle de estabilidade', 'Câmbio automátic...\n",
       "  Valor                                                     91353.86\n",
       "  Name: Celer Hatch, dtype: object),\n",
       " ('HB20S',\n",
       "  Motor                                                     Motor V8\n",
       "  Ano                                                           2008\n",
       "  Quilometragem                                                610.0\n",
       "  Zero_km                                                      False\n",
       "  Acessórios       ['Teto panorâmico', 'Rodas de liga', 'Travas e...\n",
       "  Valor                                                    116281.21\n",
       "  Name: HB20S, dtype: object),\n",
       " ('Cielo Hatch',\n",
       "  Motor                                                 Motor Diesel\n",
       "  Ano                                                           2019\n",
       "  Quilometragem                                                  NaN\n",
       "  Zero_km                                                       True\n",
       "  Acessórios       ['Painel digital', 'Central multimídia', 'Câme...\n",
       "  Valor                                                     145197.7\n",
       "  Name: Cielo Hatch, dtype: object),\n",
       " ('Livina',\n",
       "  Motor                                                Motor 2.0 16v\n",
       "  Ano                                                           2019\n",
       "  Quilometragem                                                  NaN\n",
       "  Zero_km                                                       True\n",
       "  Acessórios       ['Sensor crepuscular', 'Câmera de estacionamen...\n",
       "  Valor                                                      50742.1\n",
       "  Name: Livina, dtype: object),\n",
       " ('Ducato',\n",
       "  Motor                                        Motor 5.0 V8 Bi-Turbo\n",
       "  Ano                                                           1999\n",
       "  Quilometragem                                              12887.0\n",
       "  Zero_km                                                      False\n",
       "  Acessórios       ['Sensor de chuva', 'Painel digital', 'Sensor ...\n",
       "  Valor                                                     73033.53\n",
       "  Name: Ducato, dtype: object),\n",
       " ('March',\n",
       "  Motor                                                     Motor V6\n",
       "  Ano                                                           2007\n",
       "  Quilometragem                                              79607.0\n",
       "  Zero_km                                                      False\n",
       "  Acessórios       ['Bancos de couro', 'Piloto automático', 'Sens...\n",
       "  Valor                                                     54332.87\n",
       "  Name: March, dtype: object),\n",
       " ('Cadillac XTS sedan',\n",
       "  Motor                                              Motor Diesel V6\n",
       "  Ano                                                           1993\n",
       "  Quilometragem                                              90924.0\n",
       "  Zero_km                                                      False\n",
       "  Acessórios       ['Ar condicionado', 'Câmbio automático', 'Sens...\n",
       "  Valor                                                     52207.45\n",
       "  Name: Cadillac XTS sedan, dtype: object),\n",
       " ('Lamborghini Centenario',\n",
       "  Motor                                                     Motor V6\n",
       "  Ano                                                           1995\n",
       "  Quilometragem                                              42733.0\n",
       "  Zero_km                                                      False\n",
       "  Acessórios       ['Central multimídia', 'Vidros elétricos', 'Se...\n",
       "  Valor                                                      63578.5\n",
       "  Name: Lamborghini Centenario, dtype: object),\n",
       " ('Hilux',\n",
       "  Motor                                        Motor 5.0 V8 Bi-Turbo\n",
       "  Ano                                                           2019\n",
       "  Quilometragem                                                  NaN\n",
       "  Zero_km                                                       True\n",
       "  Acessórios       ['4 X 4', 'Piloto automático', 'Teto panorâmic...\n",
       "  Valor                                                     64507.72\n",
       "  Name: Hilux, dtype: object),\n",
       " ('Grand Siena',\n",
       "  Motor                                              Motor Diesel V8\n",
       "  Ano                                                           2019\n",
       "  Quilometragem                                                  NaN\n",
       "  Zero_km                                                       True\n",
       "  Acessórios       ['Bancos de couro', 'Painel digital', 'Sensor ...\n",
       "  Valor                                                    115075.59\n",
       "  Name: Grand Siena, dtype: object),\n",
       " ('Symbol',\n",
       "  Motor                                                 Motor Diesel\n",
       "  Ano                                                           2016\n",
       "  Quilometragem                                             117714.0\n",
       "  Zero_km                                                      False\n",
       "  Acessórios       ['4 X 4', 'Piloto automático', 'Sensor crepusc...\n",
       "  Valor                                                     133030.6\n",
       "  Name: Symbol, dtype: object),\n",
       " ('Aston Martin V12 GT Zagato',\n",
       "  Motor                                              Motor 4.0 Turbo\n",
       "  Ano                                                           2011\n",
       "  Quilometragem                                             113885.0\n",
       "  Zero_km                                                      False\n",
       "  Acessórios       ['Central multimídia', 'Piloto automático', 'S...\n",
       "  Valor                                                    141591.86\n",
       "  Name: Aston Martin V12 GT Zagato, dtype: object),\n",
       " ('Fusion',\n",
       "  Motor                                                Motor 1.8 16v\n",
       "  Ano                                                           2019\n",
       "  Quilometragem                                                  NaN\n",
       "  Zero_km                                                       True\n",
       "  Acessórios       ['Controle de tração', 'Câmbio automático', 'F...\n",
       "  Valor                                                    100380.28\n",
       "  Name: Fusion, dtype: object),\n",
       " ('A4 Sedan',\n",
       "  Motor                                                 Motor Diesel\n",
       "  Ano                                                           2002\n",
       "  Quilometragem                                              30511.0\n",
       "  Zero_km                                                      False\n",
       "  Acessórios       ['Câmera de estacionamento', '4 X 4', 'Travas ...\n",
       "  Valor                                                     96369.04\n",
       "  Name: A4 Sedan, dtype: object),\n",
       " ('Xsara Picasso',\n",
       "  Motor                                                Motor 2.0 16v\n",
       "  Ano                                                           2013\n",
       "  Quilometragem                                              74867.0\n",
       "  Zero_km                                                      False\n",
       "  Acessórios       ['Sensor de chuva', 'Teto panorâmico', 'Centra...\n",
       "  Valor                                                    142603.84\n",
       "  Name: Xsara Picasso, dtype: object),\n",
       " ('207 SW',\n",
       "  Motor                                                Motor 3.0 32v\n",
       "  Ano                                                           2017\n",
       "  Quilometragem                                             119760.0\n",
       "  Zero_km                                                      False\n",
       "  Acessórios       ['Controle de estabilidade', 'Travas elétricas...\n",
       "  Valor                                                    117709.67\n",
       "  Name: 207 SW, dtype: object),\n",
       " ('Star',\n",
       "  Motor                                                     Motor V6\n",
       "  Ano                                                           2016\n",
       "  Quilometragem                                               8356.0\n",
       "  Zero_km                                                      False\n",
       "  Acessórios       ['Câmera de estacionamento', '4 X 4', 'Central...\n",
       "  Valor                                                    102241.54\n",
       "  Name: Star, dtype: object),\n",
       " ('Doblò Cargo',\n",
       "  Motor                                                Motor 3.0 32v\n",
       "  Ano                                                           2008\n",
       "  Quilometragem                                              64247.0\n",
       "  Zero_km                                                      False\n",
       "  Acessórios       ['Freios ABS', 'Teto panorâmico', 'Vidros elét...\n",
       "  Valor                                                     96065.38\n",
       "  Name: Doblò Cargo, dtype: object),\n",
       " ('Cadillac CTS',\n",
       "  Motor                                                Motor 1.8 16v\n",
       "  Ano                                                           2018\n",
       "  Quilometragem                                              88661.0\n",
       "  Zero_km                                                      False\n",
       "  Acessórios       ['Travas elétricas', 'Sensor de chuva', 'Freio...\n",
       "  Valor                                                     53894.61\n",
       "  Name: Cadillac CTS, dtype: object),\n",
       " ('Cayenne',\n",
       "  Motor                                                 Motor 1.0 8v\n",
       "  Ano                                                           2003\n",
       "  Quilometragem                                               4539.0\n",
       "  Zero_km                                                      False\n",
       "  Acessórios       ['Controle de tração', 'Piloto automático', 'T...\n",
       "  Valor                                                    123911.78\n",
       "  Name: Cayenne, dtype: object),\n",
       " ('Fox',\n",
       "  Motor                                              Motor 4.0 Turbo\n",
       "  Ano                                                           2003\n",
       "  Quilometragem                                             110116.0\n",
       "  Zero_km                                                      False\n",
       "  Acessórios       ['Piloto automático', 'Câmbio automático', 'Tr...\n",
       "  Valor                                                    101996.35\n",
       "  Name: Fox, dtype: object),\n",
       " ('Tiida Hatch',\n",
       "  Motor                                              Motor Diesel V6\n",
       "  Ano                                                           2004\n",
       "  Quilometragem                                              33215.0\n",
       "  Zero_km                                                      False\n",
       "  Acessórios       ['Teto panorâmico', 'Travas elétricas', 'Senso...\n",
       "  Valor                                                     83431.66\n",
       "  Name: Tiida Hatch, dtype: object),\n",
       " ('Dodge Charger',\n",
       "  Motor                                              Motor 2.4 Turbo\n",
       "  Ano                                                           2010\n",
       "  Quilometragem                                              92001.0\n",
       "  Zero_km                                                      False\n",
       "  Acessórios       ['Vidros elétricos', 'Sensor crepuscular', 'Co...\n",
       "  Valor                                                    122975.63\n",
       "  Name: Dodge Charger, dtype: object),\n",
       " ('Face',\n",
       "  Motor                                                     Motor V8\n",
       "  Ano                                                           2019\n",
       "  Quilometragem                                                  NaN\n",
       "  Zero_km                                                       True\n",
       "  Acessórios       ['Controle de estabilidade', 'Vidros elétricos...\n",
       "  Valor                                                     93227.73\n",
       "  Name: Face, dtype: object),\n",
       " ('Prius',\n",
       "  Motor                                                Motor 3.0 32v\n",
       "  Ano                                                           2006\n",
       "  Quilometragem                                              81708.0\n",
       "  Zero_km                                                      False\n",
       "  Acessórios       ['Rodas de liga', 'Bancos de couro', 'Painel d...\n",
       "  Valor                                                     58762.65\n",
       "  Name: Prius, dtype: object),\n",
       " ('Idea',\n",
       "  Motor                                                     Motor V6\n",
       "  Ano                                                           2001\n",
       "  Quilometragem                                              70641.0\n",
       "  Zero_km                                                      False\n",
       "  Acessórios       ['Central multimídia', 'Piloto automático', 'T...\n",
       "  Valor                                                    139549.67\n",
       "  Name: Idea, dtype: object),\n",
       " ('A8',\n",
       "  Motor                                                Motor 2.0 16v\n",
       "  Ano                                                           2019\n",
       "  Quilometragem                                                  NaN\n",
       "  Zero_km                                                       True\n",
       "  Acessórios       ['Painel digital', 'Teto panorâmico', 'Piloto ...\n",
       "  Valor                                                    122016.42\n",
       "  Name: A8, dtype: object),\n",
       " ('Série 1 Cabrio',\n",
       "  Motor                                                Motor 3.0 32v\n",
       "  Ano                                                           2015\n",
       "  Quilometragem                                              91277.0\n",
       "  Zero_km                                                      False\n",
       "  Acessórios       ['Vidros elétricos', 'Travas elétricas', 'Cont...\n",
       "  Valor                                                     72731.98\n",
       "  Name: Série 1 Cabrio, dtype: object),\n",
       " ('Edge',\n",
       "  Motor                                                     Motor V6\n",
       "  Ano                                                           2018\n",
       "  Quilometragem                                              26544.0\n",
       "  Zero_km                                                      False\n",
       "  Acessórios       ['Freios ABS', 'Controle de tração', 'Sensor c...\n",
       "  Valor                                                     88416.54\n",
       "  Name: Edge, dtype: object),\n",
       " ('Cadillac ATS sedan',\n",
       "  Motor                                                Motor 1.8 16v\n",
       "  Ano                                                           2017\n",
       "  Quilometragem                                              52596.0\n",
       "  Zero_km                                                      False\n",
       "  Acessórios       ['Painel digital', 'Vidros elétricos', 'Teto p...\n",
       "  Valor                                                     73873.42\n",
       "  Name: Cadillac ATS sedan, dtype: object),\n",
       " ('Lamborghini Asterion LPI 910-4',\n",
       "  Motor                                        Motor 5.0 V8 Bi-Turbo\n",
       "  Ano                                                           1992\n",
       "  Quilometragem                                              47503.0\n",
       "  Zero_km                                                      False\n",
       "  Acessórios       ['Ar condicionado', 'Painel digital', 'Control...\n",
       "  Valor                                                     70709.34\n",
       "  Name: Lamborghini Asterion LPI 910-4, dtype: object),\n",
       " ('Frontier',\n",
       "  Motor                                                     Motor V8\n",
       "  Ano                                                           2001\n",
       "  Quilometragem                                              89056.0\n",
       "  Zero_km                                                      False\n",
       "  Acessórios       ['Câmbio automático', 'Rodas de liga', 'Sensor...\n",
       "  Valor                                                     115306.5\n",
       "  Name: Frontier, dtype: object),\n",
       " ('Série 3 Sedã',\n",
       "  Motor                                                Motor 3.0 32v\n",
       "  Ano                                                           1993\n",
       "  Quilometragem                                              28834.0\n",
       "  Zero_km                                                      False\n",
       "  Acessórios       ['Controle de tração', 'Controle de estabilida...\n",
       "  Valor                                                     55924.63\n",
       "  Name: Série 3 Sedã, dtype: object),\n",
       " ('Lamborghini LM002',\n",
       "  Motor                                                Motor 1.8 16v\n",
       "  Ano                                                           1995\n",
       "  Quilometragem                                             110564.0\n",
       "  Zero_km                                                      False\n",
       "  Acessórios       ['Bancos de couro', 'Freios ABS', 'Central mul...\n",
       "  Valor                                                     85052.26\n",
       "  Name: Lamborghini LM002, dtype: object),\n",
       " ('Cadillac XLR',\n",
       "  Motor                                              Motor Diesel V8\n",
       "  Ano                                                           2003\n",
       "  Quilometragem                                              56638.0\n",
       "  Zero_km                                                      False\n",
       "  Acessórios       ['Sensor crepuscular', 'Teto panorâmico', 'Sen...\n",
       "  Valor                                                     56646.34\n",
       "  Name: Cadillac XLR, dtype: object),\n",
       " ('A4 Avant',\n",
       "  Motor                                                 Motor Diesel\n",
       "  Ano                                                           2014\n",
       "  Quilometragem                                              17357.0\n",
       "  Zero_km                                                      False\n",
       "  Acessórios       ['Teto panorâmico', '4 X 4', 'Bancos de couro'...\n",
       "  Valor                                                    138946.88\n",
       "  Name: A4 Avant, dtype: object),\n",
       " ('EcoSport',\n",
       "  Motor                                              Motor 4.0 Turbo\n",
       "  Ano                                                           2008\n",
       "  Quilometragem                                              74015.0\n",
       "  Zero_km                                                      False\n",
       "  Acessórios       ['Piloto automático', 'Sensor de estacionament...\n",
       "  Valor                                                    108256.72\n",
       "  Name: EcoSport, dtype: object),\n",
       " ('J3',\n",
       "  Motor                                                Motor 1.8 16v\n",
       "  Ano                                                           2013\n",
       "  Quilometragem                                              15196.0\n",
       "  Zero_km                                                      False\n",
       "  Acessórios       ['Controle de estabilidade', '4 X 4', 'Câmera ...\n",
       "  Valor                                                      58979.3\n",
       "  Name: J3, dtype: object),\n",
       " ('Q3',\n",
       "  Motor                                                Motor 3.0 32v\n",
       "  Ano                                                           2019\n",
       "  Quilometragem                                                  NaN\n",
       "  Zero_km                                                       True\n",
       "  Acessórios       ['Controle de estabilidade', 'Bancos de couro'...\n",
       "  Valor                                                    114727.68\n",
       "  Name: Q3, dtype: object),\n",
       " ('Aston Martin V8 Vantage',\n",
       "  Motor                                                     Motor V8\n",
       "  Ano                                                           2017\n",
       "  Quilometragem                                              10821.0\n",
       "  Zero_km                                                      False\n",
       "  Acessórios       ['Teto panorâmico', 'Controle de tração', 'Pai...\n",
       "  Valor                                                    139661.48\n",
       "  Name: Aston Martin V8 Vantage, dtype: object),\n",
       " ('Z4 Roadster',\n",
       "  Motor                                                Motor 3.0 32v\n",
       "  Ano                                                           2019\n",
       "  Quilometragem                                                  NaN\n",
       "  Zero_km                                                       True\n",
       "  Acessórios       ['Central multimídia', 'Câmbio automático', 'T...\n",
       "  Valor                                                     80382.24\n",
       "  Name: Z4 Roadster, dtype: object),\n",
       " ('Lamborghini Ferruccio',\n",
       "  Motor                                                Motor 3.0 32v\n",
       "  Ano                                                           2019\n",
       "  Quilometragem                                                  NaN\n",
       "  Zero_km                                                       True\n",
       "  Acessórios       ['Vidros elétricos', 'Piloto automático', 'Tet...\n",
       "  Valor                                                    149157.17\n",
       "  Name: Lamborghini Ferruccio, dtype: object),\n",
       " ('Ford Ka+',\n",
       "  Motor                                                Motor 1.8 16v\n",
       "  Ano                                                           2006\n",
       "  Quilometragem                                               9595.0\n",
       "  Zero_km                                                      False\n",
       "  Acessórios       ['Sensor crepuscular', 'Piloto automático', 'C...\n",
       "  Valor                                                     87830.41\n",
       "  Name: Ford Ka+, dtype: object),\n",
       " ('Silver Shadow',\n",
       "  Motor                                                 Motor Diesel\n",
       "  Ano                                                           2015\n",
       "  Quilometragem                                              99052.0\n",
       "  Zero_km                                                      False\n",
       "  Acessórios       ['4 X 4', 'Central multimídia', 'Ar condiciona...\n",
       "  Valor                                                    143568.22\n",
       "  Name: Silver Shadow, dtype: object),\n",
       " ('Classe C 63 AMG Touring',\n",
       "  Motor                                              Motor Diesel V8\n",
       "  Ano                                                           2007\n",
       "  Quilometragem                                              52389.0\n",
       "  Zero_km                                                      False\n",
       "  Acessórios       ['Central multimídia', 'Piloto automático', 'F...\n",
       "  Valor                                                    138171.85\n",
       "  Name: Classe C 63 AMG Touring, dtype: object),\n",
       " ('Discovery 4',\n",
       "  Motor                                              Motor 4.0 Turbo\n",
       "  Ano                                                           2005\n",
       "  Quilometragem                                             119945.0\n",
       "  Zero_km                                                      False\n",
       "  Acessórios       ['Freios ABS', 'Rodas de liga', 'Sensor de chu...\n",
       "  Valor                                                    115784.95\n",
       "  Name: Discovery 4, dtype: object),\n",
       " ('Veloster',\n",
       "  Motor                                              Motor Diesel V8\n",
       "  Ano                                                           2017\n",
       "  Quilometragem                                              96005.0\n",
       "  Zero_km                                                      False\n",
       "  Acessórios       ['Ar condicionado', 'Central multimídia', 'Ban...\n",
       "  Valor                                                    146508.99\n",
       "  Name: Veloster, dtype: object),\n",
       " ('Classe C',\n",
       "  Motor                                              Motor Diesel V6\n",
       "  Ano                                                           1998\n",
       "  Quilometragem                                              31639.0\n",
       "  Zero_km                                                      False\n",
       "  Acessórios       ['Freios ABS', 'Sensor de chuva', 'Central mul...\n",
       "  Valor                                                    137670.23\n",
       "  Name: Classe C, dtype: object),\n",
       " ('Camry',\n",
       "  Motor                                                 Motor Diesel\n",
       "  Ano                                                           2019\n",
       "  Quilometragem                                                  NaN\n",
       "  Zero_km                                                       True\n",
       "  Acessórios       ['Travas elétricas', 'Rodas de liga', 'Sensor ...\n",
       "  Valor                                                    138597.27\n",
       "  Name: Camry, dtype: object),\n",
       " ('C5 Tourer',\n",
       "  Motor                                              Motor Diesel V6\n",
       "  Ano                                                           1999\n",
       "  Quilometragem                                              80187.0\n",
       "  Zero_km                                                      False\n",
       "  Acessórios       ['Rodas de liga', 'Sensor de chuva', 'Painel d...\n",
       "  Valor                                                    147627.81\n",
       "  Name: C5 Tourer, dtype: object),\n",
       " ('R8 GT',\n",
       "  Motor                                              Motor 4.0 Turbo\n",
       "  Ano                                                           2019\n",
       "  Quilometragem                                                  NaN\n",
       "  Zero_km                                                       True\n",
       "  Acessórios       ['Rodas de liga', 'Câmbio automático', 'Sensor...\n",
       "  Valor                                                     62999.02\n",
       "  Name: R8 GT, dtype: object),\n",
       " ('Bongo',\n",
       "  Motor                                              Motor Diesel V8\n",
       "  Ano                                                           2009\n",
       "  Quilometragem                                              58212.0\n",
       "  Zero_km                                                      False\n",
       "  Acessórios       ['Vidros elétricos', 'Teto panorâmico', 'Paine...\n",
       "  Valor                                                     91242.44\n",
       "  Name: Bongo, dtype: object),\n",
       " ('ASX',\n",
       "  Motor                                              Motor Diesel V8\n",
       "  Ano                                                           2003\n",
       "  Quilometragem                                              61672.0\n",
       "  Zero_km                                                      False\n",
       "  Acessórios       ['Ar condicionado', 'Sensor crepuscular', 'Rod...\n",
       "  Valor                                                    149489.92\n",
       "  Name: ASX, dtype: object),\n",
       " ('Cadillac SRX',\n",
       "  Motor                                        Motor 5.0 V8 Bi-Turbo\n",
       "  Ano                                                           1994\n",
       "  Quilometragem                                              32017.0\n",
       "  Zero_km                                                      False\n",
       "  Acessórios       ['Painel digital', 'Piloto automático', 'Contr...\n",
       "  Valor                                                     63529.95\n",
       "  Name: Cadillac SRX, dtype: object),\n",
       " ('Classe CL',\n",
       "  Motor                                                     Motor V8\n",
       "  Ano                                                           2019\n",
       "  Quilometragem                                                  NaN\n",
       "  Zero_km                                                       True\n",
       "  Acessórios       ['Central multimídia', 'Câmbio automático', '4...\n",
       "  Valor                                                     58525.41\n",
       "  Name: Classe CL, dtype: object),\n",
       " ('500 Abarth',\n",
       "  Motor                                                     Motor V6\n",
       "  Ano                                                           1994\n",
       "  Quilometragem                                              56944.0\n",
       "  Zero_km                                                      False\n",
       "  Acessórios       ['4 X 4', 'Teto panorâmico', 'Controle de traç...\n",
       "  Valor                                                     90345.05\n",
       "  Name: 500 Abarth, dtype: object),\n",
       " ('Aston Martin Cygnet',\n",
       "  Motor                                        Motor 5.0 V8 Bi-Turbo\n",
       "  Ano                                                           2019\n",
       "  Quilometragem                                                  NaN\n",
       "  Zero_km                                                       True\n",
       "  Acessórios       ['Painel digital', 'Ar condicionado', 'Sensor ...\n",
       "  Valor                                                    147770.87\n",
       "  Name: Aston Martin Cygnet, dtype: object),\n",
       " ('Cadillac STS',\n",
       "  Motor                                              Motor 4.0 Turbo\n",
       "  Ano                                                           2015\n",
       "  Quilometragem                                              86519.0\n",
       "  Zero_km                                                      False\n",
       "  Acessórios       ['Painel digital', 'Bancos de couro', 'Sensor ...\n",
       "  Valor                                                    106617.71\n",
       "  Name: Cadillac STS, dtype: object),\n",
       " ('Aston Martin DB9',\n",
       "  Motor                                                Motor 1.8 16v\n",
       "  Ano                                                           1996\n",
       "  Quilometragem                                               4821.0\n",
       "  Zero_km                                                      False\n",
       "  Acessórios       ['Ar condicionado', 'Vidros elétricos', '4 X 4...\n",
       "  Valor                                                    104929.88\n",
       "  Name: Aston Martin DB9, dtype: object),\n",
       " ('NX 200t',\n",
       "  Motor                                              Motor 2.4 Turbo\n",
       "  Ano                                                           1997\n",
       "  Quilometragem                                             101025.0\n",
       "  Zero_km                                                      False\n",
       "  Acessórios       ['Controle de estabilidade', 'Painel digital',...\n",
       "  Valor                                                    100712.45\n",
       "  Name: NX 200t, dtype: object),\n",
       " ('Aston Martin One-77',\n",
       "  Motor                                                     Motor V6\n",
       "  Ano                                                           1993\n",
       "  Quilometragem                                              30705.0\n",
       "  Zero_km                                                      False\n",
       "  Acessórios       ['Sensor de estacionamento', 'Rodas de liga', ...\n",
       "  Valor                                                    141982.93\n",
       "  Name: Aston Martin One-77, dtype: object),\n",
       " ('Lamborghini Veneno',\n",
       "  Motor                                                Motor 3.0 32v\n",
       "  Ano                                                           2019\n",
       "  Quilometragem                                                  NaN\n",
       "  Zero_km                                                       True\n",
       "  Acessórios       ['4 X 4', 'Sensor de estacionamento', 'Câmbio ...\n",
       "  Valor                                                    104038.79\n",
       "  Name: Lamborghini Veneno, dtype: object),\n",
       " ('Sentra',\n",
       "  Motor                                                Motor 2.0 16v\n",
       "  Ano                                                           1992\n",
       "  Quilometragem                                              32555.0\n",
       "  Zero_km                                                      False\n",
       "  Acessórios       ['Piloto automático', 'Sensor crepuscular', 'T...\n",
       "  Valor                                                     88501.54\n",
       "  Name: Sentra, dtype: object),\n",
       " ('Jumper',\n",
       "  Motor                                              Motor 2.4 Turbo\n",
       "  Ano                                                           1995\n",
       "  Quilometragem                                             103389.0\n",
       "  Zero_km                                                      False\n",
       "  Acessórios       ['Ar condicionado', 'Rodas de liga', 'Câmbio a...\n",
       "  Valor                                                     79782.02\n",
       "  Name: Jumper, dtype: object),\n",
       " ('i30',\n",
       "  Motor                                                Motor 1.8 16v\n",
       "  Ano                                                           2019\n",
       "  Quilometragem                                                  NaN\n",
       "  Zero_km                                                       True\n",
       "  Acessórios       ['Câmbio automático', 'Controle de estabilidad...\n",
       "  Valor                                                      86224.1\n",
       "  Name: i30, dtype: object),\n",
       " ('X6',\n",
       "  Motor                                              Motor Diesel V6\n",
       "  Ano                                                           1990\n",
       "  Quilometragem                                              55289.0\n",
       "  Zero_km                                                      False\n",
       "  Acessórios       ['Câmera de estacionamento', 'Travas elétricas...\n",
       "  Valor                                                    103596.18\n",
       "  Name: X6, dtype: object),\n",
       " ('Voyage',\n",
       "  Motor                                        Motor 5.0 V8 Bi-Turbo\n",
       "  Ano                                                           2019\n",
       "  Quilometragem                                                  NaN\n",
       "  Zero_km                                                       True\n",
       "  Acessórios       ['Ar condicionado', 'Sensor de estacionamento'...\n",
       "  Valor                                                    148996.47\n",
       "  Name: Voyage, dtype: object),\n",
       " ('Phantom I Phantom II',\n",
       "  Motor                                                Motor 1.8 16v\n",
       "  Ano                                                           2019\n",
       "  Quilometragem                                                  NaN\n",
       "  Zero_km                                                       True\n",
       "  Acessórios       ['Piloto automático', 'Freios ABS', 'Painel di...\n",
       "  Valor                                                     60948.01\n",
       "  Name: Phantom I Phantom II, dtype: object),\n",
       " ('Passat Variant',\n",
       "  Motor                                                 Motor 1.0 8v\n",
       "  Ano                                                           1991\n",
       "  Quilometragem                                             115930.0\n",
       "  Zero_km                                                      False\n",
       "  Acessórios       ['Freios ABS', 'Rodas de liga', 'Piloto automá...\n",
       "  Valor                                                     69535.44\n",
       "  Name: Passat Variant, dtype: object),\n",
       " ('Clio',\n",
       "  Motor                                                 Motor Diesel\n",
       "  Ano                                                           1990\n",
       "  Quilometragem                                              66437.0\n",
       "  Zero_km                                                      False\n",
       "  Acessórios       ['4 X 4', 'Câmbio automático', 'Freios ABS', '...\n",
       "  Valor                                                    111130.33\n",
       "  Name: Clio, dtype: object),\n",
       " ('Classe G',\n",
       "  Motor                                              Motor Diesel V6\n",
       "  Ano                                                           2012\n",
       "  Quilometragem                                              96800.0\n",
       "  Zero_km                                                      False\n",
       "  Acessórios       ['Controle de estabilidade', 'Central multimíd...\n",
       "  Valor                                                     65847.69\n",
       "  Name: Classe G, dtype: object),\n",
       " ('Silver Ghost',\n",
       "  Motor                                                Motor 1.8 16v\n",
       "  Ano                                                           2007\n",
       "  Quilometragem                                              14237.0\n",
       "  Zero_km                                                      False\n",
       "  Acessórios       ['Travas elétricas', 'Painel digital', 'Câmera...\n",
       "  Valor                                                     78096.06\n",
       "  Name: Silver Ghost, dtype: object),\n",
       " ('Série 3 M3 Coupé',\n",
       "  Motor                                                 Motor Diesel\n",
       "  Ano                                                           2013\n",
       "  Quilometragem                                              19896.0\n",
       "  Zero_km                                                      False\n",
       "  Acessórios       ['Bancos de couro', 'Sensor de chuva', 'Ar con...\n",
       "  Valor                                                     69219.89\n",
       "  Name: Série 3 M3 Coupé, dtype: object),\n",
       " ('Gallardo LP 560 – 4',\n",
       "  Motor                                                 Motor Diesel\n",
       "  Ano                                                           2000\n",
       "  Quilometragem                                             113045.0\n",
       "  Zero_km                                                      False\n",
       "  Acessórios       ['Freios ABS', 'Teto panorâmico', 'Central mul...\n",
       "  Valor                                                    144118.91\n",
       "  Name: Gallardo LP 560 – 4, dtype: object),\n",
       " ('Freelander 2',\n",
       "  Motor                                              Motor Diesel V6\n",
       "  Ano                                                           2002\n",
       "  Quilometragem                                             114942.0\n",
       "  Zero_km                                                      False\n",
       "  Acessórios       ['4 X 4', 'Câmera de estacionamento', 'Sensor ...\n",
       "  Valor                                                     77397.05\n",
       "  Name: Freelander 2, dtype: object),\n",
       " ('Grand Cherokee',\n",
       "  Motor                                        Motor 5.0 V8 Bi-Turbo\n",
       "  Ano                                                           1996\n",
       "  Quilometragem                                               3173.0\n",
       "  Zero_km                                                      False\n",
       "  Acessórios       ['Câmbio automático', 'Travas elétricas', 'Sen...\n",
       "  Valor                                                     68974.25\n",
       "  Name: Grand Cherokee, dtype: object),\n",
       " ('Aston Martin DBR9',\n",
       "  Motor                                              Motor 4.0 Turbo\n",
       "  Ano                                                           1996\n",
       "  Quilometragem                                              83611.0\n",
       "  Zero_km                                                      False\n",
       "  Acessórios       ['Controle de estabilidade', 'Sensor de estaci...\n",
       "  Valor                                                     125231.3\n",
       "  Name: Aston Martin DBR9, dtype: object),\n",
       " ('Soul',\n",
       "  Motor                                        Motor 5.0 V8 Bi-Turbo\n",
       "  Ano                                                           2015\n",
       "  Quilometragem                                              25356.0\n",
       "  Zero_km                                                      False\n",
       "  Acessórios       ['Sensor crepuscular', 'Piloto automático', 'S...\n",
       "  Valor                                                     85501.12\n",
       "  Name: Soul, dtype: object),\n",
       " ('Cadillac BLS',\n",
       "  Motor                                                     Motor V8\n",
       "  Ano                                                           1993\n",
       "  Quilometragem                                              88634.0\n",
       "  Zero_km                                                      False\n",
       "  Acessórios       ['Teto panorâmico', 'Controle de estabilidade'...\n",
       "  Valor                                                    137116.21\n",
       "  Name: Cadillac BLS, dtype: object),\n",
       " ('RX 350',\n",
       "  Motor                                                     Motor V6\n",
       "  Ano                                                           2013\n",
       "  Quilometragem                                               2314.0\n",
       "  Zero_km                                                      False\n",
       "  Acessórios       ['Piloto automático', 'Sensor crepuscular', 'A...\n",
       "  Valor                                                    138823.81\n",
       "  Name: RX 350, dtype: object),\n",
       " ('Cayman',\n",
       "  Motor                                                Motor 3.0 32v\n",
       "  Ano                                                           2013\n",
       "  Quilometragem                                               2627.0\n",
       "  Zero_km                                                      False\n",
       "  Acessórios       ['Central multimídia', 'Painel digital', 'Sens...\n",
       "  Valor                                                    117961.95\n",
       "  Name: Cayman, dtype: object),\n",
       " ('Chana Utility',\n",
       "  Motor                                                 Motor Diesel\n",
       "  Ano                                                           2009\n",
       "  Quilometragem                                              52034.0\n",
       "  Zero_km                                                      False\n",
       "  Acessórios       ['Ar condicionado', 'Sensor de estacionamento'...\n",
       "  Valor                                                    132662.32\n",
       "  Name: Chana Utility, dtype: object),\n",
       " ('308 CC',\n",
       "  Motor                                              Motor 4.0 Turbo\n",
       "  Ano                                                           2019\n",
       "  Quilometragem                                                  NaN\n",
       "  Zero_km                                                       True\n",
       "  Acessórios       ['Câmera de estacionamento', 'Bancos de couro'...\n",
       "  Valor                                                    146405.79\n",
       "  Name: 308 CC, dtype: object),\n",
       " ('L200 Triton',\n",
       "  Motor                                              Motor Diesel V8\n",
       "  Ano                                                           2019\n",
       "  Quilometragem                                                  NaN\n",
       "  Zero_km                                                       True\n",
       "  Acessórios       ['Vidros elétricos', 'Ar condicionado', 'Paine...\n",
       "  Valor                                                     81999.21\n",
       "  Name: L200 Triton, dtype: object),\n",
       " ('Jetta',\n",
       "  Motor                                        Motor 5.0 V8 Bi-Turbo\n",
       "  Ano                                                           2002\n",
       "  Quilometragem                                              79577.0\n",
       "  Zero_km                                                      False\n",
       "  Acessórios       ['Central multimídia', 'Vidros elétricos', 'Câ...\n",
       "  Valor                                                     140934.6\n",
       "  Name: Jetta, dtype: object),\n",
       " ('C4 Lounge',\n",
       "  Motor                                                     Motor V8\n",
       "  Ano                                                           1997\n",
       "  Quilometragem                                             108201.0\n",
       "  Zero_km                                                      False\n",
       "  Acessórios       ['Central multimídia', 'Controle de tração', '...\n",
       "  Valor                                                     82366.81\n",
       "  Name: C4 Lounge, dtype: object),\n",
       " ('C4 Pallas',\n",
       "  Motor                                                 Motor 1.0 8v\n",
       "  Ano                                                           1998\n",
       "  Quilometragem                                              76453.0\n",
       "  Zero_km                                                      False\n",
       "  Acessórios       ['4 X 4', 'Freios ABS', 'Sensor de chuva', 'Ro...\n",
       "  Valor                                                     70424.11\n",
       "  Name: C4 Pallas, dtype: object),\n",
       " ('Equus',\n",
       "  Motor                                                Motor 3.0 32v\n",
       "  Ano                                                           2004\n",
       "  Quilometragem                                              57683.0\n",
       "  Zero_km                                                      False\n",
       "  Acessórios       ['Travas elétricas', 'Rodas de liga', '4 X 4',...\n",
       "  Valor                                                     53620.31\n",
       "  Name: Equus, dtype: object),\n",
       " ('Classe GL',\n",
       "  Motor                                                Motor 3.0 32v\n",
       "  Ano                                                           1996\n",
       "  Quilometragem                                              96610.0\n",
       "  Zero_km                                                      False\n",
       "  Acessórios       ['Freios ABS', 'Câmera de estacionamento', 'Tr...\n",
       "  Valor                                                     73389.18\n",
       "  Name: Classe GL, dtype: object),\n",
       " ('Range Rover Evoque',\n",
       "  Motor                                                Motor 2.0 16v\n",
       "  Ano                                                           2015\n",
       "  Quilometragem                                             109001.0\n",
       "  Zero_km                                                      False\n",
       "  Acessórios       ['Rodas de liga', 'Teto panorâmico', 'Sensor d...\n",
       "  Valor                                                    111618.12\n",
       "  Name: Range Rover Evoque, dtype: object),\n",
       " ('Cherokee',\n",
       "  Motor                                              Motor 4.0 Turbo\n",
       "  Ano                                                           2016\n",
       "  Quilometragem                                              26212.0\n",
       "  Zero_km                                                      False\n",
       "  Acessórios       ['Painel digital', 'Travas elétricas', 'Rodas ...\n",
       "  Valor                                                    112187.37\n",
       "  Name: Cherokee, dtype: object),\n",
       " ('Punto',\n",
       "  Motor                                              Motor 4.0 Turbo\n",
       "  Ano                                                           2005\n",
       "  Quilometragem                                              45971.0\n",
       "  Zero_km                                                      False\n",
       "  Acessórios       ['Central multimídia', 'Câmbio automático', 'P...\n",
       "  Valor                                                    120812.57\n",
       "  Name: Punto, dtype: object),\n",
       " ('Grand Tour',\n",
       "  Motor                                                Motor 3.0 32v\n",
       "  Ano                                                           1999\n",
       "  Quilometragem                                              49182.0\n",
       "  Zero_km                                                      False\n",
       "  Acessórios       ['Rodas de liga', 'Travas elétricas', 'Bancos ...\n",
       "  Valor                                                    116031.04\n",
       "  Name: Grand Tour, dtype: object),\n",
       " ('Fluence',\n",
       "  Motor                                              Motor Diesel V6\n",
       "  Ano                                                           1995\n",
       "  Quilometragem                                              49907.0\n",
       "  Zero_km                                                      False\n",
       "  Acessórios       ['Sensor crepuscular', 'Teto panorâmico', 'Câm...\n",
       "  Valor                                                    125398.11\n",
       "  Name: Fluence, dtype: object),\n",
       " ('Effa Hafei Picape Cabine Simples',\n",
       "  Motor                                                 Motor 1.0 8v\n",
       "  Ano                                                           1993\n",
       "  Quilometragem                                              38620.0\n",
       "  Zero_km                                                      False\n",
       "  Acessórios       ['Piloto automático', 'Ar condicionado', 'Cent...\n",
       "  Valor                                                     76101.47\n",
       "  Name: Effa Hafei Picape Cabine Simples, dtype: object),\n",
       " ('Durango',\n",
       "  Motor                                                Motor 2.0 16v\n",
       "  Ano                                                           2004\n",
       "  Quilometragem                                              60996.0\n",
       "  Zero_km                                                      False\n",
       "  Acessórios       ['Bancos de couro', 'Painel digital', 'Câmbio ...\n",
       "  Valor                                                     75263.24\n",
       "  Name: Durango, dtype: object),\n",
       " ('Boxster',\n",
       "  Motor                                              Motor Diesel V8\n",
       "  Ano                                                           2013\n",
       "  Quilometragem                                              73914.0\n",
       "  Zero_km                                                      False\n",
       "  Acessórios       ['Teto panorâmico', 'Sensor crepuscular', 'Ban...\n",
       "  Valor                                                    147387.76\n",
       "  Name: Boxster, dtype: object),\n",
       " ('TT Roadster',\n",
       "  Motor                                                 Motor Diesel\n",
       "  Ano                                                           1998\n",
       "  Quilometragem                                             107392.0\n",
       "  Zero_km                                                      False\n",
       "  Acessórios       ['Ar condicionado', 'Sensor de estacionamento'...\n",
       "  Valor                                                      85311.4\n",
       "  Name: TT Roadster, dtype: object),\n",
       " ('Lamborghini Jalpa',\n",
       "  Motor                                                Motor 1.8 16v\n",
       "  Ano                                                           2018\n",
       "  Quilometragem                                               9146.0\n",
       "  Zero_km                                                      False\n",
       "  Acessórios       ['Piloto automático', 'Freios ABS', 'Sensor de...\n",
       "  Valor                                                     54388.11\n",
       "  Name: Lamborghini Jalpa, dtype: object),\n",
       " ('Classe SLK',\n",
       "  Motor                                              Motor 4.0 Turbo\n",
       "  Ano                                                           2019\n",
       "  Quilometragem                                                  NaN\n",
       "  Zero_km                                                       True\n",
       "  Acessórios       ['4 X 4', 'Sensor de estacionamento', 'Control...\n",
       "  Valor                                                    124156.65\n",
       "  Name: Classe SLK, dtype: object),\n",
       " ('Golf',\n",
       "  Motor                                                 Motor 1.0 8v\n",
       "  Ano                                                           2018\n",
       "  Quilometragem                                              17924.0\n",
       "  Zero_km                                                      False\n",
       "  Acessórios       ['Rodas de liga', 'Controle de tração', 'Senso...\n",
       "  Valor                                                    146203.34\n",
       "  Name: Golf, dtype: object),\n",
       " ('C3 Picasso',\n",
       "  Motor                                                Motor 3.0 32v\n",
       "  Ano                                                           2019\n",
       "  Quilometragem                                                  NaN\n",
       "  Zero_km                                                       True\n",
       "  Acessórios       ['Teto panorâmico', 'Sensor crepuscular', 'Sen...\n",
       "  Valor                                                     56453.94\n",
       "  Name: C3 Picasso, dtype: object),\n",
       " ('V50',\n",
       "  Motor                                                Motor 2.0 16v\n",
       "  Ano                                                           1990\n",
       "  Quilometragem                                             116949.0\n",
       "  Zero_km                                                      False\n",
       "  Acessórios       ['Teto panorâmico', 'Câmera de estacionamento'...\n",
       "  Valor                                                     68873.79\n",
       "  Name: V50, dtype: object),\n",
       " ('Picanto',\n",
       "  Motor                                              Motor 4.0 Turbo\n",
       "  Ano                                                           2009\n",
       "  Quilometragem                                              20476.0\n",
       "  Zero_km                                                      False\n",
       "  Acessórios       ['Painel digital', 'Controle de estabilidade',...\n",
       "  Valor                                                     91667.61\n",
       "  Name: Picanto, dtype: object),\n",
       " ('Cadenza',\n",
       "  Motor                                              Motor Diesel V6\n",
       "  Ano                                                           1990\n",
       "  Quilometragem                                              52804.0\n",
       "  Zero_km                                                      False\n",
       "  Acessórios       ['Sensor crepuscular', 'Controle de estabilida...\n",
       "  Valor                                                     93776.52\n",
       "  Name: Cadenza, dtype: object),\n",
       " ('Etios Sedã',\n",
       "  Motor                                        Motor 5.0 V8 Bi-Turbo\n",
       "  Ano                                                           2006\n",
       "  Quilometragem                                               8849.0\n",
       "  Zero_km                                                      False\n",
       "  Acessórios       ['Ar condicionado', 'Vidros elétricos', 'Senso...\n",
       "  Valor                                                     66433.82\n",
       "  Name: Etios Sedã, dtype: object),\n",
       " ('Alsvin',\n",
       "  Motor                                              Motor Diesel V8\n",
       "  Ano                                                           2002\n",
       "  Quilometragem                                              91724.0\n",
       "  Zero_km                                                      False\n",
       "  Acessórios       ['Central multimídia', 'Controle de estabilida...\n",
       "  Valor                                                    109059.27\n",
       "  Name: Alsvin, dtype: object),\n",
       " ('Cadillac ATS',\n",
       "  Motor                                              Motor Diesel V6\n",
       "  Ano                                                           1991\n",
       "  Quilometragem                                              32056.0\n",
       "  Zero_km                                                      False\n",
       "  Acessórios       ['Piloto automático', 'Rodas de liga', '4 X 4'...\n",
       "  Valor                                                    122069.97\n",
       "  Name: Cadillac ATS, dtype: object),\n",
       " ('Série 3 M3 Sedã',\n",
       "  Motor                                              Motor Diesel V6\n",
       "  Ano                                                           1992\n",
       "  Quilometragem                                              74886.0\n",
       "  Zero_km                                                      False\n",
       "  Acessórios       ['Painel digital', 'Freios ABS', 'Ar condicion...\n",
       "  Valor                                                    113090.32\n",
       "  Name: Série 3 M3 Sedã, dtype: object),\n",
       " ('Classe S',\n",
       "  Motor                                                Motor 3.0 32v\n",
       "  Ano                                                           2019\n",
       "  Quilometragem                                                  NaN\n",
       "  Zero_km                                                       True\n",
       "  Acessórios       ['Controle de tração', 'Teto panorâmico', 'Câm...\n",
       "  Valor                                                      89401.1\n",
       "  Name: Classe S, dtype: object),\n",
       " ('T6',\n",
       "  Motor                                                Motor 3.0 32v\n",
       "  Ano                                                           2019\n",
       "  Quilometragem                                                  NaN\n",
       "  Zero_km                                                       True\n",
       "  Acessórios       ['Sensor de chuva', 'Câmera de estacionamento'...\n",
       "  Valor                                                     56842.79\n",
       "  Name: T6, dtype: object),\n",
       " ('Aston Martin DB7',\n",
       "  Motor                                              Motor Diesel V8\n",
       "  Ano                                                           2005\n",
       "  Quilometragem                                              52189.0\n",
       "  Zero_km                                                      False\n",
       "  Acessórios       ['Travas elétricas', 'Painel digital', 'Sensor...\n",
       "  Valor                                                    146676.71\n",
       "  Name: Aston Martin DB7, dtype: object),\n",
       " ('207 Sedan',\n",
       "  Motor                                              Motor 4.0 Turbo\n",
       "  Ano                                                           2010\n",
       "  Quilometragem                                              83559.0\n",
       "  Zero_km                                                      False\n",
       "  Acessórios       ['Controle de tração', 'Central multimídia', '...\n",
       "  Valor                                                     89511.96\n",
       "  Name: 207 Sedan, dtype: object),\n",
       " ('Aston Martin Virage',\n",
       "  Motor                                                 Motor Diesel\n",
       "  Ano                                                           2019\n",
       "  Quilometragem                                                  NaN\n",
       "  Zero_km                                                       True\n",
       "  Acessórios       ['Travas elétricas', 'Controle de tração', 'Câ...\n",
       "  Valor                                                     97290.18\n",
       "  Name: Aston Martin Virage, dtype: object),\n",
       " ('Azera',\n",
       "  Motor                                                Motor 1.8 16v\n",
       "  Ano                                                           2016\n",
       "  Quilometragem                                              20328.0\n",
       "  Zero_km                                                      False\n",
       "  Acessórios       ['Bancos de couro', 'Controle de tração', 'Ar ...\n",
       "  Valor                                                    120673.56\n",
       "  Name: Azera, dtype: object),\n",
       " ('Vantage Volante',\n",
       "  Motor                                              Motor Diesel V8\n",
       "  Ano                                                           2019\n",
       "  Quilometragem                                                  NaN\n",
       "  Zero_km                                                       True\n",
       "  Acessórios       ['Freios ABS', 'Controle de tração', 'Central ...\n",
       "  Valor                                                    114434.94\n",
       "  Name: Vantage Volante, dtype: object),\n",
       " ('Siena EL',\n",
       "  Motor                                                     Motor V8\n",
       "  Ano                                                           2010\n",
       "  Quilometragem                                              75577.0\n",
       "  Zero_km                                                      False\n",
       "  Acessórios       ['Freios ABS', 'Sensor crepuscular', 'Controle...\n",
       "  Valor                                                    139546.69\n",
       "  Name: Siena EL, dtype: object),\n",
       " ('Palio Adventure',\n",
       "  Motor                                              Motor Diesel V8\n",
       "  Ano                                                           1994\n",
       "  Quilometragem                                              33659.0\n",
       "  Zero_km                                                      False\n",
       "  Acessórios       ['Teto panorâmico', 'Central multimídia', 'Pil...\n",
       "  Valor                                                     95078.16\n",
       "  Name: Palio Adventure, dtype: object),\n",
       " ('HB20X',\n",
       "  Motor                                                     Motor V8\n",
       "  Ano                                                           2001\n",
       "  Quilometragem                                             104341.0\n",
       "  Zero_km                                                      False\n",
       "  Acessórios       ['Sensor crepuscular', 'Teto panorâmico', 'Pai...\n",
       "  Valor                                                     68091.77\n",
       "  Name: HB20X, dtype: object),\n",
       " ('HR',\n",
       "  Motor                                        Motor 5.0 V8 Bi-Turbo\n",
       "  Ano                                                           2014\n",
       "  Quilometragem                                              25510.0\n",
       "  Zero_km                                                      False\n",
       "  Acessórios       ['Controle de tração', 'Câmbio automático', '4...\n",
       "  Valor                                                     61496.97\n",
       "  Name: HR, dtype: object),\n",
       " ('Cadillac STS V-Series',\n",
       "  Motor                                                Motor 2.0 16v\n",
       "  Ano                                                           1996\n",
       "  Quilometragem                                              18965.0\n",
       "  Zero_km                                                      False\n",
       "  Acessórios       ['Vidros elétricos', 'Piloto automático', 'Câm...\n",
       "  Valor                                                     139669.3\n",
       "  Name: Cadillac STS V-Series, dtype: object),\n",
       " ('Série 1 Coupé',\n",
       "  Motor                                                 Motor 1.0 8v\n",
       "  Ano                                                           1993\n",
       "  Quilometragem                                              87161.0\n",
       "  Zero_km                                                      False\n",
       "  Acessórios       ['Controle de estabilidade', 'Teto panorâmico'...\n",
       "  Valor                                                     80661.39\n",
       "  Name: Série 1 Coupé, dtype: object),\n",
       " ('SpaceFox',\n",
       "  Motor                                                     Motor V8\n",
       "  Ano                                                           1993\n",
       "  Quilometragem                                               6652.0\n",
       "  Zero_km                                                      False\n",
       "  Acessórios       ['Sensor crepuscular', '4 X 4', 'Painel digita...\n",
       "  Valor                                                     61783.65\n",
       "  Name: SpaceFox, dtype: object),\n",
       " ('C30',\n",
       "  Motor                                                 Motor 1.0 8v\n",
       "  Ano                                                           2001\n",
       "  Quilometragem                                              55738.0\n",
       "  Zero_km                                                      False\n",
       "  Acessórios       ['Teto panorâmico', 'Freios ABS', 'Sensor crep...\n",
       "  Valor                                                     52805.91\n",
       "  Name: C30, dtype: object),\n",
       " ('J3 Turin',\n",
       "  Motor                                                     Motor V6\n",
       "  Ano                                                           2019\n",
       "  Quilometragem                                                  NaN\n",
       "  Zero_km                                                       True\n",
       "  Acessórios       ['Sensor crepuscular', 'Câmera de estacionamen...\n",
       "  Valor                                                    127024.75\n",
       "  Name: J3 Turin, dtype: object),\n",
       " ('Classe B',\n",
       "  Motor                                              Motor Diesel V8\n",
       "  Ano                                                           2019\n",
       "  Quilometragem                                                  NaN\n",
       "  Zero_km                                                       True\n",
       "  Acessórios       ['4 X 4', 'Bancos de couro', 'Sensor crepuscul...\n",
       "  Valor                                                     135543.0\n",
       "  Name: Classe B, dtype: object),\n",
       " ('Parati',\n",
       "  Motor                                              Motor Diesel V8\n",
       "  Ano                                                           2019\n",
       "  Quilometragem                                                  NaN\n",
       "  Zero_km                                                       True\n",
       "  Acessórios       ['Sensor de estacionamento', 'Piloto automátic...\n",
       "  Valor                                                    121708.73\n",
       "  Name: Parati, dtype: object),\n",
       " ('Cadillac CTS V-Series',\n",
       "  Motor                                              Motor 4.0 Turbo\n",
       "  Ano                                                           2007\n",
       "  Quilometragem                                              64320.0\n",
       "  Zero_km                                                      False\n",
       "  Acessórios       ['Piloto automático', 'Ar condicionado', 'Cent...\n",
       "  Valor                                                    107342.68\n",
       "  Name: Cadillac CTS V-Series, dtype: object),\n",
       " ('Sedan',\n",
       "  Motor                                                     Motor V8\n",
       "  Ano                                                           2019\n",
       "  Quilometragem                                                  NaN\n",
       "  Zero_km                                                       True\n",
       "  Acessórios       ['Bancos de couro', 'Central multimídia', 'Fre...\n",
       "  Valor                                                      57888.1\n",
       "  Name: Sedan, dtype: object),\n",
       " ('Classe CLS 63 AMG',\n",
       "  Motor                                              Motor Diesel V6\n",
       "  Ano                                                           2016\n",
       "  Quilometragem                                              68678.0\n",
       "  Zero_km                                                      False\n",
       "  Acessórios       ['Freios ABS', 'Vidros elétricos', 'Câmbio aut...\n",
       "  Valor                                                    118161.48\n",
       "  Name: Classe CLS 63 AMG, dtype: object),\n",
       " ('Aircross',\n",
       "  Motor                                                 Motor 1.0 8v\n",
       "  Ano                                                           2014\n",
       "  Quilometragem                                              71697.0\n",
       "  Zero_km                                                      False\n",
       "  Acessórios       ['Controle de tração', 'Piloto automático', 'C...\n",
       "  Valor                                                    142499.06\n",
       "  Name: Aircross, dtype: object),\n",
       " ('Aston Martin V12 Vantage',\n",
       "  Motor                                                     Motor V8\n",
       "  Ano                                                           2019\n",
       "  Quilometragem                                                  NaN\n",
       "  Zero_km                                                       True\n",
       "  Acessórios       ['Bancos de couro', 'Central multimídia', 'Con...\n",
       "  Valor                                                    128396.11\n",
       "  Name: Aston Martin V12 Vantage, dtype: object),\n",
       " ('Sandero',\n",
       "  Motor                                                 Motor Diesel\n",
       "  Ano                                                           2015\n",
       "  Quilometragem                                              34783.0\n",
       "  Zero_km                                                      False\n",
       "  Acessórios       ['Piloto automático', 'Teto panorâmico', 'Câmb...\n",
       "  Valor                                                    112350.61\n",
       "  Name: Sandero, dtype: object),\n",
       " ('New Fiesta',\n",
       "  Motor                                        Motor 5.0 V8 Bi-Turbo\n",
       "  Ano                                                           2015\n",
       "  Quilometragem                                              33772.0\n",
       "  Zero_km                                                      False\n",
       "  Acessórios       ['Controle de tração', 'Travas elétricas', '4 ...\n",
       "  Valor                                                    124661.38\n",
       "  Name: New Fiesta, dtype: object),\n",
       " ('XKR',\n",
       "  Motor                                                 Motor Diesel\n",
       "  Ano                                                           1996\n",
       "  Quilometragem                                              85127.0\n",
       "  Zero_km                                                      False\n",
       "  Acessórios       ['Controle de tração', 'Ar condicionado', 'Tra...\n",
       "  Valor                                                     54263.16\n",
       "  Name: XKR, dtype: object),\n",
       " ('X5',\n",
       "  Motor                                                 Motor Diesel\n",
       "  Ano                                                           2002\n",
       "  Quilometragem                                              13606.0\n",
       "  Zero_km                                                      False\n",
       "  Acessórios       ['Controle de tração', 'Piloto automático', 'T...\n",
       "  Valor                                                     62041.32\n",
       "  Name: X5, dtype: object),\n",
       " ('Cadillac DTS',\n",
       "  Motor                                                Motor 1.8 16v\n",
       "  Ano                                                           2005\n",
       "  Quilometragem                                              35647.0\n",
       "  Zero_km                                                      False\n",
       "  Acessórios       ['Central multimídia', 'Rodas de liga', 'Câmbi...\n",
       "  Valor                                                    129296.11\n",
       "  Name: Cadillac DTS, dtype: object),\n",
       " ('Pajero Dakar',\n",
       "  Motor                                              Motor 4.0 Turbo\n",
       "  Ano                                                           1995\n",
       "  Quilometragem                                              95128.0\n",
       "  Zero_km                                                      False\n",
       "  Acessórios       ['Piloto automático', 'Sensor de chuva', 'Cont...\n",
       "  Valor                                                     60998.33\n",
       "  Name: Pajero Dakar, dtype: object),\n",
       " ('Classe A',\n",
       "  Motor                                                 Motor 1.0 8v\n",
       "  Ano                                                           1999\n",
       "  Quilometragem                                              14046.0\n",
       "  Zero_km                                                      False\n",
       "  Acessórios       ['Controle de tração', 'Central multimídia', '...\n",
       "  Valor                                                      58008.5\n",
       "  Name: Classe A, dtype: object),\n",
       " ('Ford Focus Fastback',\n",
       "  Motor                                              Motor 4.0 Turbo\n",
       "  Ano                                                           2005\n",
       "  Quilometragem                                              41194.0\n",
       "  Zero_km                                                      False\n",
       "  Acessórios       ['Bancos de couro', 'Câmera de estacionamento'...\n",
       "  Valor                                                     82304.19\n",
       "  Name: Ford Focus Fastback, dtype: object),\n",
       " ('Partner',\n",
       "  Motor                                              Motor 2.4 Turbo\n",
       "  Ano                                                           2019\n",
       "  Quilometragem                                                  NaN\n",
       "  Zero_km                                                       True\n",
       "  Acessórios       ['Central multimídia', 'Controle de tração', '...\n",
       "  Valor                                                    114531.74\n",
       "  Name: Partner, dtype: object),\n",
       " ('R8',\n",
       "  Motor                                                     Motor V6\n",
       "  Ano                                                           1997\n",
       "  Quilometragem                                              96100.0\n",
       "  Zero_km                                                      False\n",
       "  Acessórios       ['4 X 4', 'Controle de estabilidade', 'Câmera ...\n",
       "  Valor                                                    128565.61\n",
       "  Name: R8, dtype: object),\n",
       " ('Aston Martin DBS Volante',\n",
       "  Motor                                              Motor 4.0 Turbo\n",
       "  Ano                                                           1990\n",
       "  Quilometragem                                             103900.0\n",
       "  Zero_km                                                      False\n",
       "  Acessórios       ['Central multimídia', 'Controle de estabilida...\n",
       "  Valor                                                    126488.26\n",
       "  Name: Aston Martin DBS Volante, dtype: object),\n",
       " ('Mohave',\n",
       "  Motor                                              Motor Diesel V6\n",
       "  Ano                                                           2001\n",
       "  Quilometragem                                              43814.0\n",
       "  Zero_km                                                      False\n",
       "  Acessórios       ['Travas elétricas', 'Central multimídia', 'Pa...\n",
       "  Valor                                                    119074.55\n",
       "  Name: Mohave, dtype: object),\n",
       " ('Fusca',\n",
       "  Motor                                                Motor 3.0 32v\n",
       "  Ano                                                           2013\n",
       "  Quilometragem                                              24638.0\n",
       "  Zero_km                                                      False\n",
       "  Acessórios       ['Câmbio automático', 'Teto panorâmico', 'Sens...\n",
       "  Valor                                                    130238.04\n",
       "  Name: Fusca, dtype: object),\n",
       " ('Chana Family',\n",
       "  Motor                                                     Motor V8\n",
       "  Ano                                                           2019\n",
       "  Quilometragem                                                  NaN\n",
       "  Zero_km                                                       True\n",
       "  Acessórios       ['Piloto automático', 'Teto panorâmico', 'Sens...\n",
       "  Valor                                                    115760.17\n",
       "  Name: Chana Family, dtype: object),\n",
       " ('XC40',\n",
       "  Motor                                              Motor 2.4 Turbo\n",
       "  Ano                                                           2017\n",
       "  Quilometragem                                             110966.0\n",
       "  Zero_km                                                      False\n",
       "  Acessórios       ['Sensor de chuva', 'Central multimídia', 'Vid...\n",
       "  Valor                                                     121248.0\n",
       "  Name: XC40, dtype: object),\n",
       " ('Phantom I Jonckheere Aerodynamic Coupe',\n",
       "  Motor                                                Motor 1.8 16v\n",
       "  Ano                                                           2011\n",
       "  Quilometragem                                              15987.0\n",
       "  Zero_km                                                      False\n",
       "  Acessórios       ['Sensor crepuscular', 'Travas elétricas', 'Pi...\n",
       "  Valor                                                     98156.35\n",
       "  Name: Phantom I Jonckheere Aerodynamic Coupe, dtype: object),\n",
       " ('Boxer',\n",
       "  Motor                                                     Motor V6\n",
       "  Ano                                                           2005\n",
       "  Quilometragem                                              53369.0\n",
       "  Zero_km                                                      False\n",
       "  Acessórios       ['Travas elétricas', 'Piloto automático', 'Vid...\n",
       "  Valor                                                     112146.8\n",
       "  Name: Boxer, dtype: object),\n",
       " ('Chana Cargo',\n",
       "  Motor                                                Motor 2.0 16v\n",
       "  Ano                                                           2007\n",
       "  Quilometragem                                              10077.0\n",
       "  Zero_km                                                      False\n",
       "  Acessórios       ['Teto panorâmico', '4 X 4', 'Central multimíd...\n",
       "  Valor                                                    102729.63\n",
       "  Name: Chana Cargo, dtype: object),\n",
       " ('Dodge Dakota',\n",
       "  Motor                                                 Motor Diesel\n",
       "  Ano                                                           1993\n",
       "  Quilometragem                                              71544.0\n",
       "  Zero_km                                                      False\n",
       "  Acessórios       ['Controle de tração', 'Sensor de estacionamen...\n",
       "  Valor                                                    141083.35\n",
       "  Name: Dodge Dakota, dtype: object),\n",
       " ('X1',\n",
       "  Motor                                              Motor Diesel V8\n",
       "  Ano                                                           1991\n",
       "  Quilometragem                                                107.0\n",
       "  Zero_km                                                      False\n",
       "  Acessórios       ['4 X 4', 'Teto panorâmico', 'Ar condicionado'...\n",
       "  Valor                                                    102968.76\n",
       "  Name: X1, dtype: object),\n",
       " ('GLA',\n",
       "  Motor                                                 Motor 1.0 8v\n",
       "  Ano                                                           1991\n",
       "  Quilometragem                                               8394.0\n",
       "  Zero_km                                                      False\n",
       "  Acessórios       ['Sensor de chuva', 'Câmera de estacionamento'...\n",
       "  Valor                                                     76310.01\n",
       "  Name: GLA, dtype: object),\n",
       " ('Range Rover Sport',\n",
       "  Motor                                                 Motor 1.0 8v\n",
       "  Ano                                                           1997\n",
       "  Quilometragem                                              41498.0\n",
       "  Zero_km                                                      False\n",
       "  Acessórios       ['Sensor de estacionamento', 'Câmera de estaci...\n",
       "  Valor                                                    120481.74\n",
       "  Name: Range Rover Sport, dtype: object),\n",
       " ('DS3',\n",
       "  Motor                                                Motor 1.8 16v\n",
       "  Ano                                                           2000\n",
       "  Quilometragem                                             116002.0\n",
       "  Zero_km                                                      False\n",
       "  Acessórios       ['Controle de estabilidade', 'Ar condicionado'...\n",
       "  Valor                                                     54559.18\n",
       "  Name: DS3, dtype: object),\n",
       " ('Veracruz',\n",
       "  Motor                                              Motor Diesel V8\n",
       "  Ano                                                           2007\n",
       "  Quilometragem                                             100858.0\n",
       "  Zero_km                                                      False\n",
       "  Acessórios       ['Controle de estabilidade', 'Câmera de estaci...\n",
       "  Valor                                                     92957.64\n",
       "  Name: Veracruz, dtype: object),\n",
       " ('Cadillac CTS coupe, sedan, and wagon',\n",
       "  Motor                                                     Motor V8\n",
       "  Ano                                                           2006\n",
       "  Quilometragem                                              67475.0\n",
       "  Zero_km                                                      False\n",
       "  Acessórios       ['Sensor de chuva', 'Sensor de estacionamento'...\n",
       "  Valor                                                    127810.06\n",
       "  Name: Cadillac CTS coupe, sedan, and wagon, dtype: object),\n",
       " ('i30 CW',\n",
       "  Motor                                                 Motor Diesel\n",
       "  Ano                                                           2015\n",
       "  Quilometragem                                               8497.0\n",
       "  Zero_km                                                      False\n",
       "  Acessórios       ['Sensor de chuva', 'Vidros elétricos', 'Contr...\n",
       "  Valor                                                     73311.75\n",
       "  Name: i30 CW, dtype: object),\n",
       " ('Phantom III',\n",
       "  Motor                                              Motor Diesel V6\n",
       "  Ano                                                           2008\n",
       "  Quilometragem                                               4420.0\n",
       "  Zero_km                                                      False\n",
       "  Acessórios       ['Vidros elétricos', 'Bancos de couro', 'Pilot...\n",
       "  Valor                                                     65138.03\n",
       "  Name: Phantom III, dtype: object),\n",
       " ('A3 Sedan',\n",
       "  Motor                                                     Motor V6\n",
       "  Ano                                                           2019\n",
       "  Quilometragem                                                  NaN\n",
       "  Zero_km                                                       True\n",
       "  Acessórios       ['Ar condicionado', 'Sensor de chuva', 'Travas...\n",
       "  Valor                                                     90141.47\n",
       "  Name: A3 Sedan, dtype: object),\n",
       " ('Aston Martin DB9 Volante',\n",
       "  Motor                                                Motor 2.0 16v\n",
       "  Ano                                                           1996\n",
       "  Quilometragem                                              58537.0\n",
       "  Zero_km                                                      False\n",
       "  Acessórios       ['Central multimídia', 'Bancos de couro', 'Câm...\n",
       "  Valor                                                     71160.36\n",
       "  Name: Aston Martin DB9 Volante, dtype: object),\n",
       " ('Série 7 Sedã',\n",
       "  Motor                                                 Motor Diesel\n",
       "  Ano                                                           2019\n",
       "  Quilometragem                                                  NaN\n",
       "  Zero_km                                                       True\n",
       "  Acessórios       ['Vidros elétricos', 'Travas elétricas', 'Roda...\n",
       "  Valor                                                     67539.79\n",
       "  Name: Série 7 Sedã, dtype: object),\n",
       " ('Lamborghini Reventón',\n",
       "  Motor                                              Motor 4.0 Turbo\n",
       "  Ano                                                           2019\n",
       "  Quilometragem                                                  NaN\n",
       "  Zero_km                                                       True\n",
       "  Acessórios       ['Controle de tração', 'Ar condicionado', 'Cen...\n",
       "  Valor                                                     67664.86\n",
       "  Name: Lamborghini Reventón, dtype: object),\n",
       " ('Grand Livina',\n",
       "  Motor                                                Motor 2.0 16v\n",
       "  Ano                                                           2014\n",
       "  Quilometragem                                             112016.0\n",
       "  Zero_km                                                      False\n",
       "  Acessórios       ['Controle de tração', 'Teto panorâmico', 'Vid...\n",
       "  Valor                                                     68652.16\n",
       "  Name: Grand Livina, dtype: object),\n",
       " ('V60',\n",
       "  Motor                                                 Motor Diesel\n",
       "  Ano                                                           2004\n",
       "  Quilometragem                                              91840.0\n",
       "  Zero_km                                                      False\n",
       "  Acessórios       ['Rodas de liga', 'Sensor crepuscular', 'Ar co...\n",
       "  Valor                                                    114728.74\n",
       "  Name: V60, dtype: object),\n",
       " ('Effa Hafei Picape Cabine Dupla',\n",
       "  Motor                                                     Motor V6\n",
       "  Ano                                                           2008\n",
       "  Quilometragem                                             112787.0\n",
       "  Zero_km                                                      False\n",
       "  Acessórios       ['Sensor crepuscular', 'Controle de tração', '...\n",
       "  Valor                                                    141645.08\n",
       "  Name: Effa Hafei Picape Cabine Dupla, dtype: object),\n",
       " ('Benni Mini',\n",
       "  Motor                                                     Motor V8\n",
       "  Ano                                                           2019\n",
       "  Quilometragem                                                  NaN\n",
       "  Zero_km                                                       True\n",
       "  Acessórios       ['Sensor crepuscular', 'Câmbio automático', 'C...\n",
       "  Valor                                                    126247.84\n",
       "  Name: Benni Mini, dtype: object),\n",
       " ('Uno',\n",
       "  Motor                                              Motor Diesel V6\n",
       "  Ano                                                           2019\n",
       "  Quilometragem                                                  NaN\n",
       "  Zero_km                                                       True\n",
       "  Acessórios       ['Central multimídia', 'Sensor crepuscular', '...\n",
       "  Valor                                                    128852.21\n",
       "  Name: Uno, dtype: object),\n",
       " ('L200 Savana',\n",
       "  Motor                                                Motor 2.0 16v\n",
       "  Ano                                                           2012\n",
       "  Quilometragem                                               9293.0\n",
       "  Zero_km                                                      False\n",
       "  Acessórios       ['Sensor de chuva', 'Vidros elétricos', 'Paine...\n",
       "  Valor                                                    132384.76\n",
       "  Name: L200 Savana, dtype: object),\n",
       " ('Santa Fe',\n",
       "  Motor                                                Motor 3.0 32v\n",
       "  Ano                                                           2019\n",
       "  Quilometragem                                                  NaN\n",
       "  Zero_km                                                       True\n",
       "  Acessórios       ['Travas elétricas', 'Ar condicionado', '4 X 4...\n",
       "  Valor                                                    129415.33\n",
       "  Name: Santa Fe, dtype: object),\n",
       " ('RS5',\n",
       "  Motor                                                     Motor V6\n",
       "  Ano                                                           1996\n",
       "  Quilometragem                                              55083.0\n",
       "  Zero_km                                                      False\n",
       "  Acessórios       ['Painel digital', 'Câmbio automático', 'Vidro...\n",
       "  Valor                                                     89536.82\n",
       "  Name: RS5, dtype: object),\n",
       " ('Cerato',\n",
       "  Motor                                                     Motor V6\n",
       "  Ano                                                           2011\n",
       "  Quilometragem                                              48796.0\n",
       "  Zero_km                                                      False\n",
       "  Acessórios       ['Sensor de estacionamento', 'Câmera de estaci...\n",
       "  Valor                                                      87975.3\n",
       "  Name: Cerato, dtype: object),\n",
       " ('XC60',\n",
       "  Motor                                              Motor 4.0 Turbo\n",
       "  Ano                                                           2019\n",
       "  Quilometragem                                                  NaN\n",
       "  Zero_km                                                       True\n",
       "  Acessórios       ['Painel digital', 'Piloto automático', 'Centr...\n",
       "  Valor                                                     77675.79\n",
       "  Name: XC60, dtype: object),\n",
       " ('LS 460L',\n",
       "  Motor                                              Motor Diesel V8\n",
       "  Ano                                                           2010\n",
       "  Quilometragem                                              89685.0\n",
       "  Zero_km                                                      False\n",
       "  Acessórios       ['Rodas de liga', 'Freios ABS', 'Controle de t...\n",
       "  Valor                                                     58881.67\n",
       "  Name: LS 460L, dtype: object),\n",
       " ('Lamborghini Sesto Elemento',\n",
       "  Motor                                                     Motor V8\n",
       "  Ano                                                           2007\n",
       "  Quilometragem                                              85384.0\n",
       "  Zero_km                                                      False\n",
       "  Acessórios       ['Sensor crepuscular', 'Freios ABS', 'Ar condi...\n",
       "  Valor                                                     55081.99\n",
       "  Name: Lamborghini Sesto Elemento, dtype: object),\n",
       " ('Lamborghini Huracán',\n",
       "  Motor                                                     Motor V8\n",
       "  Ano                                                           1994\n",
       "  Quilometragem                                              98108.0\n",
       "  Zero_km                                                      False\n",
       "  Acessórios       ['Sensor de chuva', 'Sensor de estacionamento'...\n",
       "  Valor                                                    118826.44\n",
       "  Name: Lamborghini Huracán, dtype: object),\n",
       " ('A7',\n",
       "  Motor                                                 Motor 1.0 8v\n",
       "  Ano                                                           2007\n",
       "  Quilometragem                                              71280.0\n",
       "  Zero_km                                                      False\n",
       "  Acessórios       ['Sensor de chuva', 'Vidros elétricos', 'Senso...\n",
       "  Valor                                                    137627.62\n",
       "  Name: A7, dtype: object),\n",
       " ('Phantom 2013',\n",
       "  Motor                                                     Motor V8\n",
       "  Ano                                                           2014\n",
       "  Quilometragem                                              27505.0\n",
       "  Zero_km                                                      False\n",
       "  Acessórios       ['Controle de estabilidade', 'Piloto automátic...\n",
       "  Valor                                                     51759.58\n",
       "  Name: Phantom 2013, dtype: object),\n",
       " ('Cadillac Ciel concept',\n",
       "  Motor                                                     Motor V8\n",
       "  Ano                                                           1991\n",
       "  Quilometragem                                              29981.0\n",
       "  Zero_km                                                      False\n",
       "  Acessórios       ['Bancos de couro', 'Painel digital', 'Sensor ...\n",
       "  Valor                                                     51667.06\n",
       "  Name: Cadillac Ciel concept, dtype: object),\n",
       " ('Classe GLK',\n",
       "  Motor                                        Motor 5.0 V8 Bi-Turbo\n",
       "  Ano                                                           2002\n",
       "  Quilometragem                                              52637.0\n",
       "  Zero_km                                                      False\n",
       "  Acessórios       ['Rodas de liga', 'Controle de tração', 'Câmbi...\n",
       "  Valor                                                     68934.03\n",
       "  Name: Classe GLK, dtype: object),\n",
       " ('Aston Martin DB5',\n",
       "  Motor                                                 Motor Diesel\n",
       "  Ano                                                           1996\n",
       "  Quilometragem                                               7685.0\n",
       "  Zero_km                                                      False\n",
       "  Acessórios       ['Ar condicionado', '4 X 4', 'Câmbio automátic...\n",
       "  Valor                                                     122110.9\n",
       "  Name: Aston Martin DB5, dtype: object),\n",
       " ('Macan',\n",
       "  Motor                                              Motor Diesel V6\n",
       "  Ano                                                           1992\n",
       "  Quilometragem                                              50188.0\n",
       "  Zero_km                                                      False\n",
       "  Acessórios       ['Central multimídia', 'Teto panorâmico', 'Vid...\n",
       "  Valor                                                     90381.47\n",
       "  Name: Macan, dtype: object)]"
      ]
     },
     "execution_count": 138,
     "metadata": {},
     "output_type": "execute_result"
    }
   ],
   "source": [
    "# Esse codigo vai trazer tuplas. 1°  informação é o indice (nome do carro) e a 2° e as linhas \n",
    "list(dataset.iterrows())"
   ]
  },
  {
   "cell_type": "code",
   "execution_count": 139,
   "id": "e7c06add",
   "metadata": {},
   "outputs": [
    {
     "data": {
      "text/html": [
       "<div>\n",
       "<style scoped>\n",
       "    .dataframe tbody tr th:only-of-type {\n",
       "        vertical-align: middle;\n",
       "    }\n",
       "\n",
       "    .dataframe tbody tr th {\n",
       "        vertical-align: top;\n",
       "    }\n",
       "\n",
       "    .dataframe thead th {\n",
       "        text-align: right;\n",
       "    }\n",
       "</style>\n",
       "<table border=\"1\" class=\"dataframe\">\n",
       "  <thead>\n",
       "    <tr style=\"text-align: right;\">\n",
       "      <th></th>\n",
       "      <th>Motor</th>\n",
       "      <th>Ano</th>\n",
       "      <th>Quilometragem</th>\n",
       "      <th>Zero_km</th>\n",
       "      <th>Acessórios</th>\n",
       "      <th>Valor</th>\n",
       "      <th>Km_media</th>\n",
       "    </tr>\n",
       "    <tr>\n",
       "      <th>Nome</th>\n",
       "      <th></th>\n",
       "      <th></th>\n",
       "      <th></th>\n",
       "      <th></th>\n",
       "      <th></th>\n",
       "      <th></th>\n",
       "      <th></th>\n",
       "    </tr>\n",
       "  </thead>\n",
       "  <tbody>\n",
       "    <tr>\n",
       "      <th>Jetta Variant</th>\n",
       "      <td>Motor 4.0 Turbo</td>\n",
       "      <td>2003</td>\n",
       "      <td>44410.0</td>\n",
       "      <td>False</td>\n",
       "      <td>['Rodas de liga', 'Travas elétricas', 'Piloto ...</td>\n",
       "      <td>88078.64</td>\n",
       "      <td>2775.625000</td>\n",
       "    </tr>\n",
       "    <tr>\n",
       "      <th>Passat</th>\n",
       "      <td>Motor Diesel</td>\n",
       "      <td>1991</td>\n",
       "      <td>5712.0</td>\n",
       "      <td>False</td>\n",
       "      <td>['Central multimídia', 'Teto panorâmico', 'Fre...</td>\n",
       "      <td>106161.94</td>\n",
       "      <td>204.000000</td>\n",
       "    </tr>\n",
       "    <tr>\n",
       "      <th>Crossfox</th>\n",
       "      <td>Motor Diesel V8</td>\n",
       "      <td>1990</td>\n",
       "      <td>37123.0</td>\n",
       "      <td>False</td>\n",
       "      <td>['Piloto automático', 'Controle de estabilidad...</td>\n",
       "      <td>72832.16</td>\n",
       "      <td>1280.103448</td>\n",
       "    </tr>\n",
       "    <tr>\n",
       "      <th>DS5</th>\n",
       "      <td>Motor 2.4 Turbo</td>\n",
       "      <td>2019</td>\n",
       "      <td>NaN</td>\n",
       "      <td>True</td>\n",
       "      <td>['Travas elétricas', '4 X 4', 'Vidros elétrico...</td>\n",
       "      <td>124549.07</td>\n",
       "      <td>0.000000</td>\n",
       "    </tr>\n",
       "    <tr>\n",
       "      <th>Aston Martin DB4</th>\n",
       "      <td>Motor 2.4 Turbo</td>\n",
       "      <td>2006</td>\n",
       "      <td>25757.0</td>\n",
       "      <td>False</td>\n",
       "      <td>['Rodas de liga', '4 X 4', 'Central multimídia...</td>\n",
       "      <td>92612.10</td>\n",
       "      <td>1981.307692</td>\n",
       "    </tr>\n",
       "    <tr>\n",
       "      <th>...</th>\n",
       "      <td>...</td>\n",
       "      <td>...</td>\n",
       "      <td>...</td>\n",
       "      <td>...</td>\n",
       "      <td>...</td>\n",
       "      <td>...</td>\n",
       "      <td>...</td>\n",
       "    </tr>\n",
       "    <tr>\n",
       "      <th>Phantom 2013</th>\n",
       "      <td>Motor V8</td>\n",
       "      <td>2014</td>\n",
       "      <td>27505.0</td>\n",
       "      <td>False</td>\n",
       "      <td>['Controle de estabilidade', 'Piloto automátic...</td>\n",
       "      <td>51759.58</td>\n",
       "      <td>5501.000000</td>\n",
       "    </tr>\n",
       "    <tr>\n",
       "      <th>Cadillac Ciel concept</th>\n",
       "      <td>Motor V8</td>\n",
       "      <td>1991</td>\n",
       "      <td>29981.0</td>\n",
       "      <td>False</td>\n",
       "      <td>['Bancos de couro', 'Painel digital', 'Sensor ...</td>\n",
       "      <td>51667.06</td>\n",
       "      <td>1070.750000</td>\n",
       "    </tr>\n",
       "    <tr>\n",
       "      <th>Classe GLK</th>\n",
       "      <td>Motor 5.0 V8 Bi-Turbo</td>\n",
       "      <td>2002</td>\n",
       "      <td>52637.0</td>\n",
       "      <td>False</td>\n",
       "      <td>['Rodas de liga', 'Controle de tração', 'Câmbi...</td>\n",
       "      <td>68934.03</td>\n",
       "      <td>3096.294118</td>\n",
       "    </tr>\n",
       "    <tr>\n",
       "      <th>Aston Martin DB5</th>\n",
       "      <td>Motor Diesel</td>\n",
       "      <td>1996</td>\n",
       "      <td>7685.0</td>\n",
       "      <td>False</td>\n",
       "      <td>['Ar condicionado', '4 X 4', 'Câmbio automátic...</td>\n",
       "      <td>122110.90</td>\n",
       "      <td>334.130435</td>\n",
       "    </tr>\n",
       "    <tr>\n",
       "      <th>Macan</th>\n",
       "      <td>Motor Diesel V6</td>\n",
       "      <td>1992</td>\n",
       "      <td>50188.0</td>\n",
       "      <td>False</td>\n",
       "      <td>['Central multimídia', 'Teto panorâmico', 'Vid...</td>\n",
       "      <td>90381.47</td>\n",
       "      <td>1858.814815</td>\n",
       "    </tr>\n",
       "  </tbody>\n",
       "</table>\n",
       "<p>258 rows × 7 columns</p>\n",
       "</div>"
      ],
      "text/plain": [
       "                                       Motor   Ano  Quilometragem  Zero_km  \\\n",
       "Nome                                                                         \n",
       "Jetta Variant                Motor 4.0 Turbo  2003        44410.0    False   \n",
       "Passat                          Motor Diesel  1991         5712.0    False   \n",
       "Crossfox                     Motor Diesel V8  1990        37123.0    False   \n",
       "DS5                          Motor 2.4 Turbo  2019            NaN     True   \n",
       "Aston Martin DB4             Motor 2.4 Turbo  2006        25757.0    False   \n",
       "...                                      ...   ...            ...      ...   \n",
       "Phantom 2013                        Motor V8  2014        27505.0    False   \n",
       "Cadillac Ciel concept               Motor V8  1991        29981.0    False   \n",
       "Classe GLK             Motor 5.0 V8 Bi-Turbo  2002        52637.0    False   \n",
       "Aston Martin DB5                Motor Diesel  1996         7685.0    False   \n",
       "Macan                        Motor Diesel V6  1992        50188.0    False   \n",
       "\n",
       "                                                              Acessórios  \\\n",
       "Nome                                                                       \n",
       "Jetta Variant          ['Rodas de liga', 'Travas elétricas', 'Piloto ...   \n",
       "Passat                 ['Central multimídia', 'Teto panorâmico', 'Fre...   \n",
       "Crossfox               ['Piloto automático', 'Controle de estabilidad...   \n",
       "DS5                    ['Travas elétricas', '4 X 4', 'Vidros elétrico...   \n",
       "Aston Martin DB4       ['Rodas de liga', '4 X 4', 'Central multimídia...   \n",
       "...                                                                  ...   \n",
       "Phantom 2013           ['Controle de estabilidade', 'Piloto automátic...   \n",
       "Cadillac Ciel concept  ['Bancos de couro', 'Painel digital', 'Sensor ...   \n",
       "Classe GLK             ['Rodas de liga', 'Controle de tração', 'Câmbi...   \n",
       "Aston Martin DB5       ['Ar condicionado', '4 X 4', 'Câmbio automátic...   \n",
       "Macan                  ['Central multimídia', 'Teto panorâmico', 'Vid...   \n",
       "\n",
       "                           Valor     Km_media  \n",
       "Nome                                           \n",
       "Jetta Variant           88078.64  2775.625000  \n",
       "Passat                 106161.94   204.000000  \n",
       "Crossfox                72832.16  1280.103448  \n",
       "DS5                    124549.07     0.000000  \n",
       "Aston Martin DB4        92612.10  1981.307692  \n",
       "...                          ...          ...  \n",
       "Phantom 2013            51759.58  5501.000000  \n",
       "Cadillac Ciel concept   51667.06  1070.750000  \n",
       "Classe GLK              68934.03  3096.294118  \n",
       "Aston Martin DB5       122110.90   334.130435  \n",
       "Macan                   90381.47  1858.814815  \n",
       "\n",
       "[258 rows x 7 columns]"
      ]
     },
     "execution_count": 139,
     "metadata": {},
     "output_type": "execute_result"
    }
   ],
   "source": [
    "# Criando uma coluna km_media, como ja foi feito, utilizando outros parametros\n",
    "for index, row in dataset.iterrows():\n",
    "    if (2019 - row['Ano'] != 0):\n",
    "        dataset.loc[index, 'Km_media'] = row['Quilometragem'] / (2019 - row['Ano'])\n",
    "    else:\n",
    "        dataset.loc[index, 'Km_media'] = 0\n",
    "            \n",
    "dataset"
   ]
  },
  {
   "cell_type": "markdown",
   "id": "d5d4c4d4",
   "metadata": {},
   "source": [
    "# Tratamento de dados"
   ]
  },
  {
   "cell_type": "code",
   "execution_count": 140,
   "id": "a6e5348a",
   "metadata": {},
   "outputs": [
    {
     "data": {
      "text/html": [
       "<div>\n",
       "<style scoped>\n",
       "    .dataframe tbody tr th:only-of-type {\n",
       "        vertical-align: middle;\n",
       "    }\n",
       "\n",
       "    .dataframe tbody tr th {\n",
       "        vertical-align: top;\n",
       "    }\n",
       "\n",
       "    .dataframe thead th {\n",
       "        text-align: right;\n",
       "    }\n",
       "</style>\n",
       "<table border=\"1\" class=\"dataframe\">\n",
       "  <thead>\n",
       "    <tr style=\"text-align: right;\">\n",
       "      <th></th>\n",
       "      <th>Motor</th>\n",
       "      <th>Ano</th>\n",
       "      <th>Quilometragem</th>\n",
       "      <th>Zero_km</th>\n",
       "      <th>Acessórios</th>\n",
       "      <th>Valor</th>\n",
       "      <th>Km_media</th>\n",
       "    </tr>\n",
       "    <tr>\n",
       "      <th>Nome</th>\n",
       "      <th></th>\n",
       "      <th></th>\n",
       "      <th></th>\n",
       "      <th></th>\n",
       "      <th></th>\n",
       "      <th></th>\n",
       "      <th></th>\n",
       "    </tr>\n",
       "  </thead>\n",
       "  <tbody>\n",
       "    <tr>\n",
       "      <th>Jetta Variant</th>\n",
       "      <td>Motor 4.0 Turbo</td>\n",
       "      <td>2003</td>\n",
       "      <td>44410.0</td>\n",
       "      <td>False</td>\n",
       "      <td>['Rodas de liga', 'Travas elétricas', 'Piloto ...</td>\n",
       "      <td>88078.64</td>\n",
       "      <td>2775.625000</td>\n",
       "    </tr>\n",
       "    <tr>\n",
       "      <th>Passat</th>\n",
       "      <td>Motor Diesel</td>\n",
       "      <td>1991</td>\n",
       "      <td>5712.0</td>\n",
       "      <td>False</td>\n",
       "      <td>['Central multimídia', 'Teto panorâmico', 'Fre...</td>\n",
       "      <td>106161.94</td>\n",
       "      <td>204.000000</td>\n",
       "    </tr>\n",
       "    <tr>\n",
       "      <th>Crossfox</th>\n",
       "      <td>Motor Diesel V8</td>\n",
       "      <td>1990</td>\n",
       "      <td>37123.0</td>\n",
       "      <td>False</td>\n",
       "      <td>['Piloto automático', 'Controle de estabilidad...</td>\n",
       "      <td>72832.16</td>\n",
       "      <td>1280.103448</td>\n",
       "    </tr>\n",
       "    <tr>\n",
       "      <th>DS5</th>\n",
       "      <td>Motor 2.4 Turbo</td>\n",
       "      <td>2019</td>\n",
       "      <td>NaN</td>\n",
       "      <td>True</td>\n",
       "      <td>['Travas elétricas', '4 X 4', 'Vidros elétrico...</td>\n",
       "      <td>124549.07</td>\n",
       "      <td>0.000000</td>\n",
       "    </tr>\n",
       "    <tr>\n",
       "      <th>Aston Martin DB4</th>\n",
       "      <td>Motor 2.4 Turbo</td>\n",
       "      <td>2006</td>\n",
       "      <td>25757.0</td>\n",
       "      <td>False</td>\n",
       "      <td>['Rodas de liga', '4 X 4', 'Central multimídia...</td>\n",
       "      <td>92612.10</td>\n",
       "      <td>1981.307692</td>\n",
       "    </tr>\n",
       "  </tbody>\n",
       "</table>\n",
       "</div>"
      ],
      "text/plain": [
       "                            Motor   Ano  Quilometragem  Zero_km  \\\n",
       "Nome                                                              \n",
       "Jetta Variant     Motor 4.0 Turbo  2003        44410.0    False   \n",
       "Passat               Motor Diesel  1991         5712.0    False   \n",
       "Crossfox          Motor Diesel V8  1990        37123.0    False   \n",
       "DS5               Motor 2.4 Turbo  2019            NaN     True   \n",
       "Aston Martin DB4  Motor 2.4 Turbo  2006        25757.0    False   \n",
       "\n",
       "                                                         Acessórios  \\\n",
       "Nome                                                                  \n",
       "Jetta Variant     ['Rodas de liga', 'Travas elétricas', 'Piloto ...   \n",
       "Passat            ['Central multimídia', 'Teto panorâmico', 'Fre...   \n",
       "Crossfox          ['Piloto automático', 'Controle de estabilidad...   \n",
       "DS5               ['Travas elétricas', '4 X 4', 'Vidros elétrico...   \n",
       "Aston Martin DB4  ['Rodas de liga', '4 X 4', 'Central multimídia...   \n",
       "\n",
       "                      Valor     Km_media  \n",
       "Nome                                      \n",
       "Jetta Variant      88078.64  2775.625000  \n",
       "Passat            106161.94   204.000000  \n",
       "Crossfox           72832.16  1280.103448  \n",
       "DS5               124549.07     0.000000  \n",
       "Aston Martin DB4   92612.10  1981.307692  "
      ]
     },
     "execution_count": 140,
     "metadata": {},
     "output_type": "execute_result"
    }
   ],
   "source": [
    "dataset.head()"
   ]
  },
  {
   "cell_type": "code",
   "execution_count": 141,
   "id": "29885c3e",
   "metadata": {},
   "outputs": [
    {
     "name": "stdout",
     "output_type": "stream",
     "text": [
      "<class 'pandas.core.frame.DataFrame'>\n",
      "Index: 258 entries, Jetta Variant to Macan\n",
      "Data columns (total 7 columns):\n",
      " #   Column         Non-Null Count  Dtype  \n",
      "---  ------         --------------  -----  \n",
      " 0   Motor          258 non-null    object \n",
      " 1   Ano            258 non-null    int64  \n",
      " 2   Quilometragem  197 non-null    float64\n",
      " 3   Zero_km        258 non-null    bool   \n",
      " 4   Acessórios     258 non-null    object \n",
      " 5   Valor          258 non-null    float64\n",
      " 6   Km_media       258 non-null    float64\n",
      "dtypes: bool(1), float64(3), int64(1), object(2)\n",
      "memory usage: 22.5+ KB\n"
     ]
    }
   ],
   "source": [
    "dataset.info()"
   ]
  },
  {
   "cell_type": "code",
   "execution_count": 142,
   "id": "11d1f703",
   "metadata": {},
   "outputs": [
    {
     "data": {
      "text/plain": [
       "Nome\n",
       "Jetta Variant            False\n",
       "Passat                   False\n",
       "Crossfox                 False\n",
       "DS5                       True\n",
       "Aston Martin DB4         False\n",
       "                         ...  \n",
       "Phantom 2013             False\n",
       "Cadillac Ciel concept    False\n",
       "Classe GLK               False\n",
       "Aston Martin DB5         False\n",
       "Macan                    False\n",
       "Name: Quilometragem, Length: 258, dtype: bool"
      ]
     },
     "execution_count": 142,
     "metadata": {},
     "output_type": "execute_result"
    }
   ],
   "source": [
    "# Verificando atraves da Séries os valores que sao NA, faltantes\n",
    "dataset.Quilometragem.isna()"
   ]
  },
  {
   "cell_type": "code",
   "execution_count": 143,
   "id": "4e607bb7",
   "metadata": {
    "scrolled": true
   },
   "outputs": [
    {
     "data": {
      "text/html": [
       "<div>\n",
       "<style scoped>\n",
       "    .dataframe tbody tr th:only-of-type {\n",
       "        vertical-align: middle;\n",
       "    }\n",
       "\n",
       "    .dataframe tbody tr th {\n",
       "        vertical-align: top;\n",
       "    }\n",
       "\n",
       "    .dataframe thead th {\n",
       "        text-align: right;\n",
       "    }\n",
       "</style>\n",
       "<table border=\"1\" class=\"dataframe\">\n",
       "  <thead>\n",
       "    <tr style=\"text-align: right;\">\n",
       "      <th></th>\n",
       "      <th>Motor</th>\n",
       "      <th>Ano</th>\n",
       "      <th>Quilometragem</th>\n",
       "      <th>Zero_km</th>\n",
       "      <th>Acessórios</th>\n",
       "      <th>Valor</th>\n",
       "      <th>Km_media</th>\n",
       "    </tr>\n",
       "    <tr>\n",
       "      <th>Nome</th>\n",
       "      <th></th>\n",
       "      <th></th>\n",
       "      <th></th>\n",
       "      <th></th>\n",
       "      <th></th>\n",
       "      <th></th>\n",
       "      <th></th>\n",
       "    </tr>\n",
       "  </thead>\n",
       "  <tbody>\n",
       "    <tr>\n",
       "      <th>DS5</th>\n",
       "      <td>Motor 2.4 Turbo</td>\n",
       "      <td>2019</td>\n",
       "      <td>NaN</td>\n",
       "      <td>True</td>\n",
       "      <td>['Travas elétricas', '4 X 4', 'Vidros elétrico...</td>\n",
       "      <td>124549.07</td>\n",
       "      <td>0.0</td>\n",
       "    </tr>\n",
       "    <tr>\n",
       "      <th>A5</th>\n",
       "      <td>Motor 4.0 Turbo</td>\n",
       "      <td>2019</td>\n",
       "      <td>NaN</td>\n",
       "      <td>True</td>\n",
       "      <td>['Câmbio automático', 'Câmera de estacionament...</td>\n",
       "      <td>56445.20</td>\n",
       "      <td>0.0</td>\n",
       "    </tr>\n",
       "    <tr>\n",
       "      <th>J5</th>\n",
       "      <td>Motor V6</td>\n",
       "      <td>2019</td>\n",
       "      <td>NaN</td>\n",
       "      <td>True</td>\n",
       "      <td>['Sensor crepuscular', 'Painel digital', 'Roda...</td>\n",
       "      <td>53183.38</td>\n",
       "      <td>0.0</td>\n",
       "    </tr>\n",
       "    <tr>\n",
       "      <th>A3</th>\n",
       "      <td>Motor 1.0 8v</td>\n",
       "      <td>2019</td>\n",
       "      <td>NaN</td>\n",
       "      <td>True</td>\n",
       "      <td>['4 X 4', 'Piloto automático', 'Central multim...</td>\n",
       "      <td>88552.39</td>\n",
       "      <td>0.0</td>\n",
       "    </tr>\n",
       "    <tr>\n",
       "      <th>Série 1 M</th>\n",
       "      <td>Motor V8</td>\n",
       "      <td>2019</td>\n",
       "      <td>NaN</td>\n",
       "      <td>True</td>\n",
       "      <td>['Controle de estabilidade', 'Central multimíd...</td>\n",
       "      <td>94564.40</td>\n",
       "      <td>0.0</td>\n",
       "    </tr>\n",
       "    <tr>\n",
       "      <th>...</th>\n",
       "      <td>...</td>\n",
       "      <td>...</td>\n",
       "      <td>...</td>\n",
       "      <td>...</td>\n",
       "      <td>...</td>\n",
       "      <td>...</td>\n",
       "      <td>...</td>\n",
       "    </tr>\n",
       "    <tr>\n",
       "      <th>Lamborghini Reventón</th>\n",
       "      <td>Motor 4.0 Turbo</td>\n",
       "      <td>2019</td>\n",
       "      <td>NaN</td>\n",
       "      <td>True</td>\n",
       "      <td>['Controle de tração', 'Ar condicionado', 'Cen...</td>\n",
       "      <td>67664.86</td>\n",
       "      <td>0.0</td>\n",
       "    </tr>\n",
       "    <tr>\n",
       "      <th>Benni Mini</th>\n",
       "      <td>Motor V8</td>\n",
       "      <td>2019</td>\n",
       "      <td>NaN</td>\n",
       "      <td>True</td>\n",
       "      <td>['Sensor crepuscular', 'Câmbio automático', 'C...</td>\n",
       "      <td>126247.84</td>\n",
       "      <td>0.0</td>\n",
       "    </tr>\n",
       "    <tr>\n",
       "      <th>Uno</th>\n",
       "      <td>Motor Diesel V6</td>\n",
       "      <td>2019</td>\n",
       "      <td>NaN</td>\n",
       "      <td>True</td>\n",
       "      <td>['Central multimídia', 'Sensor crepuscular', '...</td>\n",
       "      <td>128852.21</td>\n",
       "      <td>0.0</td>\n",
       "    </tr>\n",
       "    <tr>\n",
       "      <th>Santa Fe</th>\n",
       "      <td>Motor 3.0 32v</td>\n",
       "      <td>2019</td>\n",
       "      <td>NaN</td>\n",
       "      <td>True</td>\n",
       "      <td>['Travas elétricas', 'Ar condicionado', '4 X 4...</td>\n",
       "      <td>129415.33</td>\n",
       "      <td>0.0</td>\n",
       "    </tr>\n",
       "    <tr>\n",
       "      <th>XC60</th>\n",
       "      <td>Motor 4.0 Turbo</td>\n",
       "      <td>2019</td>\n",
       "      <td>NaN</td>\n",
       "      <td>True</td>\n",
       "      <td>['Painel digital', 'Piloto automático', 'Centr...</td>\n",
       "      <td>77675.79</td>\n",
       "      <td>0.0</td>\n",
       "    </tr>\n",
       "  </tbody>\n",
       "</table>\n",
       "<p>61 rows × 7 columns</p>\n",
       "</div>"
      ],
      "text/plain": [
       "                                Motor   Ano  Quilometragem  Zero_km  \\\n",
       "Nome                                                                  \n",
       "DS5                   Motor 2.4 Turbo  2019            NaN     True   \n",
       "A5                    Motor 4.0 Turbo  2019            NaN     True   \n",
       "J5                           Motor V6  2019            NaN     True   \n",
       "A3                       Motor 1.0 8v  2019            NaN     True   \n",
       "Série 1 M                    Motor V8  2019            NaN     True   \n",
       "...                               ...   ...            ...      ...   \n",
       "Lamborghini Reventón  Motor 4.0 Turbo  2019            NaN     True   \n",
       "Benni Mini                   Motor V8  2019            NaN     True   \n",
       "Uno                   Motor Diesel V6  2019            NaN     True   \n",
       "Santa Fe                Motor 3.0 32v  2019            NaN     True   \n",
       "XC60                  Motor 4.0 Turbo  2019            NaN     True   \n",
       "\n",
       "                                                             Acessórios  \\\n",
       "Nome                                                                      \n",
       "DS5                   ['Travas elétricas', '4 X 4', 'Vidros elétrico...   \n",
       "A5                    ['Câmbio automático', 'Câmera de estacionament...   \n",
       "J5                    ['Sensor crepuscular', 'Painel digital', 'Roda...   \n",
       "A3                    ['4 X 4', 'Piloto automático', 'Central multim...   \n",
       "Série 1 M             ['Controle de estabilidade', 'Central multimíd...   \n",
       "...                                                                 ...   \n",
       "Lamborghini Reventón  ['Controle de tração', 'Ar condicionado', 'Cen...   \n",
       "Benni Mini            ['Sensor crepuscular', 'Câmbio automático', 'C...   \n",
       "Uno                   ['Central multimídia', 'Sensor crepuscular', '...   \n",
       "Santa Fe              ['Travas elétricas', 'Ar condicionado', '4 X 4...   \n",
       "XC60                  ['Painel digital', 'Piloto automático', 'Centr...   \n",
       "\n",
       "                          Valor  Km_media  \n",
       "Nome                                       \n",
       "DS5                   124549.07       0.0  \n",
       "A5                     56445.20       0.0  \n",
       "J5                     53183.38       0.0  \n",
       "A3                     88552.39       0.0  \n",
       "Série 1 M              94564.40       0.0  \n",
       "...                         ...       ...  \n",
       "Lamborghini Reventón   67664.86       0.0  \n",
       "Benni Mini            126247.84       0.0  \n",
       "Uno                   128852.21       0.0  \n",
       "Santa Fe              129415.33       0.0  \n",
       "XC60                   77675.79       0.0  \n",
       "\n",
       "[61 rows x 7 columns]"
      ]
     },
     "execution_count": 143,
     "metadata": {},
     "output_type": "execute_result"
    }
   ],
   "source": [
    "# Verificando atraves do dataframe\n",
    "dataset[dataset.Quilometragem.isna()]"
   ]
  },
  {
   "cell_type": "code",
   "execution_count": 144,
   "id": "93656f23",
   "metadata": {},
   "outputs": [
    {
     "data": {
      "text/html": [
       "<div>\n",
       "<style scoped>\n",
       "    .dataframe tbody tr th:only-of-type {\n",
       "        vertical-align: middle;\n",
       "    }\n",
       "\n",
       "    .dataframe tbody tr th {\n",
       "        vertical-align: top;\n",
       "    }\n",
       "\n",
       "    .dataframe thead th {\n",
       "        text-align: right;\n",
       "    }\n",
       "</style>\n",
       "<table border=\"1\" class=\"dataframe\">\n",
       "  <thead>\n",
       "    <tr style=\"text-align: right;\">\n",
       "      <th></th>\n",
       "      <th>Motor</th>\n",
       "      <th>Ano</th>\n",
       "      <th>Quilometragem</th>\n",
       "      <th>Zero_km</th>\n",
       "      <th>Acessórios</th>\n",
       "      <th>Valor</th>\n",
       "      <th>Km_media</th>\n",
       "    </tr>\n",
       "    <tr>\n",
       "      <th>Nome</th>\n",
       "      <th></th>\n",
       "      <th></th>\n",
       "      <th></th>\n",
       "      <th></th>\n",
       "      <th></th>\n",
       "      <th></th>\n",
       "      <th></th>\n",
       "    </tr>\n",
       "  </thead>\n",
       "  <tbody>\n",
       "    <tr>\n",
       "      <th>Jetta Variant</th>\n",
       "      <td>Motor 4.0 Turbo</td>\n",
       "      <td>2003</td>\n",
       "      <td>44410.0</td>\n",
       "      <td>False</td>\n",
       "      <td>['Rodas de liga', 'Travas elétricas', 'Piloto ...</td>\n",
       "      <td>88078.64</td>\n",
       "      <td>2775.625000</td>\n",
       "    </tr>\n",
       "    <tr>\n",
       "      <th>Passat</th>\n",
       "      <td>Motor Diesel</td>\n",
       "      <td>1991</td>\n",
       "      <td>5712.0</td>\n",
       "      <td>False</td>\n",
       "      <td>['Central multimídia', 'Teto panorâmico', 'Fre...</td>\n",
       "      <td>106161.94</td>\n",
       "      <td>204.000000</td>\n",
       "    </tr>\n",
       "    <tr>\n",
       "      <th>Crossfox</th>\n",
       "      <td>Motor Diesel V8</td>\n",
       "      <td>1990</td>\n",
       "      <td>37123.0</td>\n",
       "      <td>False</td>\n",
       "      <td>['Piloto automático', 'Controle de estabilidad...</td>\n",
       "      <td>72832.16</td>\n",
       "      <td>1280.103448</td>\n",
       "    </tr>\n",
       "    <tr>\n",
       "      <th>DS5</th>\n",
       "      <td>Motor 2.4 Turbo</td>\n",
       "      <td>2019</td>\n",
       "      <td>0.0</td>\n",
       "      <td>True</td>\n",
       "      <td>['Travas elétricas', '4 X 4', 'Vidros elétrico...</td>\n",
       "      <td>124549.07</td>\n",
       "      <td>0.000000</td>\n",
       "    </tr>\n",
       "    <tr>\n",
       "      <th>Aston Martin DB4</th>\n",
       "      <td>Motor 2.4 Turbo</td>\n",
       "      <td>2006</td>\n",
       "      <td>25757.0</td>\n",
       "      <td>False</td>\n",
       "      <td>['Rodas de liga', '4 X 4', 'Central multimídia...</td>\n",
       "      <td>92612.10</td>\n",
       "      <td>1981.307692</td>\n",
       "    </tr>\n",
       "    <tr>\n",
       "      <th>...</th>\n",
       "      <td>...</td>\n",
       "      <td>...</td>\n",
       "      <td>...</td>\n",
       "      <td>...</td>\n",
       "      <td>...</td>\n",
       "      <td>...</td>\n",
       "      <td>...</td>\n",
       "    </tr>\n",
       "    <tr>\n",
       "      <th>Phantom 2013</th>\n",
       "      <td>Motor V8</td>\n",
       "      <td>2014</td>\n",
       "      <td>27505.0</td>\n",
       "      <td>False</td>\n",
       "      <td>['Controle de estabilidade', 'Piloto automátic...</td>\n",
       "      <td>51759.58</td>\n",
       "      <td>5501.000000</td>\n",
       "    </tr>\n",
       "    <tr>\n",
       "      <th>Cadillac Ciel concept</th>\n",
       "      <td>Motor V8</td>\n",
       "      <td>1991</td>\n",
       "      <td>29981.0</td>\n",
       "      <td>False</td>\n",
       "      <td>['Bancos de couro', 'Painel digital', 'Sensor ...</td>\n",
       "      <td>51667.06</td>\n",
       "      <td>1070.750000</td>\n",
       "    </tr>\n",
       "    <tr>\n",
       "      <th>Classe GLK</th>\n",
       "      <td>Motor 5.0 V8 Bi-Turbo</td>\n",
       "      <td>2002</td>\n",
       "      <td>52637.0</td>\n",
       "      <td>False</td>\n",
       "      <td>['Rodas de liga', 'Controle de tração', 'Câmbi...</td>\n",
       "      <td>68934.03</td>\n",
       "      <td>3096.294118</td>\n",
       "    </tr>\n",
       "    <tr>\n",
       "      <th>Aston Martin DB5</th>\n",
       "      <td>Motor Diesel</td>\n",
       "      <td>1996</td>\n",
       "      <td>7685.0</td>\n",
       "      <td>False</td>\n",
       "      <td>['Ar condicionado', '4 X 4', 'Câmbio automátic...</td>\n",
       "      <td>122110.90</td>\n",
       "      <td>334.130435</td>\n",
       "    </tr>\n",
       "    <tr>\n",
       "      <th>Macan</th>\n",
       "      <td>Motor Diesel V6</td>\n",
       "      <td>1992</td>\n",
       "      <td>50188.0</td>\n",
       "      <td>False</td>\n",
       "      <td>['Central multimídia', 'Teto panorâmico', 'Vid...</td>\n",
       "      <td>90381.47</td>\n",
       "      <td>1858.814815</td>\n",
       "    </tr>\n",
       "  </tbody>\n",
       "</table>\n",
       "<p>258 rows × 7 columns</p>\n",
       "</div>"
      ],
      "text/plain": [
       "                                       Motor   Ano  Quilometragem  Zero_km  \\\n",
       "Nome                                                                         \n",
       "Jetta Variant                Motor 4.0 Turbo  2003        44410.0    False   \n",
       "Passat                          Motor Diesel  1991         5712.0    False   \n",
       "Crossfox                     Motor Diesel V8  1990        37123.0    False   \n",
       "DS5                          Motor 2.4 Turbo  2019            0.0     True   \n",
       "Aston Martin DB4             Motor 2.4 Turbo  2006        25757.0    False   \n",
       "...                                      ...   ...            ...      ...   \n",
       "Phantom 2013                        Motor V8  2014        27505.0    False   \n",
       "Cadillac Ciel concept               Motor V8  1991        29981.0    False   \n",
       "Classe GLK             Motor 5.0 V8 Bi-Turbo  2002        52637.0    False   \n",
       "Aston Martin DB5                Motor Diesel  1996         7685.0    False   \n",
       "Macan                        Motor Diesel V6  1992        50188.0    False   \n",
       "\n",
       "                                                              Acessórios  \\\n",
       "Nome                                                                       \n",
       "Jetta Variant          ['Rodas de liga', 'Travas elétricas', 'Piloto ...   \n",
       "Passat                 ['Central multimídia', 'Teto panorâmico', 'Fre...   \n",
       "Crossfox               ['Piloto automático', 'Controle de estabilidad...   \n",
       "DS5                    ['Travas elétricas', '4 X 4', 'Vidros elétrico...   \n",
       "Aston Martin DB4       ['Rodas de liga', '4 X 4', 'Central multimídia...   \n",
       "...                                                                  ...   \n",
       "Phantom 2013           ['Controle de estabilidade', 'Piloto automátic...   \n",
       "Cadillac Ciel concept  ['Bancos de couro', 'Painel digital', 'Sensor ...   \n",
       "Classe GLK             ['Rodas de liga', 'Controle de tração', 'Câmbi...   \n",
       "Aston Martin DB5       ['Ar condicionado', '4 X 4', 'Câmbio automátic...   \n",
       "Macan                  ['Central multimídia', 'Teto panorâmico', 'Vid...   \n",
       "\n",
       "                           Valor     Km_media  \n",
       "Nome                                           \n",
       "Jetta Variant           88078.64  2775.625000  \n",
       "Passat                 106161.94   204.000000  \n",
       "Crossfox                72832.16  1280.103448  \n",
       "DS5                    124549.07     0.000000  \n",
       "Aston Martin DB4        92612.10  1981.307692  \n",
       "...                          ...          ...  \n",
       "Phantom 2013            51759.58  5501.000000  \n",
       "Cadillac Ciel concept   51667.06  1070.750000  \n",
       "Classe GLK              68934.03  3096.294118  \n",
       "Aston Martin DB5       122110.90   334.130435  \n",
       "Macan                   90381.47  1858.814815  \n",
       "\n",
       "[258 rows x 7 columns]"
      ]
     },
     "execution_count": 144,
     "metadata": {},
     "output_type": "execute_result"
    }
   ],
   "source": [
    "# Preenchendo os dados na, com 0 e usando inplace para aplicar o parâmetro no dataframe\n",
    "dataset.fillna(0, inplace = True)\n",
    "dataset"
   ]
  },
  {
   "cell_type": "code",
   "execution_count": 145,
   "id": "c70b5e55",
   "metadata": {
    "scrolled": true
   },
   "outputs": [
    {
     "data": {
      "text/html": [
       "<div>\n",
       "<style scoped>\n",
       "    .dataframe tbody tr th:only-of-type {\n",
       "        vertical-align: middle;\n",
       "    }\n",
       "\n",
       "    .dataframe tbody tr th {\n",
       "        vertical-align: top;\n",
       "    }\n",
       "\n",
       "    .dataframe thead th {\n",
       "        text-align: right;\n",
       "    }\n",
       "</style>\n",
       "<table border=\"1\" class=\"dataframe\">\n",
       "  <thead>\n",
       "    <tr style=\"text-align: right;\">\n",
       "      <th></th>\n",
       "      <th>Motor</th>\n",
       "      <th>Ano</th>\n",
       "      <th>Quilometragem</th>\n",
       "      <th>Zero_km</th>\n",
       "      <th>Acessórios</th>\n",
       "      <th>Valor</th>\n",
       "      <th>Km_media</th>\n",
       "    </tr>\n",
       "    <tr>\n",
       "      <th>Nome</th>\n",
       "      <th></th>\n",
       "      <th></th>\n",
       "      <th></th>\n",
       "      <th></th>\n",
       "      <th></th>\n",
       "      <th></th>\n",
       "      <th></th>\n",
       "    </tr>\n",
       "  </thead>\n",
       "  <tbody>\n",
       "    <tr>\n",
       "      <th>DS5</th>\n",
       "      <td>Motor 2.4 Turbo</td>\n",
       "      <td>2019</td>\n",
       "      <td>0.0</td>\n",
       "      <td>True</td>\n",
       "      <td>['Travas elétricas', '4 X 4', 'Vidros elétrico...</td>\n",
       "      <td>124549.07</td>\n",
       "      <td>0.0</td>\n",
       "    </tr>\n",
       "    <tr>\n",
       "      <th>A5</th>\n",
       "      <td>Motor 4.0 Turbo</td>\n",
       "      <td>2019</td>\n",
       "      <td>0.0</td>\n",
       "      <td>True</td>\n",
       "      <td>['Câmbio automático', 'Câmera de estacionament...</td>\n",
       "      <td>56445.20</td>\n",
       "      <td>0.0</td>\n",
       "    </tr>\n",
       "    <tr>\n",
       "      <th>J5</th>\n",
       "      <td>Motor V6</td>\n",
       "      <td>2019</td>\n",
       "      <td>0.0</td>\n",
       "      <td>True</td>\n",
       "      <td>['Sensor crepuscular', 'Painel digital', 'Roda...</td>\n",
       "      <td>53183.38</td>\n",
       "      <td>0.0</td>\n",
       "    </tr>\n",
       "    <tr>\n",
       "      <th>A3</th>\n",
       "      <td>Motor 1.0 8v</td>\n",
       "      <td>2019</td>\n",
       "      <td>0.0</td>\n",
       "      <td>True</td>\n",
       "      <td>['4 X 4', 'Piloto automático', 'Central multim...</td>\n",
       "      <td>88552.39</td>\n",
       "      <td>0.0</td>\n",
       "    </tr>\n",
       "    <tr>\n",
       "      <th>Série 1 M</th>\n",
       "      <td>Motor V8</td>\n",
       "      <td>2019</td>\n",
       "      <td>0.0</td>\n",
       "      <td>True</td>\n",
       "      <td>['Controle de estabilidade', 'Central multimíd...</td>\n",
       "      <td>94564.40</td>\n",
       "      <td>0.0</td>\n",
       "    </tr>\n",
       "    <tr>\n",
       "      <th>...</th>\n",
       "      <td>...</td>\n",
       "      <td>...</td>\n",
       "      <td>...</td>\n",
       "      <td>...</td>\n",
       "      <td>...</td>\n",
       "      <td>...</td>\n",
       "      <td>...</td>\n",
       "    </tr>\n",
       "    <tr>\n",
       "      <th>Lamborghini Reventón</th>\n",
       "      <td>Motor 4.0 Turbo</td>\n",
       "      <td>2019</td>\n",
       "      <td>0.0</td>\n",
       "      <td>True</td>\n",
       "      <td>['Controle de tração', 'Ar condicionado', 'Cen...</td>\n",
       "      <td>67664.86</td>\n",
       "      <td>0.0</td>\n",
       "    </tr>\n",
       "    <tr>\n",
       "      <th>Benni Mini</th>\n",
       "      <td>Motor V8</td>\n",
       "      <td>2019</td>\n",
       "      <td>0.0</td>\n",
       "      <td>True</td>\n",
       "      <td>['Sensor crepuscular', 'Câmbio automático', 'C...</td>\n",
       "      <td>126247.84</td>\n",
       "      <td>0.0</td>\n",
       "    </tr>\n",
       "    <tr>\n",
       "      <th>Uno</th>\n",
       "      <td>Motor Diesel V6</td>\n",
       "      <td>2019</td>\n",
       "      <td>0.0</td>\n",
       "      <td>True</td>\n",
       "      <td>['Central multimídia', 'Sensor crepuscular', '...</td>\n",
       "      <td>128852.21</td>\n",
       "      <td>0.0</td>\n",
       "    </tr>\n",
       "    <tr>\n",
       "      <th>Santa Fe</th>\n",
       "      <td>Motor 3.0 32v</td>\n",
       "      <td>2019</td>\n",
       "      <td>0.0</td>\n",
       "      <td>True</td>\n",
       "      <td>['Travas elétricas', 'Ar condicionado', '4 X 4...</td>\n",
       "      <td>129415.33</td>\n",
       "      <td>0.0</td>\n",
       "    </tr>\n",
       "    <tr>\n",
       "      <th>XC60</th>\n",
       "      <td>Motor 4.0 Turbo</td>\n",
       "      <td>2019</td>\n",
       "      <td>0.0</td>\n",
       "      <td>True</td>\n",
       "      <td>['Painel digital', 'Piloto automático', 'Centr...</td>\n",
       "      <td>77675.79</td>\n",
       "      <td>0.0</td>\n",
       "    </tr>\n",
       "  </tbody>\n",
       "</table>\n",
       "<p>61 rows × 7 columns</p>\n",
       "</div>"
      ],
      "text/plain": [
       "                                Motor   Ano  Quilometragem  Zero_km  \\\n",
       "Nome                                                                  \n",
       "DS5                   Motor 2.4 Turbo  2019            0.0     True   \n",
       "A5                    Motor 4.0 Turbo  2019            0.0     True   \n",
       "J5                           Motor V6  2019            0.0     True   \n",
       "A3                       Motor 1.0 8v  2019            0.0     True   \n",
       "Série 1 M                    Motor V8  2019            0.0     True   \n",
       "...                               ...   ...            ...      ...   \n",
       "Lamborghini Reventón  Motor 4.0 Turbo  2019            0.0     True   \n",
       "Benni Mini                   Motor V8  2019            0.0     True   \n",
       "Uno                   Motor Diesel V6  2019            0.0     True   \n",
       "Santa Fe                Motor 3.0 32v  2019            0.0     True   \n",
       "XC60                  Motor 4.0 Turbo  2019            0.0     True   \n",
       "\n",
       "                                                             Acessórios  \\\n",
       "Nome                                                                      \n",
       "DS5                   ['Travas elétricas', '4 X 4', 'Vidros elétrico...   \n",
       "A5                    ['Câmbio automático', 'Câmera de estacionament...   \n",
       "J5                    ['Sensor crepuscular', 'Painel digital', 'Roda...   \n",
       "A3                    ['4 X 4', 'Piloto automático', 'Central multim...   \n",
       "Série 1 M             ['Controle de estabilidade', 'Central multimíd...   \n",
       "...                                                                 ...   \n",
       "Lamborghini Reventón  ['Controle de tração', 'Ar condicionado', 'Cen...   \n",
       "Benni Mini            ['Sensor crepuscular', 'Câmbio automático', 'C...   \n",
       "Uno                   ['Central multimídia', 'Sensor crepuscular', '...   \n",
       "Santa Fe              ['Travas elétricas', 'Ar condicionado', '4 X 4...   \n",
       "XC60                  ['Painel digital', 'Piloto automático', 'Centr...   \n",
       "\n",
       "                          Valor  Km_media  \n",
       "Nome                                       \n",
       "DS5                   124549.07       0.0  \n",
       "A5                     56445.20       0.0  \n",
       "J5                     53183.38       0.0  \n",
       "A3                     88552.39       0.0  \n",
       "Série 1 M              94564.40       0.0  \n",
       "...                         ...       ...  \n",
       "Lamborghini Reventón   67664.86       0.0  \n",
       "Benni Mini            126247.84       0.0  \n",
       "Uno                   128852.21       0.0  \n",
       "Santa Fe              129415.33       0.0  \n",
       "XC60                   77675.79       0.0  \n",
       "\n",
       "[61 rows x 7 columns]"
      ]
     },
     "execution_count": 145,
     "metadata": {},
     "output_type": "execute_result"
    }
   ],
   "source": [
    "#Verificando se todos carros que estao com zero km, tambem estao com quilometragem 0\n",
    "dataset.query(\"Zero_km == True\")"
   ]
  },
  {
   "cell_type": "code",
   "execution_count": 146,
   "id": "41f0f36b",
   "metadata": {},
   "outputs": [],
   "source": [
    "dataset = pd.read_csv(\"db.csv\", sep = ';')"
   ]
  },
  {
   "cell_type": "code",
   "execution_count": 147,
   "id": "a978019a",
   "metadata": {
    "scrolled": true
   },
   "outputs": [
    {
     "data": {
      "text/html": [
       "<div>\n",
       "<style scoped>\n",
       "    .dataframe tbody tr th:only-of-type {\n",
       "        vertical-align: middle;\n",
       "    }\n",
       "\n",
       "    .dataframe tbody tr th {\n",
       "        vertical-align: top;\n",
       "    }\n",
       "\n",
       "    .dataframe thead th {\n",
       "        text-align: right;\n",
       "    }\n",
       "</style>\n",
       "<table border=\"1\" class=\"dataframe\">\n",
       "  <thead>\n",
       "    <tr style=\"text-align: right;\">\n",
       "      <th></th>\n",
       "      <th>Nome</th>\n",
       "      <th>Motor</th>\n",
       "      <th>Ano</th>\n",
       "      <th>Quilometragem</th>\n",
       "      <th>Zero_km</th>\n",
       "      <th>Acessórios</th>\n",
       "      <th>Valor</th>\n",
       "    </tr>\n",
       "  </thead>\n",
       "  <tbody>\n",
       "    <tr>\n",
       "      <th>0</th>\n",
       "      <td>Jetta Variant</td>\n",
       "      <td>Motor 4.0 Turbo</td>\n",
       "      <td>2003</td>\n",
       "      <td>44410.0</td>\n",
       "      <td>False</td>\n",
       "      <td>['Rodas de liga', 'Travas elétricas', 'Piloto ...</td>\n",
       "      <td>88078.64</td>\n",
       "    </tr>\n",
       "    <tr>\n",
       "      <th>1</th>\n",
       "      <td>Passat</td>\n",
       "      <td>Motor Diesel</td>\n",
       "      <td>1991</td>\n",
       "      <td>5712.0</td>\n",
       "      <td>False</td>\n",
       "      <td>['Central multimídia', 'Teto panorâmico', 'Fre...</td>\n",
       "      <td>106161.94</td>\n",
       "    </tr>\n",
       "    <tr>\n",
       "      <th>2</th>\n",
       "      <td>Crossfox</td>\n",
       "      <td>Motor Diesel V8</td>\n",
       "      <td>1990</td>\n",
       "      <td>37123.0</td>\n",
       "      <td>False</td>\n",
       "      <td>['Piloto automático', 'Controle de estabilidad...</td>\n",
       "      <td>72832.16</td>\n",
       "    </tr>\n",
       "    <tr>\n",
       "      <th>3</th>\n",
       "      <td>DS5</td>\n",
       "      <td>Motor 2.4 Turbo</td>\n",
       "      <td>2019</td>\n",
       "      <td>NaN</td>\n",
       "      <td>True</td>\n",
       "      <td>['Travas elétricas', '4 X 4', 'Vidros elétrico...</td>\n",
       "      <td>124549.07</td>\n",
       "    </tr>\n",
       "    <tr>\n",
       "      <th>4</th>\n",
       "      <td>Aston Martin DB4</td>\n",
       "      <td>Motor 2.4 Turbo</td>\n",
       "      <td>2006</td>\n",
       "      <td>25757.0</td>\n",
       "      <td>False</td>\n",
       "      <td>['Rodas de liga', '4 X 4', 'Central multimídia...</td>\n",
       "      <td>92612.10</td>\n",
       "    </tr>\n",
       "    <tr>\n",
       "      <th>...</th>\n",
       "      <td>...</td>\n",
       "      <td>...</td>\n",
       "      <td>...</td>\n",
       "      <td>...</td>\n",
       "      <td>...</td>\n",
       "      <td>...</td>\n",
       "      <td>...</td>\n",
       "    </tr>\n",
       "    <tr>\n",
       "      <th>253</th>\n",
       "      <td>Phantom 2013</td>\n",
       "      <td>Motor V8</td>\n",
       "      <td>2014</td>\n",
       "      <td>27505.0</td>\n",
       "      <td>False</td>\n",
       "      <td>['Controle de estabilidade', 'Piloto automátic...</td>\n",
       "      <td>51759.58</td>\n",
       "    </tr>\n",
       "    <tr>\n",
       "      <th>254</th>\n",
       "      <td>Cadillac Ciel concept</td>\n",
       "      <td>Motor V8</td>\n",
       "      <td>1991</td>\n",
       "      <td>29981.0</td>\n",
       "      <td>False</td>\n",
       "      <td>['Bancos de couro', 'Painel digital', 'Sensor ...</td>\n",
       "      <td>51667.06</td>\n",
       "    </tr>\n",
       "    <tr>\n",
       "      <th>255</th>\n",
       "      <td>Classe GLK</td>\n",
       "      <td>Motor 5.0 V8 Bi-Turbo</td>\n",
       "      <td>2002</td>\n",
       "      <td>52637.0</td>\n",
       "      <td>False</td>\n",
       "      <td>['Rodas de liga', 'Controle de tração', 'Câmbi...</td>\n",
       "      <td>68934.03</td>\n",
       "    </tr>\n",
       "    <tr>\n",
       "      <th>256</th>\n",
       "      <td>Aston Martin DB5</td>\n",
       "      <td>Motor Diesel</td>\n",
       "      <td>1996</td>\n",
       "      <td>7685.0</td>\n",
       "      <td>False</td>\n",
       "      <td>['Ar condicionado', '4 X 4', 'Câmbio automátic...</td>\n",
       "      <td>122110.90</td>\n",
       "    </tr>\n",
       "    <tr>\n",
       "      <th>257</th>\n",
       "      <td>Macan</td>\n",
       "      <td>Motor Diesel V6</td>\n",
       "      <td>1992</td>\n",
       "      <td>50188.0</td>\n",
       "      <td>False</td>\n",
       "      <td>['Central multimídia', 'Teto panorâmico', 'Vid...</td>\n",
       "      <td>90381.47</td>\n",
       "    </tr>\n",
       "  </tbody>\n",
       "</table>\n",
       "<p>258 rows × 7 columns</p>\n",
       "</div>"
      ],
      "text/plain": [
       "                      Nome                  Motor   Ano  Quilometragem  \\\n",
       "0            Jetta Variant        Motor 4.0 Turbo  2003        44410.0   \n",
       "1                   Passat           Motor Diesel  1991         5712.0   \n",
       "2                 Crossfox        Motor Diesel V8  1990        37123.0   \n",
       "3                      DS5        Motor 2.4 Turbo  2019            NaN   \n",
       "4         Aston Martin DB4        Motor 2.4 Turbo  2006        25757.0   \n",
       "..                     ...                    ...   ...            ...   \n",
       "253           Phantom 2013               Motor V8  2014        27505.0   \n",
       "254  Cadillac Ciel concept               Motor V8  1991        29981.0   \n",
       "255             Classe GLK  Motor 5.0 V8 Bi-Turbo  2002        52637.0   \n",
       "256       Aston Martin DB5           Motor Diesel  1996         7685.0   \n",
       "257                  Macan        Motor Diesel V6  1992        50188.0   \n",
       "\n",
       "     Zero_km                                         Acessórios      Valor  \n",
       "0      False  ['Rodas de liga', 'Travas elétricas', 'Piloto ...   88078.64  \n",
       "1      False  ['Central multimídia', 'Teto panorâmico', 'Fre...  106161.94  \n",
       "2      False  ['Piloto automático', 'Controle de estabilidad...   72832.16  \n",
       "3       True  ['Travas elétricas', '4 X 4', 'Vidros elétrico...  124549.07  \n",
       "4      False  ['Rodas de liga', '4 X 4', 'Central multimídia...   92612.10  \n",
       "..       ...                                                ...        ...  \n",
       "253    False  ['Controle de estabilidade', 'Piloto automátic...   51759.58  \n",
       "254    False  ['Bancos de couro', 'Painel digital', 'Sensor ...   51667.06  \n",
       "255    False  ['Rodas de liga', 'Controle de tração', 'Câmbi...   68934.03  \n",
       "256    False  ['Ar condicionado', '4 X 4', 'Câmbio automátic...  122110.90  \n",
       "257    False  ['Central multimídia', 'Teto panorâmico', 'Vid...   90381.47  \n",
       "\n",
       "[258 rows x 7 columns]"
      ]
     },
     "execution_count": 147,
     "metadata": {},
     "output_type": "execute_result"
    }
   ],
   "source": [
    "dataset"
   ]
  },
  {
   "cell_type": "code",
   "execution_count": 148,
   "id": "513d52d4",
   "metadata": {},
   "outputs": [],
   "source": [
    "# Outra forma e usar o drop na, porém vai apagar todos as linhas na \n",
    "dataset.dropna(subset = ['Quilometragem'], inplace = True)"
   ]
  },
  {
   "cell_type": "code",
   "execution_count": 149,
   "id": "5c86b251",
   "metadata": {
    "scrolled": false
   },
   "outputs": [
    {
     "data": {
      "text/html": [
       "<div>\n",
       "<style scoped>\n",
       "    .dataframe tbody tr th:only-of-type {\n",
       "        vertical-align: middle;\n",
       "    }\n",
       "\n",
       "    .dataframe tbody tr th {\n",
       "        vertical-align: top;\n",
       "    }\n",
       "\n",
       "    .dataframe thead th {\n",
       "        text-align: right;\n",
       "    }\n",
       "</style>\n",
       "<table border=\"1\" class=\"dataframe\">\n",
       "  <thead>\n",
       "    <tr style=\"text-align: right;\">\n",
       "      <th></th>\n",
       "      <th>Nome</th>\n",
       "      <th>Motor</th>\n",
       "      <th>Ano</th>\n",
       "      <th>Quilometragem</th>\n",
       "      <th>Zero_km</th>\n",
       "      <th>Acessórios</th>\n",
       "      <th>Valor</th>\n",
       "    </tr>\n",
       "  </thead>\n",
       "  <tbody>\n",
       "    <tr>\n",
       "      <th>0</th>\n",
       "      <td>Jetta Variant</td>\n",
       "      <td>Motor 4.0 Turbo</td>\n",
       "      <td>2003</td>\n",
       "      <td>44410.0</td>\n",
       "      <td>False</td>\n",
       "      <td>['Rodas de liga', 'Travas elétricas', 'Piloto ...</td>\n",
       "      <td>88078.64</td>\n",
       "    </tr>\n",
       "    <tr>\n",
       "      <th>1</th>\n",
       "      <td>Passat</td>\n",
       "      <td>Motor Diesel</td>\n",
       "      <td>1991</td>\n",
       "      <td>5712.0</td>\n",
       "      <td>False</td>\n",
       "      <td>['Central multimídia', 'Teto panorâmico', 'Fre...</td>\n",
       "      <td>106161.94</td>\n",
       "    </tr>\n",
       "    <tr>\n",
       "      <th>2</th>\n",
       "      <td>Crossfox</td>\n",
       "      <td>Motor Diesel V8</td>\n",
       "      <td>1990</td>\n",
       "      <td>37123.0</td>\n",
       "      <td>False</td>\n",
       "      <td>['Piloto automático', 'Controle de estabilidad...</td>\n",
       "      <td>72832.16</td>\n",
       "    </tr>\n",
       "    <tr>\n",
       "      <th>4</th>\n",
       "      <td>Aston Martin DB4</td>\n",
       "      <td>Motor 2.4 Turbo</td>\n",
       "      <td>2006</td>\n",
       "      <td>25757.0</td>\n",
       "      <td>False</td>\n",
       "      <td>['Rodas de liga', '4 X 4', 'Central multimídia...</td>\n",
       "      <td>92612.10</td>\n",
       "    </tr>\n",
       "    <tr>\n",
       "      <th>5</th>\n",
       "      <td>Palio Weekend</td>\n",
       "      <td>Motor 1.8 16v</td>\n",
       "      <td>2012</td>\n",
       "      <td>10728.0</td>\n",
       "      <td>False</td>\n",
       "      <td>['Sensor de estacionamento', 'Teto panorâmico'...</td>\n",
       "      <td>97497.73</td>\n",
       "    </tr>\n",
       "    <tr>\n",
       "      <th>...</th>\n",
       "      <td>...</td>\n",
       "      <td>...</td>\n",
       "      <td>...</td>\n",
       "      <td>...</td>\n",
       "      <td>...</td>\n",
       "      <td>...</td>\n",
       "      <td>...</td>\n",
       "    </tr>\n",
       "    <tr>\n",
       "      <th>253</th>\n",
       "      <td>Phantom 2013</td>\n",
       "      <td>Motor V8</td>\n",
       "      <td>2014</td>\n",
       "      <td>27505.0</td>\n",
       "      <td>False</td>\n",
       "      <td>['Controle de estabilidade', 'Piloto automátic...</td>\n",
       "      <td>51759.58</td>\n",
       "    </tr>\n",
       "    <tr>\n",
       "      <th>254</th>\n",
       "      <td>Cadillac Ciel concept</td>\n",
       "      <td>Motor V8</td>\n",
       "      <td>1991</td>\n",
       "      <td>29981.0</td>\n",
       "      <td>False</td>\n",
       "      <td>['Bancos de couro', 'Painel digital', 'Sensor ...</td>\n",
       "      <td>51667.06</td>\n",
       "    </tr>\n",
       "    <tr>\n",
       "      <th>255</th>\n",
       "      <td>Classe GLK</td>\n",
       "      <td>Motor 5.0 V8 Bi-Turbo</td>\n",
       "      <td>2002</td>\n",
       "      <td>52637.0</td>\n",
       "      <td>False</td>\n",
       "      <td>['Rodas de liga', 'Controle de tração', 'Câmbi...</td>\n",
       "      <td>68934.03</td>\n",
       "    </tr>\n",
       "    <tr>\n",
       "      <th>256</th>\n",
       "      <td>Aston Martin DB5</td>\n",
       "      <td>Motor Diesel</td>\n",
       "      <td>1996</td>\n",
       "      <td>7685.0</td>\n",
       "      <td>False</td>\n",
       "      <td>['Ar condicionado', '4 X 4', 'Câmbio automátic...</td>\n",
       "      <td>122110.90</td>\n",
       "    </tr>\n",
       "    <tr>\n",
       "      <th>257</th>\n",
       "      <td>Macan</td>\n",
       "      <td>Motor Diesel V6</td>\n",
       "      <td>1992</td>\n",
       "      <td>50188.0</td>\n",
       "      <td>False</td>\n",
       "      <td>['Central multimídia', 'Teto panorâmico', 'Vid...</td>\n",
       "      <td>90381.47</td>\n",
       "    </tr>\n",
       "  </tbody>\n",
       "</table>\n",
       "<p>197 rows × 7 columns</p>\n",
       "</div>"
      ],
      "text/plain": [
       "                      Nome                  Motor   Ano  Quilometragem  \\\n",
       "0            Jetta Variant        Motor 4.0 Turbo  2003        44410.0   \n",
       "1                   Passat           Motor Diesel  1991         5712.0   \n",
       "2                 Crossfox        Motor Diesel V8  1990        37123.0   \n",
       "4         Aston Martin DB4        Motor 2.4 Turbo  2006        25757.0   \n",
       "5            Palio Weekend          Motor 1.8 16v  2012        10728.0   \n",
       "..                     ...                    ...   ...            ...   \n",
       "253           Phantom 2013               Motor V8  2014        27505.0   \n",
       "254  Cadillac Ciel concept               Motor V8  1991        29981.0   \n",
       "255             Classe GLK  Motor 5.0 V8 Bi-Turbo  2002        52637.0   \n",
       "256       Aston Martin DB5           Motor Diesel  1996         7685.0   \n",
       "257                  Macan        Motor Diesel V6  1992        50188.0   \n",
       "\n",
       "     Zero_km                                         Acessórios      Valor  \n",
       "0      False  ['Rodas de liga', 'Travas elétricas', 'Piloto ...   88078.64  \n",
       "1      False  ['Central multimídia', 'Teto panorâmico', 'Fre...  106161.94  \n",
       "2      False  ['Piloto automático', 'Controle de estabilidad...   72832.16  \n",
       "4      False  ['Rodas de liga', '4 X 4', 'Central multimídia...   92612.10  \n",
       "5      False  ['Sensor de estacionamento', 'Teto panorâmico'...   97497.73  \n",
       "..       ...                                                ...        ...  \n",
       "253    False  ['Controle de estabilidade', 'Piloto automátic...   51759.58  \n",
       "254    False  ['Bancos de couro', 'Painel digital', 'Sensor ...   51667.06  \n",
       "255    False  ['Rodas de liga', 'Controle de tração', 'Câmbi...   68934.03  \n",
       "256    False  ['Ar condicionado', '4 X 4', 'Câmbio automátic...  122110.90  \n",
       "257    False  ['Central multimídia', 'Teto panorâmico', 'Vid...   90381.47  \n",
       "\n",
       "[197 rows x 7 columns]"
      ]
     },
     "execution_count": 149,
     "metadata": {},
     "output_type": "execute_result"
    }
   ],
   "source": [
    "dataset"
   ]
  },
  {
   "cell_type": "code",
   "execution_count": null,
   "id": "2fb34f41",
   "metadata": {},
   "outputs": [],
   "source": []
  }
 ],
 "metadata": {
  "kernelspec": {
   "display_name": "Python 3",
   "language": "python",
   "name": "python3"
  },
  "language_info": {
   "codemirror_mode": {
    "name": "ipython",
    "version": 3
   },
   "file_extension": ".py",
   "mimetype": "text/x-python",
   "name": "python",
   "nbconvert_exporter": "python",
   "pygments_lexer": "ipython3",
   "version": "3.8.8"
  }
 },
 "nbformat": 4,
 "nbformat_minor": 5
}
